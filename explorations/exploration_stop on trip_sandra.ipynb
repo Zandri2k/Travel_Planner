{
 "cells": [
  {
   "cell_type": "code",
   "execution_count": null,
   "metadata": {},
   "outputs": [],
   "source": [
    "from backend.connect_to_api import ResRobot\n",
    "from backend.trips import TripPlanner\n",
    "\n",
    "\n",
    "\n",
    "\n",
    "resrobot = ResRobot()\n",
    "\n",
    "\n",
    "origin_name=resrobot.access_id_from_location(\"Malmö\")\n"
   ]
  },
  {
   "cell_type": "code",
   "execution_count": null,
   "metadata": {},
   "outputs": [],
   "source": [
    "destination_name =resrobot.access_id_from_location(\"göteborg\")"
   ]
  },
  {
   "cell_type": "code",
   "execution_count": null,
   "metadata": {},
   "outputs": [],
   "source": []
  },
  {
   "cell_type": "code",
   "execution_count": null,
   "metadata": {},
   "outputs": [],
   "source": [
    "\n",
    "origin_id = 740098548 #Malmö\n",
    "destination_id = 740000002 #Göteborg\n",
    "location_id = 740015565\n",
    "planner = TripPlanner(origin_id, destination_id)\n",
    "\n",
    "\n",
    "\n",
    "origin_name = planner.get_location_name(origin_id)\n",
    "destination_name = planner.get_location_name(destination_id)\n",
    "\n",
    "\n",
    "\n",
    "print(f\"Total trips available between {origin_name} and {destination_name} are: {planner.number_trips}\")\n",
    "print(f\"{planner.timetable_departure}\")"
   ]
  },
  {
   "cell_type": "markdown",
   "metadata": {},
   "source": [
    "# Timetable_Departure EDA"
   ]
  },
  {
   "cell_type": "code",
   "execution_count": null,
   "metadata": {},
   "outputs": [],
   "source": [
    "planner.timetable_departure[0].keys()"
   ]
  },
  {
   "cell_type": "code",
   "execution_count": null,
   "metadata": {},
   "outputs": [],
   "source": [
    "planner.timetable_departure[0][\"Product\"]"
   ]
  },
  {
   "cell_type": "code",
   "execution_count": null,
   "metadata": {},
   "outputs": [],
   "source": [
    "planner.timetable_departure[0][\"Product\"][0].keys()"
   ]
  },
  {
   "cell_type": "code",
   "execution_count": null,
   "metadata": {},
   "outputs": [],
   "source": [
    "planner.timetable_departure[0][\"Product\"][0][\"operator\"]"
   ]
  },
  {
   "cell_type": "code",
   "execution_count": null,
   "metadata": {},
   "outputs": [],
   "source": [
    "planner.trips[0].keys() #visualiserar alla KEYS för trips"
   ]
  },
  {
   "cell_type": "code",
   "execution_count": null,
   "metadata": {},
   "outputs": [],
   "source": [
    "planner.timetable_departure[0]"
   ]
  },
  {
   "cell_type": "markdown",
   "metadata": {},
   "source": [
    "# Trips EDA"
   ]
  },
  {
   "cell_type": "code",
   "execution_count": null,
   "metadata": {},
   "outputs": [],
   "source": [
    "planner.trips[0].keys() #visualiserar alla KEYS för trips"
   ]
  },
  {
   "cell_type": "code",
   "execution_count": null,
   "metadata": {},
   "outputs": [],
   "source": [
    "len(planner.trips)"
   ]
  },
  {
   "cell_type": "code",
   "execution_count": null,
   "metadata": {},
   "outputs": [],
   "source": [
    "planner.trips[0][\"LegList\"][\"Leg\"][0].keys()"
   ]
  },
  {
   "cell_type": "code",
   "execution_count": null,
   "metadata": {},
   "outputs": [],
   "source": [
    "planner.trips[0][\"LegList\"][\"Leg\"][0][\"Product\"][0][\"operator\"] #Operator in trips"
   ]
  },
  {
   "cell_type": "code",
   "execution_count": null,
   "metadata": {},
   "outputs": [],
   "source": [
    "len(planner.trips[0][\"LegList\"][\"Leg\"])"
   ]
  },
  {
   "cell_type": "code",
   "execution_count": null,
   "metadata": {},
   "outputs": [],
   "source": []
  },
  {
   "cell_type": "code",
   "execution_count": null,
   "metadata": {},
   "outputs": [],
   "source": [
    "planner.trips[0][\"LegList\"][\"Leg\"]"
   ]
  },
  {
   "cell_type": "code",
   "execution_count": null,
   "metadata": {},
   "outputs": [],
   "source": [
    "len(planner.trips[0][\"rtDuration\"]) # duration on train #"
   ]
  },
  {
   "cell_type": "code",
   "execution_count": null,
   "metadata": {},
   "outputs": [],
   "source": [
    "planner.trips[0][\"Origin\"][\"time\"] #departure time"
   ]
  },
  {
   "cell_type": "code",
   "execution_count": null,
   "metadata": {},
   "outputs": [],
   "source": [
    "planner.trips[0][\"Destination\"][\"time\"] #arrival time"
   ]
  },
  {
   "cell_type": "code",
   "execution_count": null,
   "metadata": {},
   "outputs": [],
   "source": [
    "planner.trips[0][\"duration\"] #total time for trip in ISO8601 format"
   ]
  },
  {
   "cell_type": "code",
   "execution_count": null,
   "metadata": {},
   "outputs": [],
   "source": [
    "planner.trips[0][\"LegList\"][\"Leg\"][0][\"Product\"]"
   ]
  },
  {
   "cell_type": "code",
   "execution_count": null,
   "metadata": {},
   "outputs": [],
   "source": [
    "planner.trips[0][\"Origin\"][\"minimumChangeDuration\"]"
   ]
  },
  {
   "cell_type": "code",
   "execution_count": null,
   "metadata": {},
   "outputs": [],
   "source": [
    "planner.trips[0][\"LegList\"][\"Leg\"][0].keys()"
   ]
  },
  {
   "cell_type": "code",
   "execution_count": null,
   "metadata": {},
   "outputs": [],
   "source": [
    "# lista på stoppen mellan malmö och gbg\n",
    "import pandas as pd\n",
    "Stops_next_trip = planner.trips[0][\"LegList\"][\"Leg\"][0][\"Stops\"][\"Stop\"]\n",
    "pd.DataFrame(Stops_next_trip)"
   ]
  },
  {
   "cell_type": "code",
   "execution_count": null,
   "metadata": {},
   "outputs": [],
   "source": [
    "trip = planner.trips[1] \n",
    "\n",
    "stops_count = planner.def_stops_on_trip(trip)\n",
    "\n",
    "print(f\"The first trip has {stops_count} stops.\")\n"
   ]
  },
  {
   "cell_type": "code",
   "execution_count": null,
   "metadata": {},
   "outputs": [],
   "source": [
    "\n",
    "origin_id = 740098548  # Malmö\n",
    "destination_id = 740000002  # Göteborg\n",
    "\n",
    "planner = TripPlanner(origin_id, destination_id)\n",
    "\n",
    "origin_name = planner.get_location_name(origin_id)\n",
    "destination_name = planner.get_location_name(destination_id)\n",
    "\n",
    "#trips available with stops and duration\n",
    "\n",
    "print(f\"Total trips available between {origin_name} and {destination_name} are: {planner.number_trips}\")\n",
    "print(hasattr(planner, \"changes_on_trip\"))  # Should return True if the method is present\n",
    "\n",
    "for index, (trip, departure) in enumerate (zip(planner.trips, planner.timetable_departure)):\n",
    "    duration = trip.get(\"duration\", \"unknown\")\n",
    "    departure =trip.get(\"Origin\", {}).get(\"time\", \"unknown\")\n",
    "    ArrTime = trip.get(\"Destination\", {}).get(\"time\",\"unknown\")\n",
    "    Operator = trip[\"LegList\"][\"Leg\"][0][\"Product\"][0][\"operator\"]\n",
    "    ChangeDuration = trip[\"Origin\"][\"minimumChangeDuration\"]\n",
    "\n",
    "    stops_count = planner.def_stops_on_trip(trip)\n",
    "    trip_changes = planner.changes_on_trip(index)\n",
    "    print(f\"Trip {index + 1} between {origin_name} and {destination_name} has {stops_count} stops. Duration : {duration} departure: {departure} Time of arrival:{ArrTime} Operator: {Operator} Changes: {trip_changes} change duration: {ChangeDuration}\" ) \n",
    "   "
   ]
  },
  {
   "cell_type": "code",
   "execution_count": null,
   "metadata": {},
   "outputs": [],
   "source": [
    "for index, trip in enumerate(planner.trips):\n",
    "    try:\n",
    "        # Extract stops for this specific trip into Stops_next_trip\n",
    "        Stops_next_trip = trip[\"LegList\"][\"Leg\"][0][\"Stops\"][\"Stop\"]\n",
    "        df_stops = pd.DataFrame(Stops_next_trip)  # DataFrame already created here\n",
    "\n",
    "        # Get the number of stops using def_stops_on_trip\n",
    "        stops_count = planner.def_stops_on_trip(trip)\n",
    "\n",
    "        # Print trip details\n",
    "        print(f\"Trip {index + 1} between {origin_name} and {destination_name} has {stops_count} stops.\")\n",
    "        print(f\"Stops DataFrame for Trip {index + 1}:\\n\", df_stops)  # Use DataFrame for exploration\n",
    "\n",
    "    except (KeyError, IndexError) as e:\n",
    "        print(f\"Error processing trip {index + 1}: {e}\")\n"
   ]
  }
 ],
 "metadata": {
  "kernelspec": {
   "display_name": ".venv",
   "language": "python",
   "name": "python3"
  },
  "language_info": {
   "codemirror_mode": {
    "name": "ipython",
    "version": 3
   },
   "file_extension": ".py",
   "mimetype": "text/x-python",
   "name": "python",
   "nbconvert_exporter": "python",
   "pygments_lexer": "ipython3",
   "version": "3.11.7"
  }
 },
 "nbformat": 4,
 "nbformat_minor": 2
}
