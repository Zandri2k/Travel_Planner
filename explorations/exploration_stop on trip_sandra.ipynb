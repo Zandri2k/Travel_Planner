{
 "cells": [
  {
   "cell_type": "code",
   "execution_count": 1,
   "metadata": {},
   "outputs": [
    {
     "name": "stdout",
     "output_type": "stream",
     "text": [
      "Name                                               extId\n",
      "MALMÖ                                              740098548\n",
      "Malmö Centralstation                               740000003\n",
      "Malmö Triangeln station                            740001587\n",
      "Malmö Hyllie station                               740001586\n",
      "Malmö Svågertorp station                           740001546\n",
      "Malmö Persborg station                             740001486\n",
      "Malmö Rosengård station                            740001621\n",
      "Malmö Östervärn station                            740001483\n",
      "Malmö Fosieby station                              740001553\n",
      "Malmö C Norra Vallgatan                            740072050\n"
     ]
    }
   ],
   "source": [
    "from backend.connect_to_api import ResRobot\n",
    "from backend.trips import TripPlanner\n",
    "\n",
    "\n",
    "\n",
    "resrobot = ResRobot()\n",
    "\n",
    "\n",
    "origin_name=resrobot.access_id_from_location(\"Malmö\")\n"
   ]
  },
  {
   "cell_type": "code",
   "execution_count": 2,
   "metadata": {},
   "outputs": [
    {
     "name": "stdout",
     "output_type": "stream",
     "text": [
      "Name                                               extId\n",
      "GÖTEBORG                                           740098001\n",
      "Göteborg Centralstation                            740000002\n",
      "Göteborg Sävenäs lokstation                        740016365\n",
      "GÖTEBORG GAMLESTADEN                               740098526\n",
      "Göteborg Korsvägen                                 740015578\n",
      "Göteborg Kungsportsplatsen                         740016358\n",
      "Göteborg Stenpiren                                 740072430\n",
      "Göteborg Eketrägatan                               740025624\n",
      "Göteborg Vårväderstorget                           740025707\n",
      "Göteborg Axel Dahlströms torg                      740025608\n"
     ]
    }
   ],
   "source": [
    "destination_name =resrobot.access_id_from_location(\"göteborg\")"
   ]
  },
  {
   "cell_type": "code",
   "execution_count": null,
   "metadata": {},
   "outputs": [],
   "source": []
  },
  {
   "cell_type": "code",
   "execution_count": 3,
   "metadata": {},
   "outputs": [
    {
     "name": "stdout",
     "output_type": "stream",
     "text": [
      "Total trips available between MALMÖ and Göteborg Centralstation are: 5\n",
      "[{'JourneyDetailRef': {'ref': '1|19684|7|1|29012025'}, 'JourneyStatus': 'P', 'ProductAtStop': {'icon': {'res': 'prod_gen'}, 'operatorInfo': {'name': 'Västtrafik', 'nameS': '279', 'nameN': '279', 'nameL': 'Västtrafik', 'id': '279'}, 'name': 'Länstrafik - Spårväg 7', 'internalName': 'Länstrafik - Spårväg 7', 'displayNumber': '7', 'num': '7', 'line': '7', 'lineId': '1279500700001', 'catOut': 'SLT', 'catIn': 'SLT', 'catCode': '6', 'cls': '64', 'catOutS': 'SLT', 'catOutL': 'Länstrafik - Spårväg', 'operatorCode': '279', 'operator': 'Västtrafik', 'admin': '279___', 'matchId': '7;5007;4742'}, 'Product': [{'icon': {'res': 'prod_gen'}, 'operatorInfo': {'name': 'Västtrafik', 'nameS': '279', 'nameN': '279', 'nameL': 'Västtrafik', 'id': '279'}, 'name': 'Länstrafik - Spårväg 7', 'internalName': 'Länstrafik - Spårväg 7', 'displayNumber': '7', 'num': '7', 'line': '7', 'lineId': '1279500700001', 'catOut': 'SLT', 'catIn': 'SLT', 'catCode': '6', 'cls': '64', 'catOutS': 'SLT', 'catOutL': 'Länstrafik - Spårväg', 'operatorCode': '279', 'operator': 'Västtrafik', 'admin': '279___', 'routeIdxFrom': 31, 'routeIdxTo': 34, 'matchId': '7;5007;4742'}], 'Notes': {'Note': [{'value': 'Lag 2015:953 tillämpas', 'key': 'EG', 'type': 'A', 'routeIdxFrom': 31, 'routeIdxTo': 34, 'txtN': 'Lag 2015:953 tillämpas'}]}, 'name': 'Länstrafik - Spårväg 7', 'type': 'ST', 'stop': 'Frölunda torg (Göteborg kn)', 'stopid': 'A=1@O=Frölunda torg (Göteborg kn)@X=11909745@Y=57652623@U=1@L=740015565@', 'stopExtId': '740015565', 'lon': 11.909745, 'lat': 57.652623, 'time': '10:16:00', 'date': '2025-01-29', 'reachable': True, 'direction': 'Tynnered Opaltorget (Göteborg kn)', 'directionFlag': '2'}, {'JourneyDetailRef': {'ref': '1|19480|0|1|29012025'}, 'JourneyStatus': 'P', 'ProductAtStop': {'icon': {'res': 'prod_gen'}, 'operatorInfo': {'name': 'Västtrafik', 'nameS': '279', 'nameN': '279', 'nameL': 'Västtrafik', 'id': '279'}, 'name': 'Länstrafik - Spårväg 7', 'internalName': 'Länstrafik - Spårväg 7', 'displayNumber': '7', 'num': '7', 'line': '7', 'lineId': '1279500700001', 'catOut': 'SLT', 'catIn': 'SLT', 'catCode': '6', 'cls': '64', 'catOutS': 'SLT', 'catOutL': 'Länstrafik - Spårväg', 'operatorCode': '279', 'operator': 'Västtrafik', 'admin': '279___', 'matchId': '7;5007;4843'}, 'Product': [{'icon': {'res': 'prod_gen'}, 'operatorInfo': {'name': 'Västtrafik', 'nameS': '279', 'nameN': '279', 'nameL': 'Västtrafik', 'id': '279'}, 'name': 'Länstrafik - Spårväg 7', 'internalName': 'Länstrafik - Spårväg 7', 'displayNumber': '7', 'num': '7', 'line': '7', 'lineId': '1279500700001', 'catOut': 'SLT', 'catIn': 'SLT', 'catCode': '6', 'cls': '64', 'catOutS': 'SLT', 'catOutL': 'Länstrafik - Spårväg', 'operatorCode': '279', 'operator': 'Västtrafik', 'admin': '279___', 'routeIdxFrom': 3, 'routeIdxTo': 34, 'matchId': '7;5007;4843'}], 'Notes': {'Note': [{'value': 'Lag 2015:953 tillämpas', 'key': 'EG', 'type': 'A', 'routeIdxFrom': 3, 'routeIdxTo': 34, 'txtN': 'Lag 2015:953 tillämpas'}]}, 'name': 'Länstrafik - Spårväg 7', 'type': 'ST', 'stop': 'Frölunda torg (Göteborg kn)', 'stopid': 'A=1@O=Frölunda torg (Göteborg kn)@X=11909745@Y=57652623@U=1@L=740015565@', 'stopExtId': '740015565', 'lon': 11.909745, 'lat': 57.652623, 'time': '10:19:00', 'date': '2025-01-29', 'reachable': True, 'direction': 'Bergsjön Komettorget (Göteborg kn)', 'directionFlag': '1'}, {'JourneyDetailRef': {'ref': '1|13770|1|1|29012025'}, 'JourneyStatus': 'P', 'ProductAtStop': {'icon': {'res': 'prod_gen'}, 'operatorInfo': {'name': 'Västtrafik', 'nameS': '279', 'nameN': '279', 'nameL': 'Västtrafik', 'id': '279'}, 'name': 'Länstrafik - Buss 99', 'internalName': 'Länstrafik - Buss 99', 'displayNumber': '99', 'num': '99', 'line': '99', 'lineId': '1279509900001', 'catOut': 'BLT', 'catIn': 'BLT', 'catCode': '7', 'cls': '128', 'catOutS': 'BLT', 'catOutL': 'Länstrafik - Buss', 'operatorCode': '279', 'operator': 'Västtrafik', 'admin': '279___', 'matchId': '99;5099;83'}, 'Product': [{'icon': {'res': 'prod_gen'}, 'operatorInfo': {'name': 'Västtrafik', 'nameS': '279', 'nameN': '279', 'nameL': 'Västtrafik', 'id': '279'}, 'name': 'Länstrafik - Buss 99', 'internalName': 'Länstrafik - Buss 99', 'displayNumber': '99', 'num': '99', 'line': '99', 'lineId': '1279509900001', 'catOut': 'BLT', 'catIn': 'BLT', 'catCode': '7', 'cls': '128', 'catOutS': 'BLT', 'catOutL': 'Länstrafik - Buss', 'operatorCode': '279', 'operator': 'Västtrafik', 'admin': '279___', 'routeIdxFrom': 0, 'routeIdxTo': 13, 'matchId': '99;5099;83'}], 'Notes': {'Note': [{'value': 'Lag 2015:953 tillämpas', 'key': 'EG', 'type': 'A', 'routeIdxFrom': 0, 'routeIdxTo': 13, 'txtN': 'Lag 2015:953 tillämpas'}]}, 'name': 'Länstrafik - Buss 99', 'type': 'ST', 'stop': 'Frölunda torg (Göteborg kn)', 'stopid': 'A=1@O=Frölunda torg (Göteborg kn)@X=11909745@Y=57652623@U=1@L=740015565@', 'stopExtId': '740015565', 'lon': 11.909745, 'lat': 57.652623, 'time': '10:20:00', 'date': '2025-01-29', 'reachable': True, 'direction': 'Göteborg Hjalmar Brantingspl', 'directionFlag': '1'}, {'JourneyDetailRef': {'ref': '1|31566|0|1|29012025'}, 'JourneyStatus': 'P', 'ProductAtStop': {'icon': {'res': 'prod_gen'}, 'operatorInfo': {'name': 'Västtrafik', 'nameS': '279', 'nameN': '279', 'nameL': 'Västtrafik', 'id': '279'}, 'name': 'Länstrafik - Buss 83', 'internalName': 'Länstrafik - Buss 83', 'displayNumber': '83', 'num': '83', 'line': '83', 'lineId': '1279508300001', 'catOut': 'BLT', 'catIn': 'BLT', 'catCode': '7', 'cls': '128', 'catOutS': 'BLT', 'catOutL': 'Länstrafik - Buss', 'operatorCode': '279', 'operator': 'Västtrafik', 'admin': '279___', 'matchId': '83;5083;27'}, 'Product': [{'icon': {'res': 'prod_gen'}, 'operatorInfo': {'name': 'Västtrafik', 'nameS': '279', 'nameN': '279', 'nameL': 'Västtrafik', 'id': '279'}, 'name': 'Länstrafik - Buss 83', 'internalName': 'Länstrafik - Buss 83', 'displayNumber': '83', 'num': '83', 'line': '83', 'lineId': '1279508300001', 'catOut': 'BLT', 'catIn': 'BLT', 'catCode': '7', 'cls': '128', 'catOutS': 'BLT', 'catOutL': 'Länstrafik - Buss', 'operatorCode': '279', 'operator': 'Västtrafik', 'admin': '279___', 'routeIdxFrom': 0, 'routeIdxTo': 13, 'matchId': '83;5083;27'}], 'Notes': {'Note': [{'value': 'Lag 2015:953 tillämpas', 'key': 'EG', 'type': 'A', 'routeIdxFrom': 0, 'routeIdxTo': 13, 'txtN': 'Lag 2015:953 tillämpas'}]}, 'name': 'Länstrafik - Buss 83', 'type': 'ST', 'stop': 'Frölunda torg (Göteborg kn)', 'stopid': 'A=1@O=Frölunda torg (Göteborg kn)@X=11909745@Y=57652623@U=1@L=740015565@', 'stopExtId': '740015565', 'lon': 11.909745, 'lat': 57.652623, 'time': '10:20:00', 'date': '2025-01-29', 'reachable': True, 'direction': 'Askims Svartmosse (Göteborg kn)', 'directionFlag': '1'}, {'JourneyDetailRef': {'ref': '1|38401|2|1|29012025'}, 'JourneyStatus': 'P', 'ProductAtStop': {'icon': {'res': 'prod_gen'}, 'operatorInfo': {'name': 'Västtrafik', 'nameS': '279', 'nameN': '279', 'nameL': 'Västtrafik', 'id': '279'}, 'name': 'Länstrafik - Buss 92', 'internalName': 'Länstrafik - Buss 92', 'displayNumber': '92', 'num': '92', 'line': '92', 'lineId': '1279509200001', 'catOut': 'BLT', 'catIn': 'BLT', 'catCode': '7', 'cls': '128', 'catOutS': 'BLT', 'catOutL': 'Länstrafik - Buss', 'operatorCode': '279', 'operator': 'Västtrafik', 'admin': '279___', 'matchId': '92;5092;19'}, 'Product': [{'icon': {'res': 'prod_gen'}, 'operatorInfo': {'name': 'Västtrafik', 'nameS': '279', 'nameN': '279', 'nameL': 'Västtrafik', 'id': '279'}, 'name': 'Länstrafik - Buss 92', 'internalName': 'Länstrafik - Buss 92', 'displayNumber': '92', 'num': '92', 'line': '92', 'lineId': '1279509200001', 'catOut': 'BLT', 'catIn': 'BLT', 'catCode': '7', 'cls': '128', 'catOutS': 'BLT', 'catOutL': 'Länstrafik - Buss', 'operatorCode': '279', 'operator': 'Västtrafik', 'admin': '279___', 'routeIdxFrom': 0, 'routeIdxTo': 9, 'matchId': '92;5092;19'}], 'Notes': {'Note': [{'value': 'Lag 2015:953 tillämpas', 'key': 'EG', 'type': 'A', 'routeIdxFrom': 0, 'routeIdxTo': 9, 'txtN': 'Lag 2015:953 tillämpas'}]}, 'name': 'Länstrafik - Buss 92', 'type': 'ST', 'stop': 'Frölunda torg (Göteborg kn)', 'stopid': 'A=1@O=Frölunda torg (Göteborg kn)@X=11909745@Y=57652623@U=1@L=740015565@', 'stopExtId': '740015565', 'lon': 11.909745, 'lat': 57.652623, 'time': '10:20:00', 'date': '2025-01-29', 'reachable': True, 'direction': 'Göteborg Näsbovägen', 'directionFlag': '1'}, {'JourneyDetailRef': {'ref': '1|84104|3|1|29012025'}, 'JourneyStatus': 'P', 'ProductAtStop': {'icon': {'res': 'prod_gen'}, 'operatorInfo': {'name': 'Västtrafik', 'nameS': '279', 'nameN': '279', 'nameL': 'Västtrafik', 'id': '279'}, 'name': 'Länstrafik - Buss 91', 'internalName': 'Länstrafik - Buss 91', 'displayNumber': '91', 'num': '91', 'line': '91', 'lineId': '1279509100001', 'catOut': 'BLT', 'catIn': 'BLT', 'catCode': '7', 'cls': '128', 'catOutS': 'BLT', 'catOutL': 'Länstrafik - Buss', 'operatorCode': '279', 'operator': 'Västtrafik', 'admin': '279___', 'matchId': '91;5091;21'}, 'Product': [{'icon': {'res': 'prod_gen'}, 'operatorInfo': {'name': 'Västtrafik', 'nameS': '279', 'nameN': '279', 'nameL': 'Västtrafik', 'id': '279'}, 'name': 'Länstrafik - Buss 91', 'internalName': 'Länstrafik - Buss 91', 'displayNumber': '91', 'num': '91', 'line': '91', 'lineId': '1279509100001', 'catOut': 'BLT', 'catIn': 'BLT', 'catCode': '7', 'cls': '128', 'catOutS': 'BLT', 'catOutL': 'Länstrafik - Buss', 'operatorCode': '279', 'operator': 'Västtrafik', 'admin': '279___', 'routeIdxFrom': 0, 'routeIdxTo': 18, 'matchId': '91;5091;21'}], 'Notes': {'Note': [{'value': 'Lag 2015:953 tillämpas', 'key': 'EG', 'type': 'A', 'routeIdxFrom': 0, 'routeIdxTo': 18, 'txtN': 'Lag 2015:953 tillämpas'}]}, 'name': 'Länstrafik - Buss 91', 'type': 'ST', 'stop': 'Frölunda torg (Göteborg kn)', 'stopid': 'A=1@O=Frölunda torg (Göteborg kn)@X=11909745@Y=57652623@U=1@L=740015565@', 'stopExtId': '740015565', 'lon': 11.909745, 'lat': 57.652623, 'time': '10:20:00', 'date': '2025-01-29', 'reachable': True, 'direction': 'Göteborg Järntorget', 'directionFlag': '1'}, {'JourneyDetailRef': {'ref': '1|103255|2|1|29012025'}, 'JourneyStatus': 'P', 'ProductAtStop': {'icon': {'res': 'prod_gen'}, 'operatorInfo': {'name': 'Västtrafik', 'nameS': '279', 'nameN': '279', 'nameL': 'Västtrafik', 'id': '279'}, 'name': 'Länstrafik - Buss 50', 'internalName': 'Länstrafik - Buss 50', 'displayNumber': '50', 'num': '50', 'line': '50', 'lineId': '1279505000001', 'catOut': 'BLT', 'catIn': 'BLT', 'catCode': '7', 'cls': '128', 'catOutS': 'BLT', 'catOutL': 'Länstrafik - Buss', 'operatorCode': '279', 'operator': 'Västtrafik', 'admin': '279___', 'matchId': '50;5050;87'}, 'Product': [{'icon': {'res': 'prod_gen'}, 'operatorInfo': {'name': 'Västtrafik', 'nameS': '279', 'nameN': '279', 'nameL': 'Västtrafik', 'id': '279'}, 'name': 'Länstrafik - Buss 50', 'internalName': 'Länstrafik - Buss 50', 'displayNumber': '50', 'num': '50', 'line': '50', 'lineId': '1279505000001', 'catOut': 'BLT', 'catIn': 'BLT', 'catCode': '7', 'cls': '128', 'catOutS': 'BLT', 'catOutL': 'Länstrafik - Buss', 'operatorCode': '279', 'operator': 'Västtrafik', 'admin': '279___', 'routeIdxFrom': 0, 'routeIdxTo': 6, 'matchId': '50;5050;87'}], 'Notes': {'Note': [{'value': 'Lag 2015:953 tillämpas', 'key': 'EG', 'type': 'A', 'routeIdxFrom': 0, 'routeIdxTo': 6, 'txtN': 'Lag 2015:953 tillämpas'}]}, 'name': 'Länstrafik - Buss 50', 'type': 'ST', 'stop': 'Frölunda torg (Göteborg kn)', 'stopid': 'A=1@O=Frölunda torg (Göteborg kn)@X=11909745@Y=57652623@U=1@L=740015565@', 'stopExtId': '740015565', 'lon': 11.909745, 'lat': 57.652623, 'time': '10:20:00', 'date': '2025-01-29', 'reachable': True, 'direction': 'Göteborg Brunnsparken', 'directionFlag': '1'}, {'JourneyDetailRef': {'ref': '1|121039|3|1|29012025'}, 'JourneyStatus': 'P', 'ProductAtStop': {'icon': {'res': 'prod_gen'}, 'operatorInfo': {'name': 'Västtrafik', 'nameS': '279', 'nameN': '279', 'nameL': 'Västtrafik', 'id': '279'}, 'name': 'Länstrafik - Buss 90', 'internalName': 'Länstrafik - Buss 90', 'displayNumber': '90', 'num': '90', 'line': '90', 'lineId': '1279509000001', 'catOut': 'BLT', 'catIn': 'BLT', 'catCode': '7', 'cls': '128', 'catOutS': 'BLT', 'catOutL': 'Länstrafik - Buss', 'operatorCode': '279', 'operator': 'Västtrafik', 'admin': '279___', 'matchId': '90;5090;21'}, 'Product': [{'icon': {'res': 'prod_gen'}, 'operatorInfo': {'name': 'Västtrafik', 'nameS': '279', 'nameN': '279', 'nameL': 'Västtrafik', 'id': '279'}, 'name': 'Länstrafik - Buss 90', 'internalName': 'Länstrafik - Buss 90', 'displayNumber': '90', 'num': '90', 'line': '90', 'lineId': '1279509000001', 'catOut': 'BLT', 'catIn': 'BLT', 'catCode': '7', 'cls': '128', 'catOutS': 'BLT', 'catOutL': 'Länstrafik - Buss', 'operatorCode': '279', 'operator': 'Västtrafik', 'admin': '279___', 'routeIdxFrom': 0, 'routeIdxTo': 30, 'matchId': '90;5090;21'}], 'Notes': {'Note': [{'value': 'Lag 2015:953 tillämpas', 'key': 'EG', 'type': 'A', 'routeIdxFrom': 0, 'routeIdxTo': 30, 'txtN': 'Lag 2015:953 tillämpas'}]}, 'name': 'Länstrafik - Buss 90', 'type': 'ST', 'stop': 'Frölunda torg (Göteborg kn)', 'stopid': 'A=1@O=Frölunda torg (Göteborg kn)@X=11909745@Y=57652623@U=1@L=740015565@', 'stopExtId': '740015565', 'lon': 11.909745, 'lat': 57.652623, 'time': '10:20:00', 'date': '2025-01-29', 'reachable': True, 'direction': 'Göteborg Järntorget', 'directionFlag': '1'}, {'JourneyDetailRef': {'ref': '1|155585|1|1|29012025'}, 'JourneyStatus': 'P', 'ProductAtStop': {'icon': {'res': 'prod_gen'}, 'operatorInfo': {'name': 'Västtrafik', 'nameS': '279', 'nameN': '279', 'nameL': 'Västtrafik', 'id': '279'}, 'name': 'Länstrafik - Spårväg 1', 'internalName': 'Länstrafik - Spårväg 1', 'displayNumber': '1', 'num': '1', 'line': '1', 'lineId': '1279500100001', 'catOut': 'SLT', 'catIn': 'SLT', 'catCode': '6', 'cls': '64', 'catOutS': 'SLT', 'catOutL': 'Länstrafik - Spårväg', 'operatorCode': '279', 'operator': 'Västtrafik', 'admin': '279___', 'matchId': '1;5001;4855'}, 'Product': [{'icon': {'res': 'prod_gen'}, 'operatorInfo': {'name': 'Västtrafik', 'nameS': '279', 'nameN': '279', 'nameL': 'Västtrafik', 'id': '279'}, 'name': 'Länstrafik - Spårväg 1', 'internalName': 'Länstrafik - Spårväg 1', 'displayNumber': '1', 'num': '1', 'line': '1', 'lineId': '1279500100001', 'catOut': 'SLT', 'catIn': 'SLT', 'catCode': '6', 'cls': '64', 'catOutS': 'SLT', 'catOutL': 'Länstrafik - Spårväg', 'operatorCode': '279', 'operator': 'Västtrafik', 'admin': '279___', 'routeIdxFrom': 3, 'routeIdxTo': 28, 'matchId': '1;5001;4855'}], 'Notes': {'Note': [{'value': 'Lag 2015:953 tillämpas', 'key': 'EG', 'type': 'A', 'routeIdxFrom': 3, 'routeIdxTo': 28, 'txtN': 'Lag 2015:953 tillämpas'}]}, 'name': 'Länstrafik - Spårväg 1', 'type': 'ST', 'stop': 'Frölunda torg (Göteborg kn)', 'stopid': 'A=1@O=Frölunda torg (Göteborg kn)@X=11909745@Y=57652623@U=1@L=740015565@', 'stopExtId': '740015565', 'lon': 11.909745, 'lat': 57.652623, 'time': '10:21:00', 'date': '2025-01-29', 'reachable': True, 'direction': 'Göteborg Östra sjukhuset', 'directionFlag': '1'}, {'JourneyDetailRef': {'ref': '1|19684|8|1|29012025'}, 'JourneyStatus': 'P', 'ProductAtStop': {'icon': {'res': 'prod_gen'}, 'operatorInfo': {'name': 'Västtrafik', 'nameS': '279', 'nameN': '279', 'nameL': 'Västtrafik', 'id': '279'}, 'name': 'Länstrafik - Spårväg 7', 'internalName': 'Länstrafik - Spårväg 7', 'displayNumber': '7', 'num': '7', 'line': '7', 'lineId': '1279500700001', 'catOut': 'SLT', 'catIn': 'SLT', 'catCode': '6', 'cls': '64', 'catOutS': 'SLT', 'catOutL': 'Länstrafik - Spårväg', 'operatorCode': '279', 'operator': 'Västtrafik', 'admin': '279___', 'matchId': '7;5007;4762'}, 'Product': [{'icon': {'res': 'prod_gen'}, 'operatorInfo': {'name': 'Västtrafik', 'nameS': '279', 'nameN': '279', 'nameL': 'Västtrafik', 'id': '279'}, 'name': 'Länstrafik - Spårväg 7', 'internalName': 'Länstrafik - Spårväg 7', 'displayNumber': '7', 'num': '7', 'line': '7', 'lineId': '1279500700001', 'catOut': 'SLT', 'catIn': 'SLT', 'catCode': '6', 'cls': '64', 'catOutS': 'SLT', 'catOutL': 'Länstrafik - Spårväg', 'operatorCode': '279', 'operator': 'Västtrafik', 'admin': '279___', 'routeIdxFrom': 31, 'routeIdxTo': 34, 'matchId': '7;5007;4762'}], 'Notes': {'Note': [{'value': 'Lag 2015:953 tillämpas', 'key': 'EG', 'type': 'A', 'routeIdxFrom': 31, 'routeIdxTo': 34, 'txtN': 'Lag 2015:953 tillämpas'}]}, 'name': 'Länstrafik - Spårväg 7', 'type': 'ST', 'stop': 'Frölunda torg (Göteborg kn)', 'stopid': 'A=1@O=Frölunda torg (Göteborg kn)@X=11909745@Y=57652623@U=1@L=740015565@', 'stopExtId': '740015565', 'lon': 11.909745, 'lat': 57.652623, 'time': '10:24:00', 'date': '2025-01-29', 'reachable': True, 'direction': 'Tynnered Opaltorget (Göteborg kn)', 'directionFlag': '2'}, {'JourneyDetailRef': {'ref': '1|64592|5|1|29012025'}, 'JourneyStatus': 'P', 'ProductAtStop': {'icon': {'res': 'prod_gen'}, 'operatorInfo': {'name': 'Västtrafik', 'nameS': '279', 'nameN': '279', 'nameL': 'Västtrafik', 'id': '279'}, 'name': 'Länstrafik - Spårväg 8', 'internalName': 'Länstrafik - Spårväg 8', 'displayNumber': '8', 'num': '8', 'line': '8', 'lineId': '1279500800001', 'catOut': 'SLT', 'catIn': 'SLT', 'catCode': '6', 'cls': '64', 'catOutS': 'SLT', 'catOutL': 'Länstrafik - Spårväg', 'operatorCode': '279', 'operator': 'Västtrafik', 'admin': '279___', 'matchId': '8;5008;4867'}, 'Product': [{'icon': {'res': 'prod_gen'}, 'operatorInfo': {'name': 'Västtrafik', 'nameS': '279', 'nameN': '279', 'nameL': 'Västtrafik', 'id': '279'}, 'name': 'Länstrafik - Spårväg 8', 'internalName': 'Länstrafik - Spårväg 8', 'displayNumber': '8', 'num': '8', 'line': '8', 'lineId': '1279500800001', 'catOut': 'SLT', 'catIn': 'SLT', 'catCode': '6', 'cls': '64', 'catOutS': 'SLT', 'catOutL': 'Länstrafik - Spårväg', 'operatorCode': '279', 'operator': 'Västtrafik', 'admin': '279___', 'routeIdxFrom': 0, 'routeIdxTo': 24, 'matchId': '8;5008;4867'}], 'Notes': {'Note': [{'value': 'Lag 2015:953 tillämpas', 'key': 'EG', 'type': 'A', 'routeIdxFrom': 0, 'routeIdxTo': 24, 'txtN': 'Lag 2015:953 tillämpas'}]}, 'name': 'Länstrafik - Spårväg 8', 'type': 'ST', 'stop': 'Frölunda torg (Göteborg kn)', 'stopid': 'A=1@O=Frölunda torg (Göteborg kn)@X=11909745@Y=57652623@U=1@L=740015565@', 'stopExtId': '740015565', 'lon': 11.909745, 'lat': 57.652623, 'time': '10:25:00', 'date': '2025-01-29', 'reachable': True, 'direction': 'Angered centrum (Göteborg kn)', 'directionFlag': '1'}, {'JourneyDetailRef': {'ref': '1|155819|2|1|29012025'}, 'JourneyStatus': 'P', 'ProductAtStop': {'icon': {'res': 'prod_gen'}, 'operatorInfo': {'name': 'Västtrafik', 'nameS': '279', 'nameN': '279', 'nameL': 'Västtrafik', 'id': '279'}, 'name': 'Länstrafik - Spårväg 1', 'internalName': 'Länstrafik - Spårväg 1', 'displayNumber': '1', 'num': '1', 'line': '1', 'lineId': '1279500100001', 'catOut': 'SLT', 'catIn': 'SLT', 'catCode': '6', 'cls': '64', 'catOutS': 'SLT', 'catOutL': 'Länstrafik - Spårväg', 'operatorCode': '279', 'operator': 'Västtrafik', 'admin': '279___', 'matchId': '1;5001;4788'}, 'Product': [{'icon': {'res': 'prod_gen'}, 'operatorInfo': {'name': 'Västtrafik', 'nameS': '279', 'nameN': '279', 'nameL': 'Västtrafik', 'id': '279'}, 'name': 'Länstrafik - Spårväg 1', 'internalName': 'Länstrafik - Spårväg 1', 'displayNumber': '1', 'num': '1', 'line': '1', 'lineId': '1279500100001', 'catOut': 'SLT', 'catIn': 'SLT', 'catCode': '6', 'cls': '64', 'catOutS': 'SLT', 'catOutL': 'Länstrafik - Spårväg', 'operatorCode': '279', 'operator': 'Västtrafik', 'admin': '279___', 'routeIdxFrom': 25, 'routeIdxTo': 28, 'matchId': '1;5001;4788'}], 'Notes': {'Note': [{'value': 'Lag 2015:953 tillämpas', 'key': 'EG', 'type': 'A', 'routeIdxFrom': 25, 'routeIdxTo': 28, 'txtN': 'Lag 2015:953 tillämpas'}]}, 'name': 'Länstrafik - Spårväg 1', 'type': 'ST', 'stop': 'Frölunda torg (Göteborg kn)', 'stopid': 'A=1@O=Frölunda torg (Göteborg kn)@X=11909745@Y=57652623@U=1@L=740015565@', 'stopExtId': '740015565', 'lon': 11.909745, 'lat': 57.652623, 'time': '10:26:00', 'date': '2025-01-29', 'reachable': True, 'direction': 'Tynnered Opaltorget (Göteborg kn)', 'directionFlag': '2'}, {'JourneyDetailRef': {'ref': '1|19481|0|1|29012025'}, 'JourneyStatus': 'P', 'ProductAtStop': {'icon': {'res': 'prod_gen'}, 'operatorInfo': {'name': 'Västtrafik', 'nameS': '279', 'nameN': '279', 'nameL': 'Västtrafik', 'id': '279'}, 'name': 'Länstrafik - Spårväg 7', 'internalName': 'Länstrafik - Spårväg 7', 'displayNumber': '7', 'num': '7', 'line': '7', 'lineId': '1279500700001', 'catOut': 'SLT', 'catIn': 'SLT', 'catCode': '6', 'cls': '64', 'catOutS': 'SLT', 'catOutL': 'Länstrafik - Spårväg', 'operatorCode': '279', 'operator': 'Västtrafik', 'admin': '279___', 'matchId': '7;5007;4863'}, 'Product': [{'icon': {'res': 'prod_gen'}, 'operatorInfo': {'name': 'Västtrafik', 'nameS': '279', 'nameN': '279', 'nameL': 'Västtrafik', 'id': '279'}, 'name': 'Länstrafik - Spårväg 7', 'internalName': 'Länstrafik - Spårväg 7', 'displayNumber': '7', 'num': '7', 'line': '7', 'lineId': '1279500700001', 'catOut': 'SLT', 'catIn': 'SLT', 'catCode': '6', 'cls': '64', 'catOutS': 'SLT', 'catOutL': 'Länstrafik - Spårväg', 'operatorCode': '279', 'operator': 'Västtrafik', 'admin': '279___', 'routeIdxFrom': 3, 'routeIdxTo': 34, 'matchId': '7;5007;4863'}], 'Notes': {'Note': [{'value': 'Lag 2015:953 tillämpas', 'key': 'EG', 'type': 'A', 'routeIdxFrom': 3, 'routeIdxTo': 34, 'txtN': 'Lag 2015:953 tillämpas'}]}, 'name': 'Länstrafik - Spårväg 7', 'type': 'ST', 'stop': 'Frölunda torg (Göteborg kn)', 'stopid': 'A=1@O=Frölunda torg (Göteborg kn)@X=11909745@Y=57652623@U=1@L=740015565@', 'stopExtId': '740015565', 'lon': 11.909745, 'lat': 57.652623, 'time': '10:27:00', 'date': '2025-01-29', 'reachable': True, 'direction': 'Bergsjön Komettorget (Göteborg kn)', 'directionFlag': '1'}, {'JourneyDetailRef': {'ref': '1|180801|1|1|29012025'}, 'JourneyStatus': 'P', 'ProductAtStop': {'icon': {'res': 'prod_gen'}, 'operatorInfo': {'name': 'Västtrafik', 'nameS': '279', 'nameN': '279', 'nameL': 'Västtrafik', 'id': '279'}, 'name': 'Länstrafik - Buss LILA', 'internalName': 'Länstrafik - Buss LILA', 'displayNumber': 'LILA', 'num': 'LILA', 'line': 'LILA', 'lineId': '1279620400001', 'catOut': 'BLT', 'catIn': 'BLT', 'catCode': '7', 'cls': '128', 'catOutS': 'BLT', 'catOutL': 'Länstrafik - Buss', 'operatorCode': '279', 'operator': 'Västtrafik', 'admin': '279___', 'matchId': 'LILA;6204;46'}, 'Product': [{'icon': {'res': 'prod_gen'}, 'operatorInfo': {'name': 'Västtrafik', 'nameS': '279', 'nameN': '279', 'nameL': 'Västtrafik', 'id': '279'}, 'name': 'Länstrafik - Buss LILA', 'internalName': 'Länstrafik - Buss LILA', 'displayNumber': 'LILA', 'num': 'LILA', 'line': 'LILA', 'lineId': '1279620400001', 'catOut': 'BLT', 'catIn': 'BLT', 'catCode': '7', 'cls': '128', 'catOutS': 'BLT', 'catOutL': 'Länstrafik - Buss', 'operatorCode': '279', 'operator': 'Västtrafik', 'admin': '279___', 'routeIdxFrom': 18, 'routeIdxTo': 24, 'matchId': 'LILA;6204;46'}], 'Notes': {'Note': [{'value': 'Lag 2015:953 tillämpas', 'key': 'EG', 'type': 'A', 'routeIdxFrom': 18, 'routeIdxTo': 24, 'txtN': 'Lag 2015:953 tillämpas'}]}, 'name': 'Länstrafik - Buss LILA', 'type': 'ST', 'stop': 'Frölunda torg (Göteborg kn)', 'stopid': 'A=1@O=Frölunda torg (Göteborg kn)@X=11909745@Y=57652623@U=1@L=740015565@', 'stopExtId': '740015565', 'lon': 11.909745, 'lat': 57.652623, 'time': '10:27:00', 'date': '2025-01-29', 'reachable': True, 'direction': 'Amhult Resecentrum (Göteborg kn)', 'directionFlag': '2'}, {'JourneyDetailRef': {'ref': '1|13778|1|1|29012025'}, 'JourneyStatus': 'P', 'ProductAtStop': {'icon': {'res': 'prod_gen'}, 'operatorInfo': {'name': 'Västtrafik', 'nameS': '279', 'nameN': '279', 'nameL': 'Västtrafik', 'id': '279'}, 'name': 'Länstrafik - Buss 99', 'internalName': 'Länstrafik - Buss 99', 'displayNumber': '99', 'num': '99', 'line': '99', 'lineId': '1279509900001', 'catOut': 'BLT', 'catIn': 'BLT', 'catCode': '7', 'cls': '128', 'catOutS': 'BLT', 'catOutL': 'Länstrafik - Buss', 'operatorCode': '279', 'operator': 'Västtrafik', 'admin': '279___', 'matchId': '99;5099;85'}, 'Product': [{'icon': {'res': 'prod_gen'}, 'operatorInfo': {'name': 'Västtrafik', 'nameS': '279', 'nameN': '279', 'nameL': 'Västtrafik', 'id': '279'}, 'name': 'Länstrafik - Buss 99', 'internalName': 'Länstrafik - Buss 99', 'displayNumber': '99', 'num': '99', 'line': '99', 'lineId': '1279509900001', 'catOut': 'BLT', 'catIn': 'BLT', 'catCode': '7', 'cls': '128', 'catOutS': 'BLT', 'catOutL': 'Länstrafik - Buss', 'operatorCode': '279', 'operator': 'Västtrafik', 'admin': '279___', 'routeIdxFrom': 0, 'routeIdxTo': 13, 'matchId': '99;5099;85'}], 'Notes': {'Note': [{'value': 'Lag 2015:953 tillämpas', 'key': 'EG', 'type': 'A', 'routeIdxFrom': 0, 'routeIdxTo': 13, 'txtN': 'Lag 2015:953 tillämpas'}]}, 'name': 'Länstrafik - Buss 99', 'type': 'ST', 'stop': 'Frölunda torg (Göteborg kn)', 'stopid': 'A=1@O=Frölunda torg (Göteborg kn)@X=11909745@Y=57652623@U=1@L=740015565@', 'stopExtId': '740015565', 'lon': 11.909745, 'lat': 57.652623, 'time': '10:30:00', 'date': '2025-01-29', 'reachable': True, 'direction': 'Göteborg Hjalmar Brantingspl', 'directionFlag': '1'}, {'JourneyDetailRef': {'ref': '1|17977|3|1|29012025'}, 'JourneyStatus': 'P', 'ProductAtStop': {'icon': {'res': 'prod_gen'}, 'operatorInfo': {'name': 'Västtrafik', 'nameS': '279', 'nameN': '279', 'nameL': 'Västtrafik', 'id': '279'}, 'name': 'Länstrafik - Buss 86', 'internalName': 'Länstrafik - Buss 86', 'displayNumber': '86', 'num': '86', 'line': '86', 'lineId': '1279508600001', 'catOut': 'BLT', 'catIn': 'BLT', 'catCode': '7', 'cls': '128', 'catOutS': 'BLT', 'catOutL': 'Länstrafik - Buss', 'operatorCode': '279', 'operator': 'Västtrafik', 'admin': '279___', 'matchId': '86;5086;27'}, 'Product': [{'icon': {'res': 'prod_gen'}, 'operatorInfo': {'name': 'Västtrafik', 'nameS': '279', 'nameN': '279', 'nameL': 'Västtrafik', 'id': '279'}, 'name': 'Länstrafik - Buss 86', 'internalName': 'Länstrafik - Buss 86', 'displayNumber': '86', 'num': '86', 'line': '86', 'lineId': '1279508600001', 'catOut': 'BLT', 'catIn': 'BLT', 'catCode': '7', 'cls': '128', 'catOutS': 'BLT', 'catOutL': 'Länstrafik - Buss', 'operatorCode': '279', 'operator': 'Västtrafik', 'admin': '279___', 'routeIdxFrom': 0, 'routeIdxTo': 23, 'matchId': '86;5086;27'}], 'Notes': {'Note': [{'value': 'Lag 2015:953 tillämpas', 'key': 'EG', 'type': 'A', 'routeIdxFrom': 0, 'routeIdxTo': 23, 'txtN': 'Lag 2015:953 tillämpas'}]}, 'name': 'Länstrafik - Buss 86', 'type': 'ST', 'stop': 'Frölunda torg (Göteborg kn)', 'stopid': 'A=1@O=Frölunda torg (Göteborg kn)@X=11909745@Y=57652623@U=1@L=740015565@', 'stopExtId': '740015565', 'lon': 11.909745, 'lat': 57.652623, 'time': '10:30:00', 'date': '2025-01-29', 'reachable': True, 'direction': 'Kallebäck (Göteborg kn)', 'directionFlag': '1'}, {'JourneyDetailRef': {'ref': '1|94771|3|1|29012025'}, 'JourneyStatus': 'P', 'ProductAtStop': {'icon': {'res': 'prod_gen'}, 'operatorInfo': {'name': 'Västtrafik', 'nameS': '279', 'nameN': '279', 'nameL': 'Västtrafik', 'id': '279'}, 'name': 'Länstrafik - Buss 95', 'internalName': 'Länstrafik - Buss 95', 'displayNumber': '95', 'num': '95', 'line': '95', 'lineId': '1279509500001', 'catOut': 'BLT', 'catIn': 'BLT', 'catCode': '7', 'cls': '128', 'catOutS': 'BLT', 'catOutL': 'Länstrafik - Buss', 'operatorCode': '279', 'operator': 'Västtrafik', 'admin': '279___', 'matchId': '95;5095;30'}, 'Product': [{'icon': {'res': 'prod_gen'}, 'operatorInfo': {'name': 'Västtrafik', 'nameS': '279', 'nameN': '279', 'nameL': 'Västtrafik', 'id': '279'}, 'name': 'Länstrafik - Buss 95', 'internalName': 'Länstrafik - Buss 95', 'displayNumber': '95', 'num': '95', 'line': '95', 'lineId': '1279509500001', 'catOut': 'BLT', 'catIn': 'BLT', 'catCode': '7', 'cls': '128', 'catOutS': 'BLT', 'catOutL': 'Länstrafik - Buss', 'operatorCode': '279', 'operator': 'Västtrafik', 'admin': '279___', 'routeIdxFrom': 0, 'routeIdxTo': 9, 'matchId': '95;5095;30'}], 'Notes': {'Note': [{'value': 'Lag 2015:953 tillämpas', 'key': 'EG', 'type': 'A', 'routeIdxFrom': 0, 'routeIdxTo': 9, 'txtN': 'Lag 2015:953 tillämpas'}]}, 'name': 'Länstrafik - Buss 95', 'type': 'ST', 'stop': 'Frölunda torg (Göteborg kn)', 'stopid': 'A=1@O=Frölunda torg (Göteborg kn)@X=11909745@Y=57652623@U=1@L=740015565@', 'stopExtId': '740015565', 'lon': 11.909745, 'lat': 57.652623, 'time': '10:30:00', 'date': '2025-01-29', 'reachable': True, 'direction': 'Göteborg Marklandsgatan', 'directionFlag': '2'}, {'JourneyDetailRef': {'ref': '1|103255|3|1|29012025'}, 'JourneyStatus': 'P', 'ProductAtStop': {'icon': {'res': 'prod_gen'}, 'operatorInfo': {'name': 'Västtrafik', 'nameS': '279', 'nameN': '279', 'nameL': 'Västtrafik', 'id': '279'}, 'name': 'Länstrafik - Buss 50', 'internalName': 'Länstrafik - Buss 50', 'displayNumber': '50', 'num': '50', 'line': '50', 'lineId': '1279505000001', 'catOut': 'BLT', 'catIn': 'BLT', 'catCode': '7', 'cls': '128', 'catOutS': 'BLT', 'catOutL': 'Länstrafik - Buss', 'operatorCode': '279', 'operator': 'Västtrafik', 'admin': '279___', 'matchId': '50;5050;89'}, 'Product': [{'icon': {'res': 'prod_gen'}, 'operatorInfo': {'name': 'Västtrafik', 'nameS': '279', 'nameN': '279', 'nameL': 'Västtrafik', 'id': '279'}, 'name': 'Länstrafik - Buss 50', 'internalName': 'Länstrafik - Buss 50', 'displayNumber': '50', 'num': '50', 'line': '50', 'lineId': '1279505000001', 'catOut': 'BLT', 'catIn': 'BLT', 'catCode': '7', 'cls': '128', 'catOutS': 'BLT', 'catOutL': 'Länstrafik - Buss', 'operatorCode': '279', 'operator': 'Västtrafik', 'admin': '279___', 'routeIdxFrom': 0, 'routeIdxTo': 6, 'matchId': '50;5050;89'}], 'Notes': {'Note': [{'value': 'Lag 2015:953 tillämpas', 'key': 'EG', 'type': 'A', 'routeIdxFrom': 0, 'routeIdxTo': 6, 'txtN': 'Lag 2015:953 tillämpas'}]}, 'name': 'Länstrafik - Buss 50', 'type': 'ST', 'stop': 'Frölunda torg (Göteborg kn)', 'stopid': 'A=1@O=Frölunda torg (Göteborg kn)@X=11909745@Y=57652623@U=1@L=740015565@', 'stopExtId': '740015565', 'lon': 11.909745, 'lat': 57.652623, 'time': '10:30:00', 'date': '2025-01-29', 'reachable': True, 'direction': 'Göteborg Brunnsparken', 'directionFlag': '1'}, {'JourneyDetailRef': {'ref': '1|130395|0|1|29012025'}, 'JourneyStatus': 'P', 'ProductAtStop': {'icon': {'res': 'prod_gen'}, 'operatorInfo': {'name': 'Västtrafik', 'nameS': '279', 'nameN': '279', 'nameL': 'Västtrafik', 'id': '279'}, 'name': 'Länstrafik - Buss 94', 'internalName': 'Länstrafik - Buss 94', 'displayNumber': '94', 'num': '94', 'line': '94', 'lineId': '1279509400001', 'catOut': 'BLT', 'catIn': 'BLT', 'catCode': '7', 'cls': '128', 'catOutS': 'BLT', 'catOutL': 'Länstrafik - Buss', 'operatorCode': '279', 'operator': 'Västtrafik', 'admin': '279___', 'matchId': '94;5094;21'}, 'Product': [{'icon': {'res': 'prod_gen'}, 'operatorInfo': {'name': 'Västtrafik', 'nameS': '279', 'nameN': '279', 'nameL': 'Västtrafik', 'id': '279'}, 'name': 'Länstrafik - Buss 94', 'internalName': 'Länstrafik - Buss 94', 'displayNumber': '94', 'num': '94', 'line': '94', 'lineId': '1279509400001', 'catOut': 'BLT', 'catIn': 'BLT', 'catCode': '7', 'cls': '128', 'catOutS': 'BLT', 'catOutL': 'Länstrafik - Buss', 'operatorCode': '279', 'operator': 'Västtrafik', 'admin': '279___', 'routeIdxFrom': 0, 'routeIdxTo': 16, 'matchId': '94;5094;21'}], 'Notes': {'Note': [{'value': 'Lag 2015:953 tillämpas', 'key': 'EG', 'type': 'A', 'routeIdxFrom': 0, 'routeIdxTo': 16, 'txtN': 'Lag 2015:953 tillämpas'}]}, 'name': 'Länstrafik - Buss 94', 'type': 'ST', 'stop': 'Frölunda torg (Göteborg kn)', 'stopid': 'A=1@O=Frölunda torg (Göteborg kn)@X=11909745@Y=57652623@U=1@L=740015565@', 'stopExtId': '740015565', 'lon': 11.909745, 'lat': 57.652623, 'time': '10:30:00', 'date': '2025-01-29', 'reachable': True, 'direction': 'Göteborg Näsbovägen', 'directionFlag': '1'}, {'JourneyDetailRef': {'ref': '1|155586|2|1|29012025'}, 'JourneyStatus': 'P', 'ProductAtStop': {'icon': {'res': 'prod_gen'}, 'operatorInfo': {'name': 'Västtrafik', 'nameS': '279', 'nameN': '279', 'nameL': 'Västtrafik', 'id': '279'}, 'name': 'Länstrafik - Spårväg 1', 'internalName': 'Länstrafik - Spårväg 1', 'displayNumber': '1', 'num': '1', 'line': '1', 'lineId': '1279500100001', 'catOut': 'SLT', 'catIn': 'SLT', 'catCode': '6', 'cls': '64', 'catOutS': 'SLT', 'catOutL': 'Länstrafik - Spårväg', 'operatorCode': '279', 'operator': 'Västtrafik', 'admin': '279___', 'matchId': '1;5001;4875'}, 'Product': [{'icon': {'res': 'prod_gen'}, 'operatorInfo': {'name': 'Västtrafik', 'nameS': '279', 'nameN': '279', 'nameL': 'Västtrafik', 'id': '279'}, 'name': 'Länstrafik - Spårväg 1', 'internalName': 'Länstrafik - Spårväg 1', 'displayNumber': '1', 'num': '1', 'line': '1', 'lineId': '1279500100001', 'catOut': 'SLT', 'catIn': 'SLT', 'catCode': '6', 'cls': '64', 'catOutS': 'SLT', 'catOutL': 'Länstrafik - Spårväg', 'operatorCode': '279', 'operator': 'Västtrafik', 'admin': '279___', 'routeIdxFrom': 3, 'routeIdxTo': 28, 'matchId': '1;5001;4875'}], 'Notes': {'Note': [{'value': 'Lag 2015:953 tillämpas', 'key': 'EG', 'type': 'A', 'routeIdxFrom': 3, 'routeIdxTo': 28, 'txtN': 'Lag 2015:953 tillämpas'}]}, 'name': 'Länstrafik - Spårväg 1', 'type': 'ST', 'stop': 'Frölunda torg (Göteborg kn)', 'stopid': 'A=1@O=Frölunda torg (Göteborg kn)@X=11909745@Y=57652623@U=1@L=740015565@', 'stopExtId': '740015565', 'lon': 11.909745, 'lat': 57.652623, 'time': '10:30:00', 'date': '2025-01-29', 'reachable': True, 'direction': 'Göteborg Östra sjukhuset', 'directionFlag': '1'}, {'JourneyDetailRef': {'ref': '1|181308|1|1|29012025'}, 'JourneyStatus': 'P', 'ProductAtStop': {'icon': {'res': 'prod_gen'}, 'operatorInfo': {'name': 'Västtrafik', 'nameS': '279', 'nameN': '279', 'nameL': 'Västtrafik', 'id': '279'}, 'name': 'Länstrafik - Buss 93', 'internalName': 'Länstrafik - Buss 93', 'displayNumber': '93', 'num': '93', 'line': '93', 'lineId': '1279509300001', 'catOut': 'BLT', 'catIn': 'BLT', 'catCode': '7', 'cls': '128', 'catOutS': 'BLT', 'catOutL': 'Länstrafik - Buss', 'operatorCode': '279', 'operator': 'Västtrafik', 'admin': '279___', 'matchId': '93;5093;19'}, 'Product': [{'icon': {'res': 'prod_gen'}, 'operatorInfo': {'name': 'Västtrafik', 'nameS': '279', 'nameN': '279', 'nameL': 'Västtrafik', 'id': '279'}, 'name': 'Länstrafik - Buss 93', 'internalName': 'Länstrafik - Buss 93', 'displayNumber': '93', 'num': '93', 'line': '93', 'lineId': '1279509300001', 'catOut': 'BLT', 'catIn': 'BLT', 'catCode': '7', 'cls': '128', 'catOutS': 'BLT', 'catOutL': 'Länstrafik - Buss', 'operatorCode': '279', 'operator': 'Västtrafik', 'admin': '279___', 'routeIdxFrom': 0, 'routeIdxTo': 6, 'matchId': '93;5093;19'}], 'Notes': {'Note': [{'value': 'Lag 2015:953 tillämpas', 'key': 'EG', 'type': 'A', 'routeIdxFrom': 0, 'routeIdxTo': 6, 'txtN': 'Lag 2015:953 tillämpas'}]}, 'name': 'Länstrafik - Buss 93', 'type': 'ST', 'stop': 'Frölunda torg (Göteborg kn)', 'stopid': 'A=1@O=Frölunda torg (Göteborg kn)@X=11909745@Y=57652623@U=1@L=740015565@', 'stopExtId': '740015565', 'lon': 11.909745, 'lat': 57.652623, 'time': '10:30:00', 'date': '2025-01-29', 'reachable': True, 'direction': 'Hultåsen (Göteborg kn)', 'directionFlag': '1'}, {'JourneyDetailRef': {'ref': '1|19684|9|1|29012025'}, 'JourneyStatus': 'P', 'ProductAtStop': {'icon': {'res': 'prod_gen'}, 'operatorInfo': {'name': 'Västtrafik', 'nameS': '279', 'nameN': '279', 'nameL': 'Västtrafik', 'id': '279'}, 'name': 'Länstrafik - Spårväg 7', 'internalName': 'Länstrafik - Spårväg 7', 'displayNumber': '7', 'num': '7', 'line': '7', 'lineId': '1279500700001', 'catOut': 'SLT', 'catIn': 'SLT', 'catCode': '6', 'cls': '64', 'catOutS': 'SLT', 'catOutL': 'Länstrafik - Spårväg', 'operatorCode': '279', 'operator': 'Västtrafik', 'admin': '279___', 'matchId': '7;5007;4780'}, 'Product': [{'icon': {'res': 'prod_gen'}, 'operatorInfo': {'name': 'Västtrafik', 'nameS': '279', 'nameN': '279', 'nameL': 'Västtrafik', 'id': '279'}, 'name': 'Länstrafik - Spårväg 7', 'internalName': 'Länstrafik - Spårväg 7', 'displayNumber': '7', 'num': '7', 'line': '7', 'lineId': '1279500700001', 'catOut': 'SLT', 'catIn': 'SLT', 'catCode': '6', 'cls': '64', 'catOutS': 'SLT', 'catOutL': 'Länstrafik - Spårväg', 'operatorCode': '279', 'operator': 'Västtrafik', 'admin': '279___', 'routeIdxFrom': 31, 'routeIdxTo': 34, 'matchId': '7;5007;4780'}], 'Notes': {'Note': [{'value': 'Lag 2015:953 tillämpas', 'key': 'EG', 'type': 'A', 'routeIdxFrom': 31, 'routeIdxTo': 34, 'txtN': 'Lag 2015:953 tillämpas'}]}, 'name': 'Länstrafik - Spårväg 7', 'type': 'ST', 'stop': 'Frölunda torg (Göteborg kn)', 'stopid': 'A=1@O=Frölunda torg (Göteborg kn)@X=11909745@Y=57652623@U=1@L=740015565@', 'stopExtId': '740015565', 'lon': 11.909745, 'lat': 57.652623, 'time': '10:32:00', 'date': '2025-01-29', 'reachable': True, 'direction': 'Tynnered Opaltorget (Göteborg kn)', 'directionFlag': '2'}, {'JourneyDetailRef': {'ref': '1|180773|2|1|29012025'}, 'JourneyStatus': 'P', 'ProductAtStop': {'icon': {'res': 'prod_gen'}, 'operatorInfo': {'name': 'Västtrafik', 'nameS': '279', 'nameN': '279', 'nameL': 'Västtrafik', 'id': '279'}, 'name': 'Länstrafik - Buss LILA', 'internalName': 'Länstrafik - Buss LILA', 'displayNumber': 'LILA', 'num': 'LILA', 'line': 'LILA', 'lineId': '1279620400001', 'catOut': 'BLT', 'catIn': 'BLT', 'catCode': '7', 'cls': '128', 'catOutS': 'BLT', 'catOutL': 'Länstrafik - Buss', 'operatorCode': '279', 'operator': 'Västtrafik', 'admin': '279___', 'matchId': 'LILA;6204;33'}, 'Product': [{'icon': {'res': 'prod_gen'}, 'operatorInfo': {'name': 'Västtrafik', 'nameS': '279', 'nameN': '279', 'nameL': 'Västtrafik', 'id': '279'}, 'name': 'Länstrafik - Buss LILA', 'internalName': 'Länstrafik - Buss LILA', 'displayNumber': 'LILA', 'num': 'LILA', 'line': 'LILA', 'lineId': '1279620400001', 'catOut': 'BLT', 'catIn': 'BLT', 'catCode': '7', 'cls': '128', 'catOutS': 'BLT', 'catOutL': 'Länstrafik - Buss', 'operatorCode': '279', 'operator': 'Västtrafik', 'admin': '279___', 'routeIdxFrom': 6, 'routeIdxTo': 24, 'matchId': 'LILA;6204;33'}], 'Notes': {'Note': [{'value': 'Lag 2015:953 tillämpas', 'key': 'EG', 'type': 'A', 'routeIdxFrom': 6, 'routeIdxTo': 24, 'txtN': 'Lag 2015:953 tillämpas'}]}, 'name': 'Länstrafik - Buss LILA', 'type': 'ST', 'stop': 'Frölunda torg (Göteborg kn)', 'stopid': 'A=1@O=Frölunda torg (Göteborg kn)@X=11909745@Y=57652623@U=1@L=740015565@', 'stopExtId': '740015565', 'lon': 11.909745, 'lat': 57.652623, 'time': '10:33:00', 'date': '2025-01-29', 'reachable': True, 'direction': 'Mölnlycke station (Härryda kn)', 'directionFlag': '1'}, {'JourneyDetailRef': {'ref': '1|19482|0|1|29012025'}, 'JourneyStatus': 'P', 'ProductAtStop': {'icon': {'res': 'prod_gen'}, 'operatorInfo': {'name': 'Västtrafik', 'nameS': '279', 'nameN': '279', 'nameL': 'Västtrafik', 'id': '279'}, 'name': 'Länstrafik - Spårväg 7', 'internalName': 'Länstrafik - Spårväg 7', 'displayNumber': '7', 'num': '7', 'line': '7', 'lineId': '1279500700001', 'catOut': 'SLT', 'catIn': 'SLT', 'catCode': '6', 'cls': '64', 'catOutS': 'SLT', 'catOutL': 'Länstrafik - Spårväg', 'operatorCode': '279', 'operator': 'Västtrafik', 'admin': '279___', 'matchId': '7;5007;4881'}, 'Product': [{'icon': {'res': 'prod_gen'}, 'operatorInfo': {'name': 'Västtrafik', 'nameS': '279', 'nameN': '279', 'nameL': 'Västtrafik', 'id': '279'}, 'name': 'Länstrafik - Spårväg 7', 'internalName': 'Länstrafik - Spårväg 7', 'displayNumber': '7', 'num': '7', 'line': '7', 'lineId': '1279500700001', 'catOut': 'SLT', 'catIn': 'SLT', 'catCode': '6', 'cls': '64', 'catOutS': 'SLT', 'catOutL': 'Länstrafik - Spårväg', 'operatorCode': '279', 'operator': 'Västtrafik', 'admin': '279___', 'routeIdxFrom': 3, 'routeIdxTo': 34, 'matchId': '7;5007;4881'}], 'Notes': {'Note': [{'value': 'Lag 2015:953 tillämpas', 'key': 'EG', 'type': 'A', 'routeIdxFrom': 3, 'routeIdxTo': 34, 'txtN': 'Lag 2015:953 tillämpas'}]}, 'name': 'Länstrafik - Spårväg 7', 'type': 'ST', 'stop': 'Frölunda torg (Göteborg kn)', 'stopid': 'A=1@O=Frölunda torg (Göteborg kn)@X=11909745@Y=57652623@U=1@L=740015565@', 'stopExtId': '740015565', 'lon': 11.909745, 'lat': 57.652623, 'time': '10:35:00', 'date': '2025-01-29', 'reachable': True, 'direction': 'Bergsjön Komettorget (Göteborg kn)', 'directionFlag': '1'}, {'JourneyDetailRef': {'ref': '1|155820|1|1|29012025'}, 'JourneyStatus': 'P', 'ProductAtStop': {'icon': {'res': 'prod_gen'}, 'operatorInfo': {'name': 'Västtrafik', 'nameS': '279', 'nameN': '279', 'nameL': 'Västtrafik', 'id': '279'}, 'name': 'Länstrafik - Spårväg 1', 'internalName': 'Länstrafik - Spårväg 1', 'displayNumber': '1', 'num': '1', 'line': '1', 'lineId': '1279500100001', 'catOut': 'SLT', 'catIn': 'SLT', 'catCode': '6', 'cls': '64', 'catOutS': 'SLT', 'catOutL': 'Länstrafik - Spårväg', 'operatorCode': '279', 'operator': 'Västtrafik', 'admin': '279___', 'matchId': '1;5001;4810'}, 'Product': [{'icon': {'res': 'prod_gen'}, 'operatorInfo': {'name': 'Västtrafik', 'nameS': '279', 'nameN': '279', 'nameL': 'Västtrafik', 'id': '279'}, 'name': 'Länstrafik - Spårväg 1', 'internalName': 'Länstrafik - Spårväg 1', 'displayNumber': '1', 'num': '1', 'line': '1', 'lineId': '1279500100001', 'catOut': 'SLT', 'catIn': 'SLT', 'catCode': '6', 'cls': '64', 'catOutS': 'SLT', 'catOutL': 'Länstrafik - Spårväg', 'operatorCode': '279', 'operator': 'Västtrafik', 'admin': '279___', 'routeIdxFrom': 25, 'routeIdxTo': 28, 'matchId': '1;5001;4810'}], 'Notes': {'Note': [{'value': 'Lag 2015:953 tillämpas', 'key': 'EG', 'type': 'A', 'routeIdxFrom': 25, 'routeIdxTo': 28, 'txtN': 'Lag 2015:953 tillämpas'}]}, 'name': 'Länstrafik - Spårväg 1', 'type': 'ST', 'stop': 'Frölunda torg (Göteborg kn)', 'stopid': 'A=1@O=Frölunda torg (Göteborg kn)@X=11909745@Y=57652623@U=1@L=740015565@', 'stopExtId': '740015565', 'lon': 11.909745, 'lat': 57.652623, 'time': '10:36:00', 'date': '2025-01-29', 'reachable': True, 'direction': 'Tynnered Opaltorget (Göteborg kn)', 'directionFlag': '2'}, {'JourneyDetailRef': {'ref': '1|64595|1|1|29012025'}, 'JourneyStatus': 'P', 'ProductAtStop': {'icon': {'res': 'prod_gen'}, 'operatorInfo': {'name': 'Västtrafik', 'nameS': '279', 'nameN': '279', 'nameL': 'Västtrafik', 'id': '279'}, 'name': 'Länstrafik - Spårväg 8', 'internalName': 'Länstrafik - Spårväg 8', 'displayNumber': '8', 'num': '8', 'line': '8', 'lineId': '1279500800001', 'catOut': 'SLT', 'catIn': 'SLT', 'catCode': '6', 'cls': '64', 'catOutS': 'SLT', 'catOutL': 'Länstrafik - Spårväg', 'operatorCode': '279', 'operator': 'Västtrafik', 'admin': '279___', 'matchId': '8;5008;4901'}, 'Product': [{'icon': {'res': 'prod_gen'}, 'operatorInfo': {'name': 'Västtrafik', 'nameS': '279', 'nameN': '279', 'nameL': 'Västtrafik', 'id': '279'}, 'name': 'Länstrafik - Spårväg 8', 'internalName': 'Länstrafik - Spårväg 8', 'displayNumber': '8', 'num': '8', 'line': '8', 'lineId': '1279500800001', 'catOut': 'SLT', 'catIn': 'SLT', 'catCode': '6', 'cls': '64', 'catOutS': 'SLT', 'catOutL': 'Länstrafik - Spårväg', 'operatorCode': '279', 'operator': 'Västtrafik', 'admin': '279___', 'routeIdxFrom': 0, 'routeIdxTo': 24, 'matchId': '8;5008;4901'}], 'Notes': {'Note': [{'value': 'Lag 2015:953 tillämpas', 'key': 'EG', 'type': 'A', 'routeIdxFrom': 0, 'routeIdxTo': 24, 'txtN': 'Lag 2015:953 tillämpas'}]}, 'name': 'Länstrafik - Spårväg 8', 'type': 'ST', 'stop': 'Frölunda torg (Göteborg kn)', 'stopid': 'A=1@O=Frölunda torg (Göteborg kn)@X=11909745@Y=57652623@U=1@L=740015565@', 'stopExtId': '740015565', 'lon': 11.909745, 'lat': 57.652623, 'time': '10:37:00', 'date': '2025-01-29', 'reachable': True, 'direction': 'Angered centrum (Göteborg kn)', 'directionFlag': '1'}, {'JourneyDetailRef': {'ref': '1|128593|1|1|29012025'}, 'JourneyStatus': 'P', 'ProductAtStop': {'icon': {'res': 'prod_gen'}, 'operatorInfo': {'name': 'Västtrafik', 'nameS': '279', 'nameN': '279', 'nameL': 'Västtrafik', 'id': '279'}, 'name': 'Länstrafik - Buss 751', 'internalName': 'Länstrafik - Buss 751', 'displayNumber': '751', 'num': '751', 'line': '751', 'lineId': '1279575100001', 'catOut': 'BLT', 'catIn': 'BLT', 'catCode': '7', 'cls': '128', 'catOutS': 'BLT', 'catOutL': 'Länstrafik - Buss', 'operatorCode': '279', 'operator': 'Västtrafik', 'admin': '279___', 'matchId': '751;5751;42'}, 'Product': [{'icon': {'res': 'prod_gen'}, 'operatorInfo': {'name': 'Västtrafik', 'nameS': '279', 'nameN': '279', 'nameL': 'Västtrafik', 'id': '279'}, 'name': 'Länstrafik - Buss 751', 'internalName': 'Länstrafik - Buss 751', 'displayNumber': '751', 'num': '751', 'line': '751', 'lineId': '1279575100001', 'catOut': 'BLT', 'catIn': 'BLT', 'catCode': '7', 'cls': '128', 'catOutS': 'BLT', 'catOutL': 'Länstrafik - Buss', 'operatorCode': '279', 'operator': 'Västtrafik', 'admin': '279___', 'routeIdxFrom': 0, 'routeIdxTo': 37, 'matchId': '751;5751;42'}], 'Notes': {'Note': [{'value': 'Lag 2015:953 tillämpas', 'key': 'EG', 'type': 'A', 'routeIdxFrom': 0, 'routeIdxTo': 37, 'txtN': 'Lag 2015:953 tillämpas'}]}, 'name': 'Länstrafik - Buss 751', 'type': 'ST', 'stop': 'Frölunda torg (Göteborg kn)', 'stopid': 'A=1@O=Frölunda torg (Göteborg kn)@X=11909745@Y=57652623@U=1@L=740015565@', 'stopExtId': '740015565', 'lon': 11.909745, 'lat': 57.652623, 'time': '10:37:00', 'date': '2025-01-29', 'reachable': True, 'direction': 'Mölnlycke station (Härryda kn)', 'directionFlag': '2'}, {'JourneyDetailRef': {'ref': '1|13770|2|1|29012025'}, 'JourneyStatus': 'P', 'ProductAtStop': {'icon': {'res': 'prod_gen'}, 'operatorInfo': {'name': 'Västtrafik', 'nameS': '279', 'nameN': '279', 'nameL': 'Västtrafik', 'id': '279'}, 'name': 'Länstrafik - Buss 99', 'internalName': 'Länstrafik - Buss 99', 'displayNumber': '99', 'num': '99', 'line': '99', 'lineId': '1279509900001', 'catOut': 'BLT', 'catIn': 'BLT', 'catCode': '7', 'cls': '128', 'catOutS': 'BLT', 'catOutL': 'Länstrafik - Buss', 'operatorCode': '279', 'operator': 'Västtrafik', 'admin': '279___', 'matchId': '99;5099;87'}, 'Product': [{'icon': {'res': 'prod_gen'}, 'operatorInfo': {'name': 'Västtrafik', 'nameS': '279', 'nameN': '279', 'nameL': 'Västtrafik', 'id': '279'}, 'name': 'Länstrafik - Buss 99', 'internalName': 'Länstrafik - Buss 99', 'displayNumber': '99', 'num': '99', 'line': '99', 'lineId': '1279509900001', 'catOut': 'BLT', 'catIn': 'BLT', 'catCode': '7', 'cls': '128', 'catOutS': 'BLT', 'catOutL': 'Länstrafik - Buss', 'operatorCode': '279', 'operator': 'Västtrafik', 'admin': '279___', 'routeIdxFrom': 0, 'routeIdxTo': 13, 'matchId': '99;5099;87'}], 'Notes': {'Note': [{'value': 'Lag 2015:953 tillämpas', 'key': 'EG', 'type': 'A', 'routeIdxFrom': 0, 'routeIdxTo': 13, 'txtN': 'Lag 2015:953 tillämpas'}]}, 'name': 'Länstrafik - Buss 99', 'type': 'ST', 'stop': 'Frölunda torg (Göteborg kn)', 'stopid': 'A=1@O=Frölunda torg (Göteborg kn)@X=11909745@Y=57652623@U=1@L=740015565@', 'stopExtId': '740015565', 'lon': 11.909745, 'lat': 57.652623, 'time': '10:40:00', 'date': '2025-01-29', 'reachable': True, 'direction': 'Göteborg Hjalmar Brantingspl', 'directionFlag': '1'}, {'JourneyDetailRef': {'ref': '1|19684|10|1|29012025'}, 'JourneyStatus': 'P', 'ProductAtStop': {'icon': {'res': 'prod_gen'}, 'operatorInfo': {'name': 'Västtrafik', 'nameS': '279', 'nameN': '279', 'nameL': 'Västtrafik', 'id': '279'}, 'name': 'Länstrafik - Spårväg 7', 'internalName': 'Länstrafik - Spårväg 7', 'displayNumber': '7', 'num': '7', 'line': '7', 'lineId': '1279500700001', 'catOut': 'SLT', 'catIn': 'SLT', 'catCode': '6', 'cls': '64', 'catOutS': 'SLT', 'catOutL': 'Länstrafik - Spårväg', 'operatorCode': '279', 'operator': 'Västtrafik', 'admin': '279___', 'matchId': '7;5007;4800'}, 'Product': [{'icon': {'res': 'prod_gen'}, 'operatorInfo': {'name': 'Västtrafik', 'nameS': '279', 'nameN': '279', 'nameL': 'Västtrafik', 'id': '279'}, 'name': 'Länstrafik - Spårväg 7', 'internalName': 'Länstrafik - Spårväg 7', 'displayNumber': '7', 'num': '7', 'line': '7', 'lineId': '1279500700001', 'catOut': 'SLT', 'catIn': 'SLT', 'catCode': '6', 'cls': '64', 'catOutS': 'SLT', 'catOutL': 'Länstrafik - Spårväg', 'operatorCode': '279', 'operator': 'Västtrafik', 'admin': '279___', 'routeIdxFrom': 31, 'routeIdxTo': 34, 'matchId': '7;5007;4800'}], 'Notes': {'Note': [{'value': 'Lag 2015:953 tillämpas', 'key': 'EG', 'type': 'A', 'routeIdxFrom': 31, 'routeIdxTo': 34, 'txtN': 'Lag 2015:953 tillämpas'}]}, 'name': 'Länstrafik - Spårväg 7', 'type': 'ST', 'stop': 'Frölunda torg (Göteborg kn)', 'stopid': 'A=1@O=Frölunda torg (Göteborg kn)@X=11909745@Y=57652623@U=1@L=740015565@', 'stopExtId': '740015565', 'lon': 11.909745, 'lat': 57.652623, 'time': '10:40:00', 'date': '2025-01-29', 'reachable': True, 'direction': 'Tynnered Opaltorget (Göteborg kn)', 'directionFlag': '2'}, {'JourneyDetailRef': {'ref': '1|25643|3|1|29012025'}, 'JourneyStatus': 'P', 'ProductAtStop': {'icon': {'res': 'prod_gen'}, 'operatorInfo': {'name': 'Västtrafik', 'nameS': '279', 'nameN': '279', 'nameL': 'Västtrafik', 'id': '279'}, 'name': 'Länstrafik - Buss 30', 'internalName': 'Länstrafik - Buss 30', 'displayNumber': '30', 'num': '30', 'line': '30', 'lineId': '1279503000001', 'catOut': 'BLT', 'catIn': 'BLT', 'catCode': '7', 'cls': '128', 'catOutS': 'BLT', 'catOutL': 'Länstrafik - Buss', 'operatorCode': '279', 'operator': 'Västtrafik', 'admin': '279___', 'matchId': '30;5030;23'}, 'Product': [{'icon': {'res': 'prod_gen'}, 'operatorInfo': {'name': 'Västtrafik', 'nameS': '279', 'nameN': '279', 'nameL': 'Västtrafik', 'id': '279'}, 'name': 'Länstrafik - Buss 30', 'internalName': 'Länstrafik - Buss 30', 'displayNumber': '30', 'num': '30', 'line': '30', 'lineId': '1279503000001', 'catOut': 'BLT', 'catIn': 'BLT', 'catCode': '7', 'cls': '128', 'catOutS': 'BLT', 'catOutL': 'Länstrafik - Buss', 'operatorCode': '279', 'operator': 'Västtrafik', 'admin': '279___', 'routeIdxFrom': 0, 'routeIdxTo': 18, 'matchId': '30;5030;23'}], 'Notes': {'Note': [{'value': 'Lag 2015:953 tillämpas', 'key': 'EG', 'type': 'A', 'routeIdxFrom': 0, 'routeIdxTo': 18, 'txtN': 'Lag 2015:953 tillämpas'}]}, 'name': 'Länstrafik - Buss 30', 'type': 'ST', 'stop': 'Frölunda torg (Göteborg kn)', 'stopid': 'A=1@O=Frölunda torg (Göteborg kn)@X=11909745@Y=57652623@U=1@L=740015565@', 'stopExtId': '740015565', 'lon': 11.909745, 'lat': 57.652623, 'time': '10:40:00', 'date': '2025-01-29', 'reachable': True, 'direction': 'Göteborg Eketrägatan', 'directionFlag': '1'}, {'JourneyDetailRef': {'ref': '1|102170|1|1|29012025'}, 'JourneyStatus': 'P', 'ProductAtStop': {'icon': {'res': 'prod_gen'}, 'operatorInfo': {'name': 'Västtrafik', 'nameS': '279', 'nameN': '279', 'nameL': 'Västtrafik', 'id': '279'}, 'name': 'Länstrafik - Buss 97', 'internalName': 'Länstrafik - Buss 97', 'displayNumber': '97', 'num': '97', 'line': '97', 'lineId': '1279509700001', 'catOut': 'BLT', 'catIn': 'BLT', 'catCode': '7', 'cls': '128', 'catOutS': 'BLT', 'catOutL': 'Länstrafik - Buss', 'operatorCode': '279', 'operator': 'Västtrafik', 'admin': '279___', 'matchId': '97;5097;21'}, 'Product': [{'icon': {'res': 'prod_gen'}, 'operatorInfo': {'name': 'Västtrafik', 'nameS': '279', 'nameN': '279', 'nameL': 'Västtrafik', 'id': '279'}, 'name': 'Länstrafik - Buss 97', 'internalName': 'Länstrafik - Buss 97', 'displayNumber': '97', 'num': '97', 'line': '97', 'lineId': '1279509700001', 'catOut': 'BLT', 'catIn': 'BLT', 'catCode': '7', 'cls': '128', 'catOutS': 'BLT', 'catOutL': 'Länstrafik - Buss', 'operatorCode': '279', 'operator': 'Västtrafik', 'admin': '279___', 'routeIdxFrom': 0, 'routeIdxTo': 13, 'matchId': '97;5097;21'}], 'Notes': {'Note': [{'value': 'Lag 2015:953 tillämpas', 'key': 'EG', 'type': 'A', 'routeIdxFrom': 0, 'routeIdxTo': 13, 'txtN': 'Lag 2015:953 tillämpas'}]}, 'name': 'Länstrafik - Buss 97', 'type': 'ST', 'stop': 'Frölunda torg (Göteborg kn)', 'stopid': 'A=1@O=Frölunda torg (Göteborg kn)@X=11909745@Y=57652623@U=1@L=740015565@', 'stopExtId': '740015565', 'lon': 11.909745, 'lat': 57.652623, 'time': '10:40:00', 'date': '2025-01-29', 'reachable': True, 'direction': 'Fiskebäcks Småbåtshamn (Göteborg kn)', 'directionFlag': '1'}, {'JourneyDetailRef': {'ref': '1|103255|4|1|29012025'}, 'JourneyStatus': 'P', 'ProductAtStop': {'icon': {'res': 'prod_gen'}, 'operatorInfo': {'name': 'Västtrafik', 'nameS': '279', 'nameN': '279', 'nameL': 'Västtrafik', 'id': '279'}, 'name': 'Länstrafik - Buss 50', 'internalName': 'Länstrafik - Buss 50', 'displayNumber': '50', 'num': '50', 'line': '50', 'lineId': '1279505000001', 'catOut': 'BLT', 'catIn': 'BLT', 'catCode': '7', 'cls': '128', 'catOutS': 'BLT', 'catOutL': 'Länstrafik - Buss', 'operatorCode': '279', 'operator': 'Västtrafik', 'admin': '279___', 'matchId': '50;5050;91'}, 'Product': [{'icon': {'res': 'prod_gen'}, 'operatorInfo': {'name': 'Västtrafik', 'nameS': '279', 'nameN': '279', 'nameL': 'Västtrafik', 'id': '279'}, 'name': 'Länstrafik - Buss 50', 'internalName': 'Länstrafik - Buss 50', 'displayNumber': '50', 'num': '50', 'line': '50', 'lineId': '1279505000001', 'catOut': 'BLT', 'catIn': 'BLT', 'catCode': '7', 'cls': '128', 'catOutS': 'BLT', 'catOutL': 'Länstrafik - Buss', 'operatorCode': '279', 'operator': 'Västtrafik', 'admin': '279___', 'routeIdxFrom': 0, 'routeIdxTo': 6, 'matchId': '50;5050;91'}], 'Notes': {'Note': [{'value': 'Lag 2015:953 tillämpas', 'key': 'EG', 'type': 'A', 'routeIdxFrom': 0, 'routeIdxTo': 6, 'txtN': 'Lag 2015:953 tillämpas'}]}, 'name': 'Länstrafik - Buss 50', 'type': 'ST', 'stop': 'Frölunda torg (Göteborg kn)', 'stopid': 'A=1@O=Frölunda torg (Göteborg kn)@X=11909745@Y=57652623@U=1@L=740015565@', 'stopExtId': '740015565', 'lon': 11.909745, 'lat': 57.652623, 'time': '10:40:00', 'date': '2025-01-29', 'reachable': True, 'direction': 'Göteborg Brunnsparken', 'directionFlag': '1'}, {'JourneyDetailRef': {'ref': '1|155584|2|1|29012025'}, 'JourneyStatus': 'P', 'ProductAtStop': {'icon': {'res': 'prod_gen'}, 'operatorInfo': {'name': 'Västtrafik', 'nameS': '279', 'nameN': '279', 'nameL': 'Västtrafik', 'id': '279'}, 'name': 'Länstrafik - Spårväg 1', 'internalName': 'Länstrafik - Spårväg 1', 'displayNumber': '1', 'num': '1', 'line': '1', 'lineId': '1279500100001', 'catOut': 'SLT', 'catIn': 'SLT', 'catCode': '6', 'cls': '64', 'catOutS': 'SLT', 'catOutL': 'Länstrafik - Spårväg', 'operatorCode': '279', 'operator': 'Västtrafik', 'admin': '279___', 'matchId': '1;5001;4893'}, 'Product': [{'icon': {'res': 'prod_gen'}, 'operatorInfo': {'name': 'Västtrafik', 'nameS': '279', 'nameN': '279', 'nameL': 'Västtrafik', 'id': '279'}, 'name': 'Länstrafik - Spårväg 1', 'internalName': 'Länstrafik - Spårväg 1', 'displayNumber': '1', 'num': '1', 'line': '1', 'lineId': '1279500100001', 'catOut': 'SLT', 'catIn': 'SLT', 'catCode': '6', 'cls': '64', 'catOutS': 'SLT', 'catOutL': 'Länstrafik - Spårväg', 'operatorCode': '279', 'operator': 'Västtrafik', 'admin': '279___', 'routeIdxFrom': 3, 'routeIdxTo': 28, 'matchId': '1;5001;4893'}], 'Notes': {'Note': [{'value': 'Lag 2015:953 tillämpas', 'key': 'EG', 'type': 'A', 'routeIdxFrom': 3, 'routeIdxTo': 28, 'txtN': 'Lag 2015:953 tillämpas'}]}, 'name': 'Länstrafik - Spårväg 1', 'type': 'ST', 'stop': 'Frölunda torg (Göteborg kn)', 'stopid': 'A=1@O=Frölunda torg (Göteborg kn)@X=11909745@Y=57652623@U=1@L=740015565@', 'stopExtId': '740015565', 'lon': 11.909745, 'lat': 57.652623, 'time': '10:40:00', 'date': '2025-01-29', 'reachable': True, 'direction': 'Göteborg Östra sjukhuset', 'directionFlag': '1'}, {'JourneyDetailRef': {'ref': '1|19483|0|1|29012025'}, 'JourneyStatus': 'P', 'ProductAtStop': {'icon': {'res': 'prod_gen'}, 'operatorInfo': {'name': 'Västtrafik', 'nameS': '279', 'nameN': '279', 'nameL': 'Västtrafik', 'id': '279'}, 'name': 'Länstrafik - Spårväg 7', 'internalName': 'Länstrafik - Spårväg 7', 'displayNumber': '7', 'num': '7', 'line': '7', 'lineId': '1279500700001', 'catOut': 'SLT', 'catIn': 'SLT', 'catCode': '6', 'cls': '64', 'catOutS': 'SLT', 'catOutL': 'Länstrafik - Spårväg', 'operatorCode': '279', 'operator': 'Västtrafik', 'admin': '279___', 'matchId': '7;5007;4903'}, 'Product': [{'icon': {'res': 'prod_gen'}, 'operatorInfo': {'name': 'Västtrafik', 'nameS': '279', 'nameN': '279', 'nameL': 'Västtrafik', 'id': '279'}, 'name': 'Länstrafik - Spårväg 7', 'internalName': 'Länstrafik - Spårväg 7', 'displayNumber': '7', 'num': '7', 'line': '7', 'lineId': '1279500700001', 'catOut': 'SLT', 'catIn': 'SLT', 'catCode': '6', 'cls': '64', 'catOutS': 'SLT', 'catOutL': 'Länstrafik - Spårväg', 'operatorCode': '279', 'operator': 'Västtrafik', 'admin': '279___', 'routeIdxFrom': 3, 'routeIdxTo': 34, 'matchId': '7;5007;4903'}], 'Notes': {'Note': [{'value': 'Lag 2015:953 tillämpas', 'key': 'EG', 'type': 'A', 'routeIdxFrom': 3, 'routeIdxTo': 34, 'txtN': 'Lag 2015:953 tillämpas'}]}, 'name': 'Länstrafik - Spårväg 7', 'type': 'ST', 'stop': 'Frölunda torg (Göteborg kn)', 'stopid': 'A=1@O=Frölunda torg (Göteborg kn)@X=11909745@Y=57652623@U=1@L=740015565@', 'stopExtId': '740015565', 'lon': 11.909745, 'lat': 57.652623, 'time': '10:43:00', 'date': '2025-01-29', 'reachable': True, 'direction': 'Bergsjön Komettorget (Göteborg kn)', 'directionFlag': '1'}, {'JourneyDetailRef': {'ref': '1|64592|6|1|29012025'}, 'JourneyStatus': 'P', 'ProductAtStop': {'icon': {'res': 'prod_gen'}, 'operatorInfo': {'name': 'Västtrafik', 'nameS': '279', 'nameN': '279', 'nameL': 'Västtrafik', 'id': '279'}, 'name': 'Länstrafik - Spårväg 8', 'internalName': 'Länstrafik - Spårväg 8', 'displayNumber': '8', 'num': '8', 'line': '8', 'lineId': '1279500800001', 'catOut': 'SLT', 'catIn': 'SLT', 'catCode': '6', 'cls': '64', 'catOutS': 'SLT', 'catOutL': 'Länstrafik - Spårväg', 'operatorCode': '279', 'operator': 'Västtrafik', 'admin': '279___', 'matchId': '8;5008;4913'}, 'Product': [{'icon': {'res': 'prod_gen'}, 'operatorInfo': {'name': 'Västtrafik', 'nameS': '279', 'nameN': '279', 'nameL': 'Västtrafik', 'id': '279'}, 'name': 'Länstrafik - Spårväg 8', 'internalName': 'Länstrafik - Spårväg 8', 'displayNumber': '8', 'num': '8', 'line': '8', 'lineId': '1279500800001', 'catOut': 'SLT', 'catIn': 'SLT', 'catCode': '6', 'cls': '64', 'catOutS': 'SLT', 'catOutL': 'Länstrafik - Spårväg', 'operatorCode': '279', 'operator': 'Västtrafik', 'admin': '279___', 'routeIdxFrom': 0, 'routeIdxTo': 24, 'matchId': '8;5008;4913'}], 'Notes': {'Note': [{'value': 'Lag 2015:953 tillämpas', 'key': 'EG', 'type': 'A', 'routeIdxFrom': 0, 'routeIdxTo': 24, 'txtN': 'Lag 2015:953 tillämpas'}]}, 'name': 'Länstrafik - Spårväg 8', 'type': 'ST', 'stop': 'Frölunda torg (Göteborg kn)', 'stopid': 'A=1@O=Frölunda torg (Göteborg kn)@X=11909745@Y=57652623@U=1@L=740015565@', 'stopExtId': '740015565', 'lon': 11.909745, 'lat': 57.652623, 'time': '10:45:00', 'date': '2025-01-29', 'reachable': True, 'direction': 'Angered centrum (Göteborg kn)', 'directionFlag': '1'}, {'JourneyDetailRef': {'ref': '1|155819|3|1|29012025'}, 'JourneyStatus': 'P', 'ProductAtStop': {'icon': {'res': 'prod_gen'}, 'operatorInfo': {'name': 'Västtrafik', 'nameS': '279', 'nameN': '279', 'nameL': 'Västtrafik', 'id': '279'}, 'name': 'Länstrafik - Spårväg 1', 'internalName': 'Länstrafik - Spårväg 1', 'displayNumber': '1', 'num': '1', 'line': '1', 'lineId': '1279500100001', 'catOut': 'SLT', 'catIn': 'SLT', 'catCode': '6', 'cls': '64', 'catOutS': 'SLT', 'catOutL': 'Länstrafik - Spårväg', 'operatorCode': '279', 'operator': 'Västtrafik', 'admin': '279___', 'matchId': '1;5001;4832'}, 'Product': [{'icon': {'res': 'prod_gen'}, 'operatorInfo': {'name': 'Västtrafik', 'nameS': '279', 'nameN': '279', 'nameL': 'Västtrafik', 'id': '279'}, 'name': 'Länstrafik - Spårväg 1', 'internalName': 'Länstrafik - Spårväg 1', 'displayNumber': '1', 'num': '1', 'line': '1', 'lineId': '1279500100001', 'catOut': 'SLT', 'catIn': 'SLT', 'catCode': '6', 'cls': '64', 'catOutS': 'SLT', 'catOutL': 'Länstrafik - Spårväg', 'operatorCode': '279', 'operator': 'Västtrafik', 'admin': '279___', 'routeIdxFrom': 25, 'routeIdxTo': 28, 'matchId': '1;5001;4832'}], 'Notes': {'Note': [{'value': 'Lag 2015:953 tillämpas', 'key': 'EG', 'type': 'A', 'routeIdxFrom': 25, 'routeIdxTo': 28, 'txtN': 'Lag 2015:953 tillämpas'}]}, 'name': 'Länstrafik - Spårväg 1', 'type': 'ST', 'stop': 'Frölunda torg (Göteborg kn)', 'stopid': 'A=1@O=Frölunda torg (Göteborg kn)@X=11909745@Y=57652623@U=1@L=740015565@', 'stopExtId': '740015565', 'lon': 11.909745, 'lat': 57.652623, 'time': '10:46:00', 'date': '2025-01-29', 'reachable': True, 'direction': 'Tynnered Opaltorget (Göteborg kn)', 'directionFlag': '2'}, {'JourneyDetailRef': {'ref': '1|19684|11|1|29012025'}, 'JourneyStatus': 'P', 'ProductAtStop': {'icon': {'res': 'prod_gen'}, 'operatorInfo': {'name': 'Västtrafik', 'nameS': '279', 'nameN': '279', 'nameL': 'Västtrafik', 'id': '279'}, 'name': 'Länstrafik - Spårväg 7', 'internalName': 'Länstrafik - Spårväg 7', 'displayNumber': '7', 'num': '7', 'line': '7', 'lineId': '1279500700001', 'catOut': 'SLT', 'catIn': 'SLT', 'catCode': '6', 'cls': '64', 'catOutS': 'SLT', 'catOutL': 'Länstrafik - Spårväg', 'operatorCode': '279', 'operator': 'Västtrafik', 'admin': '279___', 'matchId': '7;5007;4818'}, 'Product': [{'icon': {'res': 'prod_gen'}, 'operatorInfo': {'name': 'Västtrafik', 'nameS': '279', 'nameN': '279', 'nameL': 'Västtrafik', 'id': '279'}, 'name': 'Länstrafik - Spårväg 7', 'internalName': 'Länstrafik - Spårväg 7', 'displayNumber': '7', 'num': '7', 'line': '7', 'lineId': '1279500700001', 'catOut': 'SLT', 'catIn': 'SLT', 'catCode': '6', 'cls': '64', 'catOutS': 'SLT', 'catOutL': 'Länstrafik - Spårväg', 'operatorCode': '279', 'operator': 'Västtrafik', 'admin': '279___', 'routeIdxFrom': 31, 'routeIdxTo': 34, 'matchId': '7;5007;4818'}], 'Notes': {'Note': [{'value': 'Lag 2015:953 tillämpas', 'key': 'EG', 'type': 'A', 'routeIdxFrom': 31, 'routeIdxTo': 34, 'txtN': 'Lag 2015:953 tillämpas'}]}, 'name': 'Länstrafik - Spårväg 7', 'type': 'ST', 'stop': 'Frölunda torg (Göteborg kn)', 'stopid': 'A=1@O=Frölunda torg (Göteborg kn)@X=11909745@Y=57652623@U=1@L=740015565@', 'stopExtId': '740015565', 'lon': 11.909745, 'lat': 57.652623, 'time': '10:48:00', 'date': '2025-01-29', 'reachable': True, 'direction': 'Tynnered Opaltorget (Göteborg kn)', 'directionFlag': '2'}, {'JourneyDetailRef': {'ref': '1|13778|2|1|29012025'}, 'JourneyStatus': 'P', 'ProductAtStop': {'icon': {'res': 'prod_gen'}, 'operatorInfo': {'name': 'Västtrafik', 'nameS': '279', 'nameN': '279', 'nameL': 'Västtrafik', 'id': '279'}, 'name': 'Länstrafik - Buss 99', 'internalName': 'Länstrafik - Buss 99', 'displayNumber': '99', 'num': '99', 'line': '99', 'lineId': '1279509900001', 'catOut': 'BLT', 'catIn': 'BLT', 'catCode': '7', 'cls': '128', 'catOutS': 'BLT', 'catOutL': 'Länstrafik - Buss', 'operatorCode': '279', 'operator': 'Västtrafik', 'admin': '279___', 'matchId': '99;5099;89'}, 'Product': [{'icon': {'res': 'prod_gen'}, 'operatorInfo': {'name': 'Västtrafik', 'nameS': '279', 'nameN': '279', 'nameL': 'Västtrafik', 'id': '279'}, 'name': 'Länstrafik - Buss 99', 'internalName': 'Länstrafik - Buss 99', 'displayNumber': '99', 'num': '99', 'line': '99', 'lineId': '1279509900001', 'catOut': 'BLT', 'catIn': 'BLT', 'catCode': '7', 'cls': '128', 'catOutS': 'BLT', 'catOutL': 'Länstrafik - Buss', 'operatorCode': '279', 'operator': 'Västtrafik', 'admin': '279___', 'routeIdxFrom': 0, 'routeIdxTo': 13, 'matchId': '99;5099;89'}], 'Notes': {'Note': [{'value': 'Lag 2015:953 tillämpas', 'key': 'EG', 'type': 'A', 'routeIdxFrom': 0, 'routeIdxTo': 13, 'txtN': 'Lag 2015:953 tillämpas'}]}, 'name': 'Länstrafik - Buss 99', 'type': 'ST', 'stop': 'Frölunda torg (Göteborg kn)', 'stopid': 'A=1@O=Frölunda torg (Göteborg kn)@X=11909745@Y=57652623@U=1@L=740015565@', 'stopExtId': '740015565', 'lon': 11.909745, 'lat': 57.652623, 'time': '10:50:00', 'date': '2025-01-29', 'reachable': True, 'direction': 'Göteborg Hjalmar Brantingspl', 'directionFlag': '1'}, {'JourneyDetailRef': {'ref': '1|31566|1|1|29012025'}, 'JourneyStatus': 'P', 'ProductAtStop': {'icon': {'res': 'prod_gen'}, 'operatorInfo': {'name': 'Västtrafik', 'nameS': '279', 'nameN': '279', 'nameL': 'Västtrafik', 'id': '279'}, 'name': 'Länstrafik - Buss 83', 'internalName': 'Länstrafik - Buss 83', 'displayNumber': '83', 'num': '83', 'line': '83', 'lineId': '1279508300001', 'catOut': 'BLT', 'catIn': 'BLT', 'catCode': '7', 'cls': '128', 'catOutS': 'BLT', 'catOutL': 'Länstrafik - Buss', 'operatorCode': '279', 'operator': 'Västtrafik', 'admin': '279___', 'matchId': '83;5083;29'}, 'Product': [{'icon': {'res': 'prod_gen'}, 'operatorInfo': {'name': 'Västtrafik', 'nameS': '279', 'nameN': '279', 'nameL': 'Västtrafik', 'id': '279'}, 'name': 'Länstrafik - Buss 83', 'internalName': 'Länstrafik - Buss 83', 'displayNumber': '83', 'num': '83', 'line': '83', 'lineId': '1279508300001', 'catOut': 'BLT', 'catIn': 'BLT', 'catCode': '7', 'cls': '128', 'catOutS': 'BLT', 'catOutL': 'Länstrafik - Buss', 'operatorCode': '279', 'operator': 'Västtrafik', 'admin': '279___', 'routeIdxFrom': 0, 'routeIdxTo': 13, 'matchId': '83;5083;29'}], 'Notes': {'Note': [{'value': 'Lag 2015:953 tillämpas', 'key': 'EG', 'type': 'A', 'routeIdxFrom': 0, 'routeIdxTo': 13, 'txtN': 'Lag 2015:953 tillämpas'}]}, 'name': 'Länstrafik - Buss 83', 'type': 'ST', 'stop': 'Frölunda torg (Göteborg kn)', 'stopid': 'A=1@O=Frölunda torg (Göteborg kn)@X=11909745@Y=57652623@U=1@L=740015565@', 'stopExtId': '740015565', 'lon': 11.909745, 'lat': 57.652623, 'time': '10:50:00', 'date': '2025-01-29', 'reachable': True, 'direction': 'Askims Svartmosse (Göteborg kn)', 'directionFlag': '1'}, {'JourneyDetailRef': {'ref': '1|38409|0|1|29012025'}, 'JourneyStatus': 'P', 'ProductAtStop': {'icon': {'res': 'prod_gen'}, 'operatorInfo': {'name': 'Västtrafik', 'nameS': '279', 'nameN': '279', 'nameL': 'Västtrafik', 'id': '279'}, 'name': 'Länstrafik - Buss 92', 'internalName': 'Länstrafik - Buss 92', 'displayNumber': '92', 'num': '92', 'line': '92', 'lineId': '1279509200001', 'catOut': 'BLT', 'catIn': 'BLT', 'catCode': '7', 'cls': '128', 'catOutS': 'BLT', 'catOutL': 'Länstrafik - Buss', 'operatorCode': '279', 'operator': 'Västtrafik', 'admin': '279___', 'matchId': '92;5092;21'}, 'Product': [{'icon': {'res': 'prod_gen'}, 'operatorInfo': {'name': 'Västtrafik', 'nameS': '279', 'nameN': '279', 'nameL': 'Västtrafik', 'id': '279'}, 'name': 'Länstrafik - Buss 92', 'internalName': 'Länstrafik - Buss 92', 'displayNumber': '92', 'num': '92', 'line': '92', 'lineId': '1279509200001', 'catOut': 'BLT', 'catIn': 'BLT', 'catCode': '7', 'cls': '128', 'catOutS': 'BLT', 'catOutL': 'Länstrafik - Buss', 'operatorCode': '279', 'operator': 'Västtrafik', 'admin': '279___', 'routeIdxFrom': 0, 'routeIdxTo': 9, 'matchId': '92;5092;21'}], 'Notes': {'Note': [{'value': 'Lag 2015:953 tillämpas', 'key': 'EG', 'type': 'A', 'routeIdxFrom': 0, 'routeIdxTo': 9, 'txtN': 'Lag 2015:953 tillämpas'}]}, 'name': 'Länstrafik - Buss 92', 'type': 'ST', 'stop': 'Frölunda torg (Göteborg kn)', 'stopid': 'A=1@O=Frölunda torg (Göteborg kn)@X=11909745@Y=57652623@U=1@L=740015565@', 'stopExtId': '740015565', 'lon': 11.909745, 'lat': 57.652623, 'time': '10:50:00', 'date': '2025-01-29', 'reachable': True, 'direction': 'Göteborg Näsbovägen', 'directionFlag': '1'}, {'JourneyDetailRef': {'ref': '1|84104|4|1|29012025'}, 'JourneyStatus': 'P', 'ProductAtStop': {'icon': {'res': 'prod_gen'}, 'operatorInfo': {'name': 'Västtrafik', 'nameS': '279', 'nameN': '279', 'nameL': 'Västtrafik', 'id': '279'}, 'name': 'Länstrafik - Buss 91', 'internalName': 'Länstrafik - Buss 91', 'displayNumber': '91', 'num': '91', 'line': '91', 'lineId': '1279509100001', 'catOut': 'BLT', 'catIn': 'BLT', 'catCode': '7', 'cls': '128', 'catOutS': 'BLT', 'catOutL': 'Länstrafik - Buss', 'operatorCode': '279', 'operator': 'Västtrafik', 'admin': '279___', 'matchId': '91;5091;23'}, 'Product': [{'icon': {'res': 'prod_gen'}, 'operatorInfo': {'name': 'Västtrafik', 'nameS': '279', 'nameN': '279', 'nameL': 'Västtrafik', 'id': '279'}, 'name': 'Länstrafik - Buss 91', 'internalName': 'Länstrafik - Buss 91', 'displayNumber': '91', 'num': '91', 'line': '91', 'lineId': '1279509100001', 'catOut': 'BLT', 'catIn': 'BLT', 'catCode': '7', 'cls': '128', 'catOutS': 'BLT', 'catOutL': 'Länstrafik - Buss', 'operatorCode': '279', 'operator': 'Västtrafik', 'admin': '279___', 'routeIdxFrom': 0, 'routeIdxTo': 18, 'matchId': '91;5091;23'}], 'Notes': {'Note': [{'value': 'Lag 2015:953 tillämpas', 'key': 'EG', 'type': 'A', 'routeIdxFrom': 0, 'routeIdxTo': 18, 'txtN': 'Lag 2015:953 tillämpas'}]}, 'name': 'Länstrafik - Buss 91', 'type': 'ST', 'stop': 'Frölunda torg (Göteborg kn)', 'stopid': 'A=1@O=Frölunda torg (Göteborg kn)@X=11909745@Y=57652623@U=1@L=740015565@', 'stopExtId': '740015565', 'lon': 11.909745, 'lat': 57.652623, 'time': '10:50:00', 'date': '2025-01-29', 'reachable': True, 'direction': 'Göteborg Järntorget', 'directionFlag': '1'}, {'JourneyDetailRef': {'ref': '1|103255|5|1|29012025'}, 'JourneyStatus': 'P', 'ProductAtStop': {'icon': {'res': 'prod_gen'}, 'operatorInfo': {'name': 'Västtrafik', 'nameS': '279', 'nameN': '279', 'nameL': 'Västtrafik', 'id': '279'}, 'name': 'Länstrafik - Buss 50', 'internalName': 'Länstrafik - Buss 50', 'displayNumber': '50', 'num': '50', 'line': '50', 'lineId': '1279505000001', 'catOut': 'BLT', 'catIn': 'BLT', 'catCode': '7', 'cls': '128', 'catOutS': 'BLT', 'catOutL': 'Länstrafik - Buss', 'operatorCode': '279', 'operator': 'Västtrafik', 'admin': '279___', 'matchId': '50;5050;93'}, 'Product': [{'icon': {'res': 'prod_gen'}, 'operatorInfo': {'name': 'Västtrafik', 'nameS': '279', 'nameN': '279', 'nameL': 'Västtrafik', 'id': '279'}, 'name': 'Länstrafik - Buss 50', 'internalName': 'Länstrafik - Buss 50', 'displayNumber': '50', 'num': '50', 'line': '50', 'lineId': '1279505000001', 'catOut': 'BLT', 'catIn': 'BLT', 'catCode': '7', 'cls': '128', 'catOutS': 'BLT', 'catOutL': 'Länstrafik - Buss', 'operatorCode': '279', 'operator': 'Västtrafik', 'admin': '279___', 'routeIdxFrom': 0, 'routeIdxTo': 6, 'matchId': '50;5050;93'}], 'Notes': {'Note': [{'value': 'Lag 2015:953 tillämpas', 'key': 'EG', 'type': 'A', 'routeIdxFrom': 0, 'routeIdxTo': 6, 'txtN': 'Lag 2015:953 tillämpas'}]}, 'name': 'Länstrafik - Buss 50', 'type': 'ST', 'stop': 'Frölunda torg (Göteborg kn)', 'stopid': 'A=1@O=Frölunda torg (Göteborg kn)@X=11909745@Y=57652623@U=1@L=740015565@', 'stopExtId': '740015565', 'lon': 11.909745, 'lat': 57.652623, 'time': '10:50:00', 'date': '2025-01-29', 'reachable': True, 'direction': 'Göteborg Brunnsparken', 'directionFlag': '1'}, {'JourneyDetailRef': {'ref': '1|121041|0|1|29012025'}, 'JourneyStatus': 'P', 'ProductAtStop': {'icon': {'res': 'prod_gen'}, 'operatorInfo': {'name': 'Västtrafik', 'nameS': '279', 'nameN': '279', 'nameL': 'Västtrafik', 'id': '279'}, 'name': 'Länstrafik - Buss 90', 'internalName': 'Länstrafik - Buss 90', 'displayNumber': '90', 'num': '90', 'line': '90', 'lineId': '1279509000001', 'catOut': 'BLT', 'catIn': 'BLT', 'catCode': '7', 'cls': '128', 'catOutS': 'BLT', 'catOutL': 'Länstrafik - Buss', 'operatorCode': '279', 'operator': 'Västtrafik', 'admin': '279___', 'matchId': '90;5090;23'}, 'Product': [{'icon': {'res': 'prod_gen'}, 'operatorInfo': {'name': 'Västtrafik', 'nameS': '279', 'nameN': '279', 'nameL': 'Västtrafik', 'id': '279'}, 'name': 'Länstrafik - Buss 90', 'internalName': 'Länstrafik - Buss 90', 'displayNumber': '90', 'num': '90', 'line': '90', 'lineId': '1279509000001', 'catOut': 'BLT', 'catIn': 'BLT', 'catCode': '7', 'cls': '128', 'catOutS': 'BLT', 'catOutL': 'Länstrafik - Buss', 'operatorCode': '279', 'operator': 'Västtrafik', 'admin': '279___', 'routeIdxFrom': 0, 'routeIdxTo': 30, 'matchId': '90;5090;23'}], 'Notes': {'Note': [{'value': 'Lag 2015:953 tillämpas', 'key': 'EG', 'type': 'A', 'routeIdxFrom': 0, 'routeIdxTo': 30, 'txtN': 'Lag 2015:953 tillämpas'}]}, 'name': 'Länstrafik - Buss 90', 'type': 'ST', 'stop': 'Frölunda torg (Göteborg kn)', 'stopid': 'A=1@O=Frölunda torg (Göteborg kn)@X=11909745@Y=57652623@U=1@L=740015565@', 'stopExtId': '740015565', 'lon': 11.909745, 'lat': 57.652623, 'time': '10:50:00', 'date': '2025-01-29', 'reachable': True, 'direction': 'Göteborg Järntorget', 'directionFlag': '1'}, {'JourneyDetailRef': {'ref': '1|155586|3|1|29012025'}, 'JourneyStatus': 'P', 'ProductAtStop': {'icon': {'res': 'prod_gen'}, 'operatorInfo': {'name': 'Västtrafik', 'nameS': '279', 'nameN': '279', 'nameL': 'Västtrafik', 'id': '279'}, 'name': 'Länstrafik - Spårväg 1', 'internalName': 'Länstrafik - Spårväg 1', 'displayNumber': '1', 'num': '1', 'line': '1', 'lineId': '1279500100001', 'catOut': 'SLT', 'catIn': 'SLT', 'catCode': '6', 'cls': '64', 'catOutS': 'SLT', 'catOutL': 'Länstrafik - Spårväg', 'operatorCode': '279', 'operator': 'Västtrafik', 'admin': '279___', 'matchId': '1;5001;4917'}, 'Product': [{'icon': {'res': 'prod_gen'}, 'operatorInfo': {'name': 'Västtrafik', 'nameS': '279', 'nameN': '279', 'nameL': 'Västtrafik', 'id': '279'}, 'name': 'Länstrafik - Spårväg 1', 'internalName': 'Länstrafik - Spårväg 1', 'displayNumber': '1', 'num': '1', 'line': '1', 'lineId': '1279500100001', 'catOut': 'SLT', 'catIn': 'SLT', 'catCode': '6', 'cls': '64', 'catOutS': 'SLT', 'catOutL': 'Länstrafik - Spårväg', 'operatorCode': '279', 'operator': 'Västtrafik', 'admin': '279___', 'routeIdxFrom': 3, 'routeIdxTo': 28, 'matchId': '1;5001;4917'}], 'Notes': {'Note': [{'value': 'Lag 2015:953 tillämpas', 'key': 'EG', 'type': 'A', 'routeIdxFrom': 3, 'routeIdxTo': 28, 'txtN': 'Lag 2015:953 tillämpas'}]}, 'name': 'Länstrafik - Spårväg 1', 'type': 'ST', 'stop': 'Frölunda torg (Göteborg kn)', 'stopid': 'A=1@O=Frölunda torg (Göteborg kn)@X=11909745@Y=57652623@U=1@L=740015565@', 'stopExtId': '740015565', 'lon': 11.909745, 'lat': 57.652623, 'time': '10:50:00', 'date': '2025-01-29', 'reachable': True, 'direction': 'Göteborg Östra sjukhuset', 'directionFlag': '1'}, {'JourneyDetailRef': {'ref': '1|19479|1|1|29012025'}, 'JourneyStatus': 'P', 'ProductAtStop': {'icon': {'res': 'prod_gen'}, 'operatorInfo': {'name': 'Västtrafik', 'nameS': '279', 'nameN': '279', 'nameL': 'Västtrafik', 'id': '279'}, 'name': 'Länstrafik - Spårväg 7', 'internalName': 'Länstrafik - Spårväg 7', 'displayNumber': '7', 'num': '7', 'line': '7', 'lineId': '1279500700001', 'catOut': 'SLT', 'catIn': 'SLT', 'catCode': '6', 'cls': '64', 'catOutS': 'SLT', 'catOutL': 'Länstrafik - Spårväg', 'operatorCode': '279', 'operator': 'Västtrafik', 'admin': '279___', 'matchId': '7;5007;4925'}, 'Product': [{'icon': {'res': 'prod_gen'}, 'operatorInfo': {'name': 'Västtrafik', 'nameS': '279', 'nameN': '279', 'nameL': 'Västtrafik', 'id': '279'}, 'name': 'Länstrafik - Spårväg 7', 'internalName': 'Länstrafik - Spårväg 7', 'displayNumber': '7', 'num': '7', 'line': '7', 'lineId': '1279500700001', 'catOut': 'SLT', 'catIn': 'SLT', 'catCode': '6', 'cls': '64', 'catOutS': 'SLT', 'catOutL': 'Länstrafik - Spårväg', 'operatorCode': '279', 'operator': 'Västtrafik', 'admin': '279___', 'routeIdxFrom': 3, 'routeIdxTo': 34, 'matchId': '7;5007;4925'}], 'Notes': {'Note': [{'value': 'Lag 2015:953 tillämpas', 'key': 'EG', 'type': 'A', 'routeIdxFrom': 3, 'routeIdxTo': 34, 'txtN': 'Lag 2015:953 tillämpas'}]}, 'name': 'Länstrafik - Spårväg 7', 'type': 'ST', 'stop': 'Frölunda torg (Göteborg kn)', 'stopid': 'A=1@O=Frölunda torg (Göteborg kn)@X=11909745@Y=57652623@U=1@L=740015565@', 'stopExtId': '740015565', 'lon': 11.909745, 'lat': 57.652623, 'time': '10:52:00', 'date': '2025-01-29', 'reachable': True, 'direction': 'Bergsjön Komettorget (Göteborg kn)', 'directionFlag': '1'}, {'JourneyDetailRef': {'ref': '1|28974|3|1|29012025'}, 'JourneyStatus': 'P', 'ProductAtStop': {'icon': {'res': 'prod_gen'}, 'operatorInfo': {'name': 'Flygbussarna', 'nameS': '277', 'nameN': '277', 'nameL': 'Flygbussarna', 'id': '277'}, 'name': 'Flygtransfer - Buss .', 'internalName': 'Flygtransfer - Buss .', 'displayNumber': '.', 'num': '.', 'line': '.', 'lineId': '1277021000001', 'catOut': 'BAX', 'catIn': 'BAX', 'catCode': '3', 'cls': '8', 'catOutS': 'BAX', 'catOutL': 'Flygtransfer - Buss', 'operatorCode': '277', 'operator': 'Flygbussarna', 'admin': '277___', 'matchId': '210;210;110507'}, 'Product': [{'icon': {'res': 'prod_gen'}, 'operatorInfo': {'name': 'Flygbussarna', 'nameS': '277', 'nameN': '277', 'nameL': 'Flygbussarna', 'id': '277'}, 'name': 'Flygtransfer - Buss .', 'internalName': 'Flygtransfer - Buss .', 'displayNumber': '.', 'num': '.', 'line': '.', 'lineId': '1277021000001', 'catOut': 'BAX', 'catIn': 'BAX', 'catCode': '3', 'cls': '8', 'catOutS': 'BAX', 'catOutL': 'Flygtransfer - Buss', 'operatorCode': '277', 'operator': 'Flygbussarna', 'admin': '277___', 'routeIdxFrom': 5, 'routeIdxTo': 8, 'matchId': '210;210;110507'}], 'Notes': {'Note': [{'value': 'Internetuppkoppling', 'key': 'AV', 'type': 'A', 'routeIdxFrom': 5, 'routeIdxTo': 8, 'txtN': 'Internetuppkoppling'}, {'value': 'Lag 2015:953 tillämpas', 'key': 'EG', 'type': 'A', 'routeIdxFrom': 5, 'routeIdxTo': 8, 'txtN': 'Lag 2015:953 tillämpas'}]}, 'name': 'Flygtransfer - Buss .', 'type': 'ST', 'stop': 'Frölunda torg (Göteborg kn)', 'stopid': 'A=1@O=Frölunda torg (Göteborg kn)@X=11909745@Y=57652623@U=1@L=740015565@', 'stopExtId': '740015565', 'lon': 11.909745, 'lat': 57.652623, 'time': '10:55:00', 'date': '2025-01-29', 'reachable': True, 'direction': 'Landvetter Airport (Härryda kn)', 'directionFlag': '2'}, {'JourneyDetailRef': {'ref': '1|64593|3|1|29012025'}, 'JourneyStatus': 'P', 'ProductAtStop': {'icon': {'res': 'prod_gen'}, 'operatorInfo': {'name': 'Västtrafik', 'nameS': '279', 'nameN': '279', 'nameL': 'Västtrafik', 'id': '279'}, 'name': 'Länstrafik - Spårväg 8', 'internalName': 'Länstrafik - Spårväg 8', 'displayNumber': '8', 'num': '8', 'line': '8', 'lineId': '1279500800001', 'catOut': 'SLT', 'catIn': 'SLT', 'catCode': '6', 'cls': '64', 'catOutS': 'SLT', 'catOutL': 'Länstrafik - Spårväg', 'operatorCode': '279', 'operator': 'Västtrafik', 'admin': '279___', 'matchId': '8;5008;4937'}, 'Product': [{'icon': {'res': 'prod_gen'}, 'operatorInfo': {'name': 'Västtrafik', 'nameS': '279', 'nameN': '279', 'nameL': 'Västtrafik', 'id': '279'}, 'name': 'Länstrafik - Spårväg 8', 'internalName': 'Länstrafik - Spårväg 8', 'displayNumber': '8', 'num': '8', 'line': '8', 'lineId': '1279500800001', 'catOut': 'SLT', 'catIn': 'SLT', 'catCode': '6', 'cls': '64', 'catOutS': 'SLT', 'catOutL': 'Länstrafik - Spårväg', 'operatorCode': '279', 'operator': 'Västtrafik', 'admin': '279___', 'routeIdxFrom': 0, 'routeIdxTo': 24, 'matchId': '8;5008;4937'}], 'Notes': {'Note': [{'value': 'Lag 2015:953 tillämpas', 'key': 'EG', 'type': 'A', 'routeIdxFrom': 0, 'routeIdxTo': 24, 'txtN': 'Lag 2015:953 tillämpas'}]}, 'name': 'Länstrafik - Spårväg 8', 'type': 'ST', 'stop': 'Frölunda torg (Göteborg kn)', 'stopid': 'A=1@O=Frölunda torg (Göteborg kn)@X=11909745@Y=57652623@U=1@L=740015565@', 'stopExtId': '740015565', 'lon': 11.909745, 'lat': 57.652623, 'time': '10:55:00', 'date': '2025-01-29', 'reachable': True, 'direction': 'Angered centrum (Göteborg kn)', 'directionFlag': '1'}, {'JourneyDetailRef': {'ref': '1|155818|2|1|29012025'}, 'JourneyStatus': 'P', 'ProductAtStop': {'icon': {'res': 'prod_gen'}, 'operatorInfo': {'name': 'Västtrafik', 'nameS': '279', 'nameN': '279', 'nameL': 'Västtrafik', 'id': '279'}, 'name': 'Länstrafik - Spårväg 1', 'internalName': 'Länstrafik - Spårväg 1', 'displayNumber': '1', 'num': '1', 'line': '1', 'lineId': '1279500100001', 'catOut': 'SLT', 'catIn': 'SLT', 'catCode': '6', 'cls': '64', 'catOutS': 'SLT', 'catOutL': 'Länstrafik - Spårväg', 'operatorCode': '279', 'operator': 'Västtrafik', 'admin': '279___', 'matchId': '1;5001;4856'}, 'Product': [{'icon': {'res': 'prod_gen'}, 'operatorInfo': {'name': 'Västtrafik', 'nameS': '279', 'nameN': '279', 'nameL': 'Västtrafik', 'id': '279'}, 'name': 'Länstrafik - Spårväg 1', 'internalName': 'Länstrafik - Spårväg 1', 'displayNumber': '1', 'num': '1', 'line': '1', 'lineId': '1279500100001', 'catOut': 'SLT', 'catIn': 'SLT', 'catCode': '6', 'cls': '64', 'catOutS': 'SLT', 'catOutL': 'Länstrafik - Spårväg', 'operatorCode': '279', 'operator': 'Västtrafik', 'admin': '279___', 'routeIdxFrom': 25, 'routeIdxTo': 28, 'matchId': '1;5001;4856'}], 'Notes': {'Note': [{'value': 'Lag 2015:953 tillämpas', 'key': 'EG', 'type': 'A', 'routeIdxFrom': 25, 'routeIdxTo': 28, 'txtN': 'Lag 2015:953 tillämpas'}]}, 'name': 'Länstrafik - Spårväg 1', 'type': 'ST', 'stop': 'Frölunda torg (Göteborg kn)', 'stopid': 'A=1@O=Frölunda torg (Göteborg kn)@X=11909745@Y=57652623@U=1@L=740015565@', 'stopExtId': '740015565', 'lon': 11.909745, 'lat': 57.652623, 'time': '10:55:00', 'date': '2025-01-29', 'reachable': True, 'direction': 'Tynnered Opaltorget (Göteborg kn)', 'directionFlag': '2'}, {'JourneyDetailRef': {'ref': '1|19684|12|1|29012025'}, 'JourneyStatus': 'P', 'ProductAtStop': {'icon': {'res': 'prod_gen'}, 'operatorInfo': {'name': 'Västtrafik', 'nameS': '279', 'nameN': '279', 'nameL': 'Västtrafik', 'id': '279'}, 'name': 'Länstrafik - Spårväg 7', 'internalName': 'Länstrafik - Spårväg 7', 'displayNumber': '7', 'num': '7', 'line': '7', 'lineId': '1279500700001', 'catOut': 'SLT', 'catIn': 'SLT', 'catCode': '6', 'cls': '64', 'catOutS': 'SLT', 'catOutL': 'Länstrafik - Spårväg', 'operatorCode': '279', 'operator': 'Västtrafik', 'admin': '279___', 'matchId': '7;5007;4834'}, 'Product': [{'icon': {'res': 'prod_gen'}, 'operatorInfo': {'name': 'Västtrafik', 'nameS': '279', 'nameN': '279', 'nameL': 'Västtrafik', 'id': '279'}, 'name': 'Länstrafik - Spårväg 7', 'internalName': 'Länstrafik - Spårväg 7', 'displayNumber': '7', 'num': '7', 'line': '7', 'lineId': '1279500700001', 'catOut': 'SLT', 'catIn': 'SLT', 'catCode': '6', 'cls': '64', 'catOutS': 'SLT', 'catOutL': 'Länstrafik - Spårväg', 'operatorCode': '279', 'operator': 'Västtrafik', 'admin': '279___', 'routeIdxFrom': 31, 'routeIdxTo': 34, 'matchId': '7;5007;4834'}], 'Notes': {'Note': [{'value': 'Lag 2015:953 tillämpas', 'key': 'EG', 'type': 'A', 'routeIdxFrom': 31, 'routeIdxTo': 34, 'txtN': 'Lag 2015:953 tillämpas'}]}, 'name': 'Länstrafik - Spårväg 7', 'type': 'ST', 'stop': 'Frölunda torg (Göteborg kn)', 'stopid': 'A=1@O=Frölunda torg (Göteborg kn)@X=11909745@Y=57652623@U=1@L=740015565@', 'stopExtId': '740015565', 'lon': 11.909745, 'lat': 57.652623, 'time': '10:56:00', 'date': '2025-01-29', 'reachable': True, 'direction': 'Tynnered Opaltorget (Göteborg kn)', 'directionFlag': '2'}, {'JourneyDetailRef': {'ref': '1|180801|2|1|29012025'}, 'JourneyStatus': 'P', 'ProductAtStop': {'icon': {'res': 'prod_gen'}, 'operatorInfo': {'name': 'Västtrafik', 'nameS': '279', 'nameN': '279', 'nameL': 'Västtrafik', 'id': '279'}, 'name': 'Länstrafik - Buss LILA', 'internalName': 'Länstrafik - Buss LILA', 'displayNumber': 'LILA', 'num': 'LILA', 'line': 'LILA', 'lineId': '1279620400001', 'catOut': 'BLT', 'catIn': 'BLT', 'catCode': '7', 'cls': '128', 'catOutS': 'BLT', 'catOutL': 'Länstrafik - Buss', 'operatorCode': '279', 'operator': 'Västtrafik', 'admin': '279___', 'matchId': 'LILA;6204;48'}, 'Product': [{'icon': {'res': 'prod_gen'}, 'operatorInfo': {'name': 'Västtrafik', 'nameS': '279', 'nameN': '279', 'nameL': 'Västtrafik', 'id': '279'}, 'name': 'Länstrafik - Buss LILA', 'internalName': 'Länstrafik - Buss LILA', 'displayNumber': 'LILA', 'num': 'LILA', 'line': 'LILA', 'lineId': '1279620400001', 'catOut': 'BLT', 'catIn': 'BLT', 'catCode': '7', 'cls': '128', 'catOutS': 'BLT', 'catOutL': 'Länstrafik - Buss', 'operatorCode': '279', 'operator': 'Västtrafik', 'admin': '279___', 'routeIdxFrom': 18, 'routeIdxTo': 24, 'matchId': 'LILA;6204;48'}], 'Notes': {'Note': [{'value': 'Lag 2015:953 tillämpas', 'key': 'EG', 'type': 'A', 'routeIdxFrom': 18, 'routeIdxTo': 24, 'txtN': 'Lag 2015:953 tillämpas'}]}, 'name': 'Länstrafik - Buss LILA', 'type': 'ST', 'stop': 'Frölunda torg (Göteborg kn)', 'stopid': 'A=1@O=Frölunda torg (Göteborg kn)@X=11909745@Y=57652623@U=1@L=740015565@', 'stopExtId': '740015565', 'lon': 11.909745, 'lat': 57.652623, 'time': '10:57:00', 'date': '2025-01-29', 'reachable': True, 'direction': 'Amhult Resecentrum (Göteborg kn)', 'directionFlag': '2'}, {'JourneyDetailRef': {'ref': '1|19480|1|1|29012025'}, 'JourneyStatus': 'P', 'ProductAtStop': {'icon': {'res': 'prod_gen'}, 'operatorInfo': {'name': 'Västtrafik', 'nameS': '279', 'nameN': '279', 'nameL': 'Västtrafik', 'id': '279'}, 'name': 'Länstrafik - Spårväg 7', 'internalName': 'Länstrafik - Spårväg 7', 'displayNumber': '7', 'num': '7', 'line': '7', 'lineId': '1279500700001', 'catOut': 'SLT', 'catIn': 'SLT', 'catCode': '6', 'cls': '64', 'catOutS': 'SLT', 'catOutL': 'Länstrafik - Spårväg', 'operatorCode': '279', 'operator': 'Västtrafik', 'admin': '279___', 'matchId': '7;5007;4935'}, 'Product': [{'icon': {'res': 'prod_gen'}, 'operatorInfo': {'name': 'Västtrafik', 'nameS': '279', 'nameN': '279', 'nameL': 'Västtrafik', 'id': '279'}, 'name': 'Länstrafik - Spårväg 7', 'internalName': 'Länstrafik - Spårväg 7', 'displayNumber': '7', 'num': '7', 'line': '7', 'lineId': '1279500700001', 'catOut': 'SLT', 'catIn': 'SLT', 'catCode': '6', 'cls': '64', 'catOutS': 'SLT', 'catOutL': 'Länstrafik - Spårväg', 'operatorCode': '279', 'operator': 'Västtrafik', 'admin': '279___', 'routeIdxFrom': 3, 'routeIdxTo': 34, 'matchId': '7;5007;4935'}], 'Notes': {'Note': [{'value': 'Lag 2015:953 tillämpas', 'key': 'EG', 'type': 'A', 'routeIdxFrom': 3, 'routeIdxTo': 34, 'txtN': 'Lag 2015:953 tillämpas'}]}, 'name': 'Länstrafik - Spårväg 7', 'type': 'ST', 'stop': 'Frölunda torg (Göteborg kn)', 'stopid': 'A=1@O=Frölunda torg (Göteborg kn)@X=11909745@Y=57652623@U=1@L=740015565@', 'stopExtId': '740015565', 'lon': 11.909745, 'lat': 57.652623, 'time': '10:59:00', 'date': '2025-01-29', 'reachable': True, 'direction': 'Bergsjön Komettorget (Göteborg kn)', 'directionFlag': '1'}, {'JourneyDetailRef': {'ref': '1|13781|0|1|29012025'}, 'JourneyStatus': 'P', 'ProductAtStop': {'icon': {'res': 'prod_gen'}, 'operatorInfo': {'name': 'Västtrafik', 'nameS': '279', 'nameN': '279', 'nameL': 'Västtrafik', 'id': '279'}, 'name': 'Länstrafik - Buss 99', 'internalName': 'Länstrafik - Buss 99', 'displayNumber': '99', 'num': '99', 'line': '99', 'lineId': '1279509900001', 'catOut': 'BLT', 'catIn': 'BLT', 'catCode': '7', 'cls': '128', 'catOutS': 'BLT', 'catOutL': 'Länstrafik - Buss', 'operatorCode': '279', 'operator': 'Västtrafik', 'admin': '279___', 'matchId': '99;5099;91'}, 'Product': [{'icon': {'res': 'prod_gen'}, 'operatorInfo': {'name': 'Västtrafik', 'nameS': '279', 'nameN': '279', 'nameL': 'Västtrafik', 'id': '279'}, 'name': 'Länstrafik - Buss 99', 'internalName': 'Länstrafik - Buss 99', 'displayNumber': '99', 'num': '99', 'line': '99', 'lineId': '1279509900001', 'catOut': 'BLT', 'catIn': 'BLT', 'catCode': '7', 'cls': '128', 'catOutS': 'BLT', 'catOutL': 'Länstrafik - Buss', 'operatorCode': '279', 'operator': 'Västtrafik', 'admin': '279___', 'routeIdxFrom': 0, 'routeIdxTo': 13, 'matchId': '99;5099;91'}], 'Notes': {'Note': [{'value': 'Lag 2015:953 tillämpas', 'key': 'EG', 'type': 'A', 'routeIdxFrom': 0, 'routeIdxTo': 13, 'txtN': 'Lag 2015:953 tillämpas'}]}, 'name': 'Länstrafik - Buss 99', 'type': 'ST', 'stop': 'Frölunda torg (Göteborg kn)', 'stopid': 'A=1@O=Frölunda torg (Göteborg kn)@X=11909745@Y=57652623@U=1@L=740015565@', 'stopExtId': '740015565', 'lon': 11.909745, 'lat': 57.652623, 'time': '11:00:00', 'date': '2025-01-29', 'reachable': True, 'direction': 'Göteborg Hjalmar Brantingspl', 'directionFlag': '1'}, {'JourneyDetailRef': {'ref': '1|17967|0|1|29012025'}, 'JourneyStatus': 'P', 'ProductAtStop': {'icon': {'res': 'prod_gen'}, 'operatorInfo': {'name': 'Västtrafik', 'nameS': '279', 'nameN': '279', 'nameL': 'Västtrafik', 'id': '279'}, 'name': 'Länstrafik - Buss 86', 'internalName': 'Länstrafik - Buss 86', 'displayNumber': '86', 'num': '86', 'line': '86', 'lineId': '1279508600001', 'catOut': 'BLT', 'catIn': 'BLT', 'catCode': '7', 'cls': '128', 'catOutS': 'BLT', 'catOutL': 'Länstrafik - Buss', 'operatorCode': '279', 'operator': 'Västtrafik', 'admin': '279___', 'matchId': '86;5086;29'}, 'Product': [{'icon': {'res': 'prod_gen'}, 'operatorInfo': {'name': 'Västtrafik', 'nameS': '279', 'nameN': '279', 'nameL': 'Västtrafik', 'id': '279'}, 'name': 'Länstrafik - Buss 86', 'internalName': 'Länstrafik - Buss 86', 'displayNumber': '86', 'num': '86', 'line': '86', 'lineId': '1279508600001', 'catOut': 'BLT', 'catIn': 'BLT', 'catCode': '7', 'cls': '128', 'catOutS': 'BLT', 'catOutL': 'Länstrafik - Buss', 'operatorCode': '279', 'operator': 'Västtrafik', 'admin': '279___', 'routeIdxFrom': 0, 'routeIdxTo': 23, 'matchId': '86;5086;29'}], 'Notes': {'Note': [{'value': 'Lag 2015:953 tillämpas', 'key': 'EG', 'type': 'A', 'routeIdxFrom': 0, 'routeIdxTo': 23, 'txtN': 'Lag 2015:953 tillämpas'}]}, 'name': 'Länstrafik - Buss 86', 'type': 'ST', 'stop': 'Frölunda torg (Göteborg kn)', 'stopid': 'A=1@O=Frölunda torg (Göteborg kn)@X=11909745@Y=57652623@U=1@L=740015565@', 'stopExtId': '740015565', 'lon': 11.909745, 'lat': 57.652623, 'time': '11:00:00', 'date': '2025-01-29', 'reachable': True, 'direction': 'Kallebäck (Göteborg kn)', 'directionFlag': '1'}, {'JourneyDetailRef': {'ref': '1|94771|4|1|29012025'}, 'JourneyStatus': 'P', 'ProductAtStop': {'icon': {'res': 'prod_gen'}, 'operatorInfo': {'name': 'Västtrafik', 'nameS': '279', 'nameN': '279', 'nameL': 'Västtrafik', 'id': '279'}, 'name': 'Länstrafik - Buss 95', 'internalName': 'Länstrafik - Buss 95', 'displayNumber': '95', 'num': '95', 'line': '95', 'lineId': '1279509500001', 'catOut': 'BLT', 'catIn': 'BLT', 'catCode': '7', 'cls': '128', 'catOutS': 'BLT', 'catOutL': 'Länstrafik - Buss', 'operatorCode': '279', 'operator': 'Västtrafik', 'admin': '279___', 'matchId': '95;5095;32'}, 'Product': [{'icon': {'res': 'prod_gen'}, 'operatorInfo': {'name': 'Västtrafik', 'nameS': '279', 'nameN': '279', 'nameL': 'Västtrafik', 'id': '279'}, 'name': 'Länstrafik - Buss 95', 'internalName': 'Länstrafik - Buss 95', 'displayNumber': '95', 'num': '95', 'line': '95', 'lineId': '1279509500001', 'catOut': 'BLT', 'catIn': 'BLT', 'catCode': '7', 'cls': '128', 'catOutS': 'BLT', 'catOutL': 'Länstrafik - Buss', 'operatorCode': '279', 'operator': 'Västtrafik', 'admin': '279___', 'routeIdxFrom': 0, 'routeIdxTo': 9, 'matchId': '95;5095;32'}], 'Notes': {'Note': [{'value': 'Lag 2015:953 tillämpas', 'key': 'EG', 'type': 'A', 'routeIdxFrom': 0, 'routeIdxTo': 9, 'txtN': 'Lag 2015:953 tillämpas'}]}, 'name': 'Länstrafik - Buss 95', 'type': 'ST', 'stop': 'Frölunda torg (Göteborg kn)', 'stopid': 'A=1@O=Frölunda torg (Göteborg kn)@X=11909745@Y=57652623@U=1@L=740015565@', 'stopExtId': '740015565', 'lon': 11.909745, 'lat': 57.652623, 'time': '11:00:00', 'date': '2025-01-29', 'reachable': True, 'direction': 'Göteborg Marklandsgatan', 'directionFlag': '2'}, {'JourneyDetailRef': {'ref': '1|103255|6|1|29012025'}, 'JourneyStatus': 'P', 'ProductAtStop': {'icon': {'res': 'prod_gen'}, 'operatorInfo': {'name': 'Västtrafik', 'nameS': '279', 'nameN': '279', 'nameL': 'Västtrafik', 'id': '279'}, 'name': 'Länstrafik - Buss 50', 'internalName': 'Länstrafik - Buss 50', 'displayNumber': '50', 'num': '50', 'line': '50', 'lineId': '1279505000001', 'catOut': 'BLT', 'catIn': 'BLT', 'catCode': '7', 'cls': '128', 'catOutS': 'BLT', 'catOutL': 'Länstrafik - Buss', 'operatorCode': '279', 'operator': 'Västtrafik', 'admin': '279___', 'matchId': '50;5050;95'}, 'Product': [{'icon': {'res': 'prod_gen'}, 'operatorInfo': {'name': 'Västtrafik', 'nameS': '279', 'nameN': '279', 'nameL': 'Västtrafik', 'id': '279'}, 'name': 'Länstrafik - Buss 50', 'internalName': 'Länstrafik - Buss 50', 'displayNumber': '50', 'num': '50', 'line': '50', 'lineId': '1279505000001', 'catOut': 'BLT', 'catIn': 'BLT', 'catCode': '7', 'cls': '128', 'catOutS': 'BLT', 'catOutL': 'Länstrafik - Buss', 'operatorCode': '279', 'operator': 'Västtrafik', 'admin': '279___', 'routeIdxFrom': 0, 'routeIdxTo': 6, 'matchId': '50;5050;95'}], 'Notes': {'Note': [{'value': 'Lag 2015:953 tillämpas', 'key': 'EG', 'type': 'A', 'routeIdxFrom': 0, 'routeIdxTo': 6, 'txtN': 'Lag 2015:953 tillämpas'}]}, 'name': 'Länstrafik - Buss 50', 'type': 'ST', 'stop': 'Frölunda torg (Göteborg kn)', 'stopid': 'A=1@O=Frölunda torg (Göteborg kn)@X=11909745@Y=57652623@U=1@L=740015565@', 'stopExtId': '740015565', 'lon': 11.909745, 'lat': 57.652623, 'time': '11:00:00', 'date': '2025-01-29', 'reachable': True, 'direction': 'Göteborg Brunnsparken', 'directionFlag': '1'}, {'JourneyDetailRef': {'ref': '1|130395|1|1|29012025'}, 'JourneyStatus': 'P', 'ProductAtStop': {'icon': {'res': 'prod_gen'}, 'operatorInfo': {'name': 'Västtrafik', 'nameS': '279', 'nameN': '279', 'nameL': 'Västtrafik', 'id': '279'}, 'name': 'Länstrafik - Buss 94', 'internalName': 'Länstrafik - Buss 94', 'displayNumber': '94', 'num': '94', 'line': '94', 'lineId': '1279509400001', 'catOut': 'BLT', 'catIn': 'BLT', 'catCode': '7', 'cls': '128', 'catOutS': 'BLT', 'catOutL': 'Länstrafik - Buss', 'operatorCode': '279', 'operator': 'Västtrafik', 'admin': '279___', 'matchId': '94;5094;23'}, 'Product': [{'icon': {'res': 'prod_gen'}, 'operatorInfo': {'name': 'Västtrafik', 'nameS': '279', 'nameN': '279', 'nameL': 'Västtrafik', 'id': '279'}, 'name': 'Länstrafik - Buss 94', 'internalName': 'Länstrafik - Buss 94', 'displayNumber': '94', 'num': '94', 'line': '94', 'lineId': '1279509400001', 'catOut': 'BLT', 'catIn': 'BLT', 'catCode': '7', 'cls': '128', 'catOutS': 'BLT', 'catOutL': 'Länstrafik - Buss', 'operatorCode': '279', 'operator': 'Västtrafik', 'admin': '279___', 'routeIdxFrom': 0, 'routeIdxTo': 16, 'matchId': '94;5094;23'}], 'Notes': {'Note': [{'value': 'Lag 2015:953 tillämpas', 'key': 'EG', 'type': 'A', 'routeIdxFrom': 0, 'routeIdxTo': 16, 'txtN': 'Lag 2015:953 tillämpas'}]}, 'name': 'Länstrafik - Buss 94', 'type': 'ST', 'stop': 'Frölunda torg (Göteborg kn)', 'stopid': 'A=1@O=Frölunda torg (Göteborg kn)@X=11909745@Y=57652623@U=1@L=740015565@', 'stopExtId': '740015565', 'lon': 11.909745, 'lat': 57.652623, 'time': '11:00:00', 'date': '2025-01-29', 'reachable': True, 'direction': 'Göteborg Näsbovägen', 'directionFlag': '1'}, {'JourneyDetailRef': {'ref': '1|181308|2|1|29012025'}, 'JourneyStatus': 'P', 'ProductAtStop': {'icon': {'res': 'prod_gen'}, 'operatorInfo': {'name': 'Västtrafik', 'nameS': '279', 'nameN': '279', 'nameL': 'Västtrafik', 'id': '279'}, 'name': 'Länstrafik - Buss 93', 'internalName': 'Länstrafik - Buss 93', 'displayNumber': '93', 'num': '93', 'line': '93', 'lineId': '1279509300001', 'catOut': 'BLT', 'catIn': 'BLT', 'catCode': '7', 'cls': '128', 'catOutS': 'BLT', 'catOutL': 'Länstrafik - Buss', 'operatorCode': '279', 'operator': 'Västtrafik', 'admin': '279___', 'matchId': '93;5093;21'}, 'Product': [{'icon': {'res': 'prod_gen'}, 'operatorInfo': {'name': 'Västtrafik', 'nameS': '279', 'nameN': '279', 'nameL': 'Västtrafik', 'id': '279'}, 'name': 'Länstrafik - Buss 93', 'internalName': 'Länstrafik - Buss 93', 'displayNumber': '93', 'num': '93', 'line': '93', 'lineId': '1279509300001', 'catOut': 'BLT', 'catIn': 'BLT', 'catCode': '7', 'cls': '128', 'catOutS': 'BLT', 'catOutL': 'Länstrafik - Buss', 'operatorCode': '279', 'operator': 'Västtrafik', 'admin': '279___', 'routeIdxFrom': 0, 'routeIdxTo': 6, 'matchId': '93;5093;21'}], 'Notes': {'Note': [{'value': 'Lag 2015:953 tillämpas', 'key': 'EG', 'type': 'A', 'routeIdxFrom': 0, 'routeIdxTo': 6, 'txtN': 'Lag 2015:953 tillämpas'}]}, 'name': 'Länstrafik - Buss 93', 'type': 'ST', 'stop': 'Frölunda torg (Göteborg kn)', 'stopid': 'A=1@O=Frölunda torg (Göteborg kn)@X=11909745@Y=57652623@U=1@L=740015565@', 'stopExtId': '740015565', 'lon': 11.909745, 'lat': 57.652623, 'time': '11:00:00', 'date': '2025-01-29', 'reachable': True, 'direction': 'Hultåsen (Göteborg kn)', 'directionFlag': '1'}, {'JourneyDetailRef': {'ref': '1|155585|2|1|29012025'}, 'JourneyStatus': 'P', 'ProductAtStop': {'icon': {'res': 'prod_gen'}, 'operatorInfo': {'name': 'Västtrafik', 'nameS': '279', 'nameN': '279', 'nameL': 'Västtrafik', 'id': '279'}, 'name': 'Länstrafik - Spårväg 1', 'internalName': 'Länstrafik - Spårväg 1', 'displayNumber': '1', 'num': '1', 'line': '1', 'lineId': '1279500100001', 'catOut': 'SLT', 'catIn': 'SLT', 'catCode': '6', 'cls': '64', 'catOutS': 'SLT', 'catOutL': 'Länstrafik - Spårväg', 'operatorCode': '279', 'operator': 'Västtrafik', 'admin': '279___', 'matchId': '1;5001;4947'}, 'Product': [{'icon': {'res': 'prod_gen'}, 'operatorInfo': {'name': 'Västtrafik', 'nameS': '279', 'nameN': '279', 'nameL': 'Västtrafik', 'id': '279'}, 'name': 'Länstrafik - Spårväg 1', 'internalName': 'Länstrafik - Spårväg 1', 'displayNumber': '1', 'num': '1', 'line': '1', 'lineId': '1279500100001', 'catOut': 'SLT', 'catIn': 'SLT', 'catCode': '6', 'cls': '64', 'catOutS': 'SLT', 'catOutL': 'Länstrafik - Spårväg', 'operatorCode': '279', 'operator': 'Västtrafik', 'admin': '279___', 'routeIdxFrom': 3, 'routeIdxTo': 28, 'matchId': '1;5001;4947'}], 'Notes': {'Note': [{'value': 'Lag 2015:953 tillämpas', 'key': 'EG', 'type': 'A', 'routeIdxFrom': 3, 'routeIdxTo': 28, 'txtN': 'Lag 2015:953 tillämpas'}]}, 'name': 'Länstrafik - Spårväg 1', 'type': 'ST', 'stop': 'Frölunda torg (Göteborg kn)', 'stopid': 'A=1@O=Frölunda torg (Göteborg kn)@X=11909745@Y=57652623@U=1@L=740015565@', 'stopExtId': '740015565', 'lon': 11.909745, 'lat': 57.652623, 'time': '11:01:00', 'date': '2025-01-29', 'reachable': True, 'direction': 'Göteborg Östra sjukhuset', 'directionFlag': '1'}, {'JourneyDetailRef': {'ref': '1|180773|3|1|29012025'}, 'JourneyStatus': 'P', 'ProductAtStop': {'icon': {'res': 'prod_gen'}, 'operatorInfo': {'name': 'Västtrafik', 'nameS': '279', 'nameN': '279', 'nameL': 'Västtrafik', 'id': '279'}, 'name': 'Länstrafik - Buss LILA', 'internalName': 'Länstrafik - Buss LILA', 'displayNumber': 'LILA', 'num': 'LILA', 'line': 'LILA', 'lineId': '1279620400001', 'catOut': 'BLT', 'catIn': 'BLT', 'catCode': '7', 'cls': '128', 'catOutS': 'BLT', 'catOutL': 'Länstrafik - Buss', 'operatorCode': '279', 'operator': 'Västtrafik', 'admin': '279___', 'matchId': 'LILA;6204;35'}, 'Product': [{'icon': {'res': 'prod_gen'}, 'operatorInfo': {'name': 'Västtrafik', 'nameS': '279', 'nameN': '279', 'nameL': 'Västtrafik', 'id': '279'}, 'name': 'Länstrafik - Buss LILA', 'internalName': 'Länstrafik - Buss LILA', 'displayNumber': 'LILA', 'num': 'LILA', 'line': 'LILA', 'lineId': '1279620400001', 'catOut': 'BLT', 'catIn': 'BLT', 'catCode': '7', 'cls': '128', 'catOutS': 'BLT', 'catOutL': 'Länstrafik - Buss', 'operatorCode': '279', 'operator': 'Västtrafik', 'admin': '279___', 'routeIdxFrom': 6, 'routeIdxTo': 24, 'matchId': 'LILA;6204;35'}], 'Notes': {'Note': [{'value': 'Lag 2015:953 tillämpas', 'key': 'EG', 'type': 'A', 'routeIdxFrom': 6, 'routeIdxTo': 24, 'txtN': 'Lag 2015:953 tillämpas'}]}, 'name': 'Länstrafik - Buss LILA', 'type': 'ST', 'stop': 'Frölunda torg (Göteborg kn)', 'stopid': 'A=1@O=Frölunda torg (Göteborg kn)@X=11909745@Y=57652623@U=1@L=740015565@', 'stopExtId': '740015565', 'lon': 11.909745, 'lat': 57.652623, 'time': '11:03:00', 'date': '2025-01-29', 'reachable': True, 'direction': 'Mölnlycke station (Härryda kn)', 'directionFlag': '1'}, {'JourneyDetailRef': {'ref': '1|19684|13|1|29012025'}, 'JourneyStatus': 'P', 'ProductAtStop': {'icon': {'res': 'prod_gen'}, 'operatorInfo': {'name': 'Västtrafik', 'nameS': '279', 'nameN': '279', 'nameL': 'Västtrafik', 'id': '279'}, 'name': 'Länstrafik - Spårväg 7', 'internalName': 'Länstrafik - Spårväg 7', 'displayNumber': '7', 'num': '7', 'line': '7', 'lineId': '1279500700001', 'catOut': 'SLT', 'catIn': 'SLT', 'catCode': '6', 'cls': '64', 'catOutS': 'SLT', 'catOutL': 'Länstrafik - Spårväg', 'operatorCode': '279', 'operator': 'Västtrafik', 'admin': '279___', 'matchId': '7;5007;4854'}, 'Product': [{'icon': {'res': 'prod_gen'}, 'operatorInfo': {'name': 'Västtrafik', 'nameS': '279', 'nameN': '279', 'nameL': 'Västtrafik', 'id': '279'}, 'name': 'Länstrafik - Spårväg 7', 'internalName': 'Länstrafik - Spårväg 7', 'displayNumber': '7', 'num': '7', 'line': '7', 'lineId': '1279500700001', 'catOut': 'SLT', 'catIn': 'SLT', 'catCode': '6', 'cls': '64', 'catOutS': 'SLT', 'catOutL': 'Länstrafik - Spårväg', 'operatorCode': '279', 'operator': 'Västtrafik', 'admin': '279___', 'routeIdxFrom': 31, 'routeIdxTo': 34, 'matchId': '7;5007;4854'}], 'Notes': {'Note': [{'value': 'Lag 2015:953 tillämpas', 'key': 'EG', 'type': 'A', 'routeIdxFrom': 31, 'routeIdxTo': 34, 'txtN': 'Lag 2015:953 tillämpas'}]}, 'name': 'Länstrafik - Spårväg 7', 'type': 'ST', 'stop': 'Frölunda torg (Göteborg kn)', 'stopid': 'A=1@O=Frölunda torg (Göteborg kn)@X=11909745@Y=57652623@U=1@L=740015565@', 'stopExtId': '740015565', 'lon': 11.909745, 'lat': 57.652623, 'time': '11:04:00', 'date': '2025-01-29', 'reachable': True, 'direction': 'Tynnered Opaltorget (Göteborg kn)', 'directionFlag': '2'}, {'JourneyDetailRef': {'ref': '1|64592|7|1|29012025'}, 'JourneyStatus': 'P', 'ProductAtStop': {'icon': {'res': 'prod_gen'}, 'operatorInfo': {'name': 'Västtrafik', 'nameS': '279', 'nameN': '279', 'nameL': 'Västtrafik', 'id': '279'}, 'name': 'Länstrafik - Spårväg 8', 'internalName': 'Länstrafik - Spårväg 8', 'displayNumber': '8', 'num': '8', 'line': '8', 'lineId': '1279500800001', 'catOut': 'SLT', 'catIn': 'SLT', 'catCode': '6', 'cls': '64', 'catOutS': 'SLT', 'catOutL': 'Länstrafik - Spårväg', 'operatorCode': '279', 'operator': 'Västtrafik', 'admin': '279___', 'matchId': '8;5008;4963'}, 'Product': [{'icon': {'res': 'prod_gen'}, 'operatorInfo': {'name': 'Västtrafik', 'nameS': '279', 'nameN': '279', 'nameL': 'Västtrafik', 'id': '279'}, 'name': 'Länstrafik - Spårväg 8', 'internalName': 'Länstrafik - Spårväg 8', 'displayNumber': '8', 'num': '8', 'line': '8', 'lineId': '1279500800001', 'catOut': 'SLT', 'catIn': 'SLT', 'catCode': '6', 'cls': '64', 'catOutS': 'SLT', 'catOutL': 'Länstrafik - Spårväg', 'operatorCode': '279', 'operator': 'Västtrafik', 'admin': '279___', 'routeIdxFrom': 0, 'routeIdxTo': 24, 'matchId': '8;5008;4963'}], 'Notes': {'Note': [{'value': 'Lag 2015:953 tillämpas', 'key': 'EG', 'type': 'A', 'routeIdxFrom': 0, 'routeIdxTo': 24, 'txtN': 'Lag 2015:953 tillämpas'}]}, 'name': 'Länstrafik - Spårväg 8', 'type': 'ST', 'stop': 'Frölunda torg (Göteborg kn)', 'stopid': 'A=1@O=Frölunda torg (Göteborg kn)@X=11909745@Y=57652623@U=1@L=740015565@', 'stopExtId': '740015565', 'lon': 11.909745, 'lat': 57.652623, 'time': '11:05:00', 'date': '2025-01-29', 'reachable': True, 'direction': 'Angered centrum (Göteborg kn)', 'directionFlag': '1'}, {'JourneyDetailRef': {'ref': '1|155819|4|1|29012025'}, 'JourneyStatus': 'P', 'ProductAtStop': {'icon': {'res': 'prod_gen'}, 'operatorInfo': {'name': 'Västtrafik', 'nameS': '279', 'nameN': '279', 'nameL': 'Västtrafik', 'id': '279'}, 'name': 'Länstrafik - Spårväg 1', 'internalName': 'Länstrafik - Spårväg 1', 'displayNumber': '1', 'num': '1', 'line': '1', 'lineId': '1279500100001', 'catOut': 'SLT', 'catIn': 'SLT', 'catCode': '6', 'cls': '64', 'catOutS': 'SLT', 'catOutL': 'Länstrafik - Spårväg', 'operatorCode': '279', 'operator': 'Västtrafik', 'admin': '279___', 'matchId': '1;5001;4878'}, 'Product': [{'icon': {'res': 'prod_gen'}, 'operatorInfo': {'name': 'Västtrafik', 'nameS': '279', 'nameN': '279', 'nameL': 'Västtrafik', 'id': '279'}, 'name': 'Länstrafik - Spårväg 1', 'internalName': 'Länstrafik - Spårväg 1', 'displayNumber': '1', 'num': '1', 'line': '1', 'lineId': '1279500100001', 'catOut': 'SLT', 'catIn': 'SLT', 'catCode': '6', 'cls': '64', 'catOutS': 'SLT', 'catOutL': 'Länstrafik - Spårväg', 'operatorCode': '279', 'operator': 'Västtrafik', 'admin': '279___', 'routeIdxFrom': 25, 'routeIdxTo': 28, 'matchId': '1;5001;4878'}], 'Notes': {'Note': [{'value': 'Lag 2015:953 tillämpas', 'key': 'EG', 'type': 'A', 'routeIdxFrom': 25, 'routeIdxTo': 28, 'txtN': 'Lag 2015:953 tillämpas'}]}, 'name': 'Länstrafik - Spårväg 1', 'type': 'ST', 'stop': 'Frölunda torg (Göteborg kn)', 'stopid': 'A=1@O=Frölunda torg (Göteborg kn)@X=11909745@Y=57652623@U=1@L=740015565@', 'stopExtId': '740015565', 'lon': 11.909745, 'lat': 57.652623, 'time': '11:06:00', 'date': '2025-01-29', 'reachable': True, 'direction': 'Tynnered Opaltorget (Göteborg kn)', 'directionFlag': '2'}, {'JourneyDetailRef': {'ref': '1|19481|1|1|29012025'}, 'JourneyStatus': 'P', 'ProductAtStop': {'icon': {'res': 'prod_gen'}, 'operatorInfo': {'name': 'Västtrafik', 'nameS': '279', 'nameN': '279', 'nameL': 'Västtrafik', 'id': '279'}, 'name': 'Länstrafik - Spårväg 7', 'internalName': 'Länstrafik - Spårväg 7', 'displayNumber': '7', 'num': '7', 'line': '7', 'lineId': '1279500700001', 'catOut': 'SLT', 'catIn': 'SLT', 'catCode': '6', 'cls': '64', 'catOutS': 'SLT', 'catOutL': 'Länstrafik - Spårväg', 'operatorCode': '279', 'operator': 'Västtrafik', 'admin': '279___', 'matchId': '7;5007;4953'}, 'Product': [{'icon': {'res': 'prod_gen'}, 'operatorInfo': {'name': 'Västtrafik', 'nameS': '279', 'nameN': '279', 'nameL': 'Västtrafik', 'id': '279'}, 'name': 'Länstrafik - Spårväg 7', 'internalName': 'Länstrafik - Spårväg 7', 'displayNumber': '7', 'num': '7', 'line': '7', 'lineId': '1279500700001', 'catOut': 'SLT', 'catIn': 'SLT', 'catCode': '6', 'cls': '64', 'catOutS': 'SLT', 'catOutL': 'Länstrafik - Spårväg', 'operatorCode': '279', 'operator': 'Västtrafik', 'admin': '279___', 'routeIdxFrom': 3, 'routeIdxTo': 34, 'matchId': '7;5007;4953'}], 'Notes': {'Note': [{'value': 'Lag 2015:953 tillämpas', 'key': 'EG', 'type': 'A', 'routeIdxFrom': 3, 'routeIdxTo': 34, 'txtN': 'Lag 2015:953 tillämpas'}]}, 'name': 'Länstrafik - Spårväg 7', 'type': 'ST', 'stop': 'Frölunda torg (Göteborg kn)', 'stopid': 'A=1@O=Frölunda torg (Göteborg kn)@X=11909745@Y=57652623@U=1@L=740015565@', 'stopExtId': '740015565', 'lon': 11.909745, 'lat': 57.652623, 'time': '11:07:00', 'date': '2025-01-29', 'reachable': True, 'direction': 'Bergsjön Komettorget (Göteborg kn)', 'directionFlag': '1'}, {'JourneyDetailRef': {'ref': '1|128597|0|1|29012025'}, 'JourneyStatus': 'P', 'ProductAtStop': {'icon': {'res': 'prod_gen'}, 'operatorInfo': {'name': 'Västtrafik', 'nameS': '279', 'nameN': '279', 'nameL': 'Västtrafik', 'id': '279'}, 'name': 'Länstrafik - Buss 751', 'internalName': 'Länstrafik - Buss 751', 'displayNumber': '751', 'num': '751', 'line': '751', 'lineId': '1279575100001', 'catOut': 'BLT', 'catIn': 'BLT', 'catCode': '7', 'cls': '128', 'catOutS': 'BLT', 'catOutL': 'Länstrafik - Buss', 'operatorCode': '279', 'operator': 'Västtrafik', 'admin': '279___', 'matchId': '751;5751;44'}, 'Product': [{'icon': {'res': 'prod_gen'}, 'operatorInfo': {'name': 'Västtrafik', 'nameS': '279', 'nameN': '279', 'nameL': 'Västtrafik', 'id': '279'}, 'name': 'Länstrafik - Buss 751', 'internalName': 'Länstrafik - Buss 751', 'displayNumber': '751', 'num': '751', 'line': '751', 'lineId': '1279575100001', 'catOut': 'BLT', 'catIn': 'BLT', 'catCode': '7', 'cls': '128', 'catOutS': 'BLT', 'catOutL': 'Länstrafik - Buss', 'operatorCode': '279', 'operator': 'Västtrafik', 'admin': '279___', 'routeIdxFrom': 0, 'routeIdxTo': 37, 'matchId': '751;5751;44'}], 'Notes': {'Note': [{'value': 'Lag 2015:953 tillämpas', 'key': 'EG', 'type': 'A', 'routeIdxFrom': 0, 'routeIdxTo': 37, 'txtN': 'Lag 2015:953 tillämpas'}]}, 'name': 'Länstrafik - Buss 751', 'type': 'ST', 'stop': 'Frölunda torg (Göteborg kn)', 'stopid': 'A=1@O=Frölunda torg (Göteborg kn)@X=11909745@Y=57652623@U=1@L=740015565@', 'stopExtId': '740015565', 'lon': 11.909745, 'lat': 57.652623, 'time': '11:07:00', 'date': '2025-01-29', 'reachable': True, 'direction': 'Mölnlycke station (Härryda kn)', 'directionFlag': '2'}, {'JourneyDetailRef': {'ref': '1|13786|0|1|29012025'}, 'JourneyStatus': 'P', 'ProductAtStop': {'icon': {'res': 'prod_gen'}, 'operatorInfo': {'name': 'Västtrafik', 'nameS': '279', 'nameN': '279', 'nameL': 'Västtrafik', 'id': '279'}, 'name': 'Länstrafik - Buss 99', 'internalName': 'Länstrafik - Buss 99', 'displayNumber': '99', 'num': '99', 'line': '99', 'lineId': '1279509900001', 'catOut': 'BLT', 'catIn': 'BLT', 'catCode': '7', 'cls': '128', 'catOutS': 'BLT', 'catOutL': 'Länstrafik - Buss', 'operatorCode': '279', 'operator': 'Västtrafik', 'admin': '279___', 'matchId': '99;5099;93'}, 'Product': [{'icon': {'res': 'prod_gen'}, 'operatorInfo': {'name': 'Västtrafik', 'nameS': '279', 'nameN': '279', 'nameL': 'Västtrafik', 'id': '279'}, 'name': 'Länstrafik - Buss 99', 'internalName': 'Länstrafik - Buss 99', 'displayNumber': '99', 'num': '99', 'line': '99', 'lineId': '1279509900001', 'catOut': 'BLT', 'catIn': 'BLT', 'catCode': '7', 'cls': '128', 'catOutS': 'BLT', 'catOutL': 'Länstrafik - Buss', 'operatorCode': '279', 'operator': 'Västtrafik', 'admin': '279___', 'routeIdxFrom': 0, 'routeIdxTo': 13, 'matchId': '99;5099;93'}], 'Notes': {'Note': [{'value': 'Lag 2015:953 tillämpas', 'key': 'EG', 'type': 'A', 'routeIdxFrom': 0, 'routeIdxTo': 13, 'txtN': 'Lag 2015:953 tillämpas'}]}, 'name': 'Länstrafik - Buss 99', 'type': 'ST', 'stop': 'Frölunda torg (Göteborg kn)', 'stopid': 'A=1@O=Frölunda torg (Göteborg kn)@X=11909745@Y=57652623@U=1@L=740015565@', 'stopExtId': '740015565', 'lon': 11.909745, 'lat': 57.652623, 'time': '11:10:00', 'date': '2025-01-29', 'reachable': True, 'direction': 'Göteborg Hjalmar Brantingspl', 'directionFlag': '1'}, {'JourneyDetailRef': {'ref': '1|25643|4|1|29012025'}, 'JourneyStatus': 'P', 'ProductAtStop': {'icon': {'res': 'prod_gen'}, 'operatorInfo': {'name': 'Västtrafik', 'nameS': '279', 'nameN': '279', 'nameL': 'Västtrafik', 'id': '279'}, 'name': 'Länstrafik - Buss 30', 'internalName': 'Länstrafik - Buss 30', 'displayNumber': '30', 'num': '30', 'line': '30', 'lineId': '1279503000001', 'catOut': 'BLT', 'catIn': 'BLT', 'catCode': '7', 'cls': '128', 'catOutS': 'BLT', 'catOutL': 'Länstrafik - Buss', 'operatorCode': '279', 'operator': 'Västtrafik', 'admin': '279___', 'matchId': '30;5030;25'}, 'Product': [{'icon': {'res': 'prod_gen'}, 'operatorInfo': {'name': 'Västtrafik', 'nameS': '279', 'nameN': '279', 'nameL': 'Västtrafik', 'id': '279'}, 'name': 'Länstrafik - Buss 30', 'internalName': 'Länstrafik - Buss 30', 'displayNumber': '30', 'num': '30', 'line': '30', 'lineId': '1279503000001', 'catOut': 'BLT', 'catIn': 'BLT', 'catCode': '7', 'cls': '128', 'catOutS': 'BLT', 'catOutL': 'Länstrafik - Buss', 'operatorCode': '279', 'operator': 'Västtrafik', 'admin': '279___', 'routeIdxFrom': 0, 'routeIdxTo': 18, 'matchId': '30;5030;25'}], 'Notes': {'Note': [{'value': 'Lag 2015:953 tillämpas', 'key': 'EG', 'type': 'A', 'routeIdxFrom': 0, 'routeIdxTo': 18, 'txtN': 'Lag 2015:953 tillämpas'}]}, 'name': 'Länstrafik - Buss 30', 'type': 'ST', 'stop': 'Frölunda torg (Göteborg kn)', 'stopid': 'A=1@O=Frölunda torg (Göteborg kn)@X=11909745@Y=57652623@U=1@L=740015565@', 'stopExtId': '740015565', 'lon': 11.909745, 'lat': 57.652623, 'time': '11:10:00', 'date': '2025-01-29', 'reachable': True, 'direction': 'Göteborg Eketrägatan', 'directionFlag': '1'}, {'JourneyDetailRef': {'ref': '1|102165|0|1|29012025'}, 'JourneyStatus': 'P', 'ProductAtStop': {'icon': {'res': 'prod_gen'}, 'operatorInfo': {'name': 'Västtrafik', 'nameS': '279', 'nameN': '279', 'nameL': 'Västtrafik', 'id': '279'}, 'name': 'Länstrafik - Buss 97', 'internalName': 'Länstrafik - Buss 97', 'displayNumber': '97', 'num': '97', 'line': '97', 'lineId': '1279509700001', 'catOut': 'BLT', 'catIn': 'BLT', 'catCode': '7', 'cls': '128', 'catOutS': 'BLT', 'catOutL': 'Länstrafik - Buss', 'operatorCode': '279', 'operator': 'Västtrafik', 'admin': '279___', 'matchId': '97;5097;23'}, 'Product': [{'icon': {'res': 'prod_gen'}, 'operatorInfo': {'name': 'Västtrafik', 'nameS': '279', 'nameN': '279', 'nameL': 'Västtrafik', 'id': '279'}, 'name': 'Länstrafik - Buss 97', 'internalName': 'Länstrafik - Buss 97', 'displayNumber': '97', 'num': '97', 'line': '97', 'lineId': '1279509700001', 'catOut': 'BLT', 'catIn': 'BLT', 'catCode': '7', 'cls': '128', 'catOutS': 'BLT', 'catOutL': 'Länstrafik - Buss', 'operatorCode': '279', 'operator': 'Västtrafik', 'admin': '279___', 'routeIdxFrom': 0, 'routeIdxTo': 13, 'matchId': '97;5097;23'}], 'Notes': {'Note': [{'value': 'Lag 2015:953 tillämpas', 'key': 'EG', 'type': 'A', 'routeIdxFrom': 0, 'routeIdxTo': 13, 'txtN': 'Lag 2015:953 tillämpas'}]}, 'name': 'Länstrafik - Buss 97', 'type': 'ST', 'stop': 'Frölunda torg (Göteborg kn)', 'stopid': 'A=1@O=Frölunda torg (Göteborg kn)@X=11909745@Y=57652623@U=1@L=740015565@', 'stopExtId': '740015565', 'lon': 11.909745, 'lat': 57.652623, 'time': '11:10:00', 'date': '2025-01-29', 'reachable': True, 'direction': 'Fiskebäcks Småbåtshamn (Göteborg kn)', 'directionFlag': '1'}, {'JourneyDetailRef': {'ref': '1|103255|7|1|29012025'}, 'JourneyStatus': 'P', 'ProductAtStop': {'icon': {'res': 'prod_gen'}, 'operatorInfo': {'name': 'Västtrafik', 'nameS': '279', 'nameN': '279', 'nameL': 'Västtrafik', 'id': '279'}, 'name': 'Länstrafik - Buss 50', 'internalName': 'Länstrafik - Buss 50', 'displayNumber': '50', 'num': '50', 'line': '50', 'lineId': '1279505000001', 'catOut': 'BLT', 'catIn': 'BLT', 'catCode': '7', 'cls': '128', 'catOutS': 'BLT', 'catOutL': 'Länstrafik - Buss', 'operatorCode': '279', 'operator': 'Västtrafik', 'admin': '279___', 'matchId': '50;5050;97'}, 'Product': [{'icon': {'res': 'prod_gen'}, 'operatorInfo': {'name': 'Västtrafik', 'nameS': '279', 'nameN': '279', 'nameL': 'Västtrafik', 'id': '279'}, 'name': 'Länstrafik - Buss 50', 'internalName': 'Länstrafik - Buss 50', 'displayNumber': '50', 'num': '50', 'line': '50', 'lineId': '1279505000001', 'catOut': 'BLT', 'catIn': 'BLT', 'catCode': '7', 'cls': '128', 'catOutS': 'BLT', 'catOutL': 'Länstrafik - Buss', 'operatorCode': '279', 'operator': 'Västtrafik', 'admin': '279___', 'routeIdxFrom': 0, 'routeIdxTo': 6, 'matchId': '50;5050;97'}], 'Notes': {'Note': [{'value': 'Lag 2015:953 tillämpas', 'key': 'EG', 'type': 'A', 'routeIdxFrom': 0, 'routeIdxTo': 6, 'txtN': 'Lag 2015:953 tillämpas'}]}, 'name': 'Länstrafik - Buss 50', 'type': 'ST', 'stop': 'Frölunda torg (Göteborg kn)', 'stopid': 'A=1@O=Frölunda torg (Göteborg kn)@X=11909745@Y=57652623@U=1@L=740015565@', 'stopExtId': '740015565', 'lon': 11.909745, 'lat': 57.652623, 'time': '11:10:00', 'date': '2025-01-29', 'reachable': True, 'direction': 'Göteborg Brunnsparken', 'directionFlag': '1'}, {'JourneyDetailRef': {'ref': '1|155586|4|1|29012025'}, 'JourneyStatus': 'P', 'ProductAtStop': {'icon': {'res': 'prod_gen'}, 'operatorInfo': {'name': 'Västtrafik', 'nameS': '279', 'nameN': '279', 'nameL': 'Västtrafik', 'id': '279'}, 'name': 'Länstrafik - Spårväg 1', 'internalName': 'Länstrafik - Spårväg 1', 'displayNumber': '1', 'num': '1', 'line': '1', 'lineId': '1279500100001', 'catOut': 'SLT', 'catIn': 'SLT', 'catCode': '6', 'cls': '64', 'catOutS': 'SLT', 'catOutL': 'Länstrafik - Spårväg', 'operatorCode': '279', 'operator': 'Västtrafik', 'admin': '279___', 'matchId': '1;5001;4969'}, 'Product': [{'icon': {'res': 'prod_gen'}, 'operatorInfo': {'name': 'Västtrafik', 'nameS': '279', 'nameN': '279', 'nameL': 'Västtrafik', 'id': '279'}, 'name': 'Länstrafik - Spårväg 1', 'internalName': 'Länstrafik - Spårväg 1', 'displayNumber': '1', 'num': '1', 'line': '1', 'lineId': '1279500100001', 'catOut': 'SLT', 'catIn': 'SLT', 'catCode': '6', 'cls': '64', 'catOutS': 'SLT', 'catOutL': 'Länstrafik - Spårväg', 'operatorCode': '279', 'operator': 'Västtrafik', 'admin': '279___', 'routeIdxFrom': 3, 'routeIdxTo': 28, 'matchId': '1;5001;4969'}], 'Notes': {'Note': [{'value': 'Lag 2015:953 tillämpas', 'key': 'EG', 'type': 'A', 'routeIdxFrom': 3, 'routeIdxTo': 28, 'txtN': 'Lag 2015:953 tillämpas'}]}, 'name': 'Länstrafik - Spårväg 1', 'type': 'ST', 'stop': 'Frölunda torg (Göteborg kn)', 'stopid': 'A=1@O=Frölunda torg (Göteborg kn)@X=11909745@Y=57652623@U=1@L=740015565@', 'stopExtId': '740015565', 'lon': 11.909745, 'lat': 57.652623, 'time': '11:10:00', 'date': '2025-01-29', 'reachable': True, 'direction': 'Göteborg Östra sjukhuset', 'directionFlag': '1'}, {'JourneyDetailRef': {'ref': '1|19684|14|1|29012025'}, 'JourneyStatus': 'P', 'ProductAtStop': {'icon': {'res': 'prod_gen'}, 'operatorInfo': {'name': 'Västtrafik', 'nameS': '279', 'nameN': '279', 'nameL': 'Västtrafik', 'id': '279'}, 'name': 'Länstrafik - Spårväg 7', 'internalName': 'Länstrafik - Spårväg 7', 'displayNumber': '7', 'num': '7', 'line': '7', 'lineId': '1279500700001', 'catOut': 'SLT', 'catIn': 'SLT', 'catCode': '6', 'cls': '64', 'catOutS': 'SLT', 'catOutL': 'Länstrafik - Spårväg', 'operatorCode': '279', 'operator': 'Västtrafik', 'admin': '279___', 'matchId': '7;5007;4872'}, 'Product': [{'icon': {'res': 'prod_gen'}, 'operatorInfo': {'name': 'Västtrafik', 'nameS': '279', 'nameN': '279', 'nameL': 'Västtrafik', 'id': '279'}, 'name': 'Länstrafik - Spårväg 7', 'internalName': 'Länstrafik - Spårväg 7', 'displayNumber': '7', 'num': '7', 'line': '7', 'lineId': '1279500700001', 'catOut': 'SLT', 'catIn': 'SLT', 'catCode': '6', 'cls': '64', 'catOutS': 'SLT', 'catOutL': 'Länstrafik - Spårväg', 'operatorCode': '279', 'operator': 'Västtrafik', 'admin': '279___', 'routeIdxFrom': 31, 'routeIdxTo': 34, 'matchId': '7;5007;4872'}], 'Notes': {'Note': [{'value': 'Lag 2015:953 tillämpas', 'key': 'EG', 'type': 'A', 'routeIdxFrom': 31, 'routeIdxTo': 34, 'txtN': 'Lag 2015:953 tillämpas'}]}, 'name': 'Länstrafik - Spårväg 7', 'type': 'ST', 'stop': 'Frölunda torg (Göteborg kn)', 'stopid': 'A=1@O=Frölunda torg (Göteborg kn)@X=11909745@Y=57652623@U=1@L=740015565@', 'stopExtId': '740015565', 'lon': 11.909745, 'lat': 57.652623, 'time': '11:12:00', 'date': '2025-01-29', 'reachable': True, 'direction': 'Tynnered Opaltorget (Göteborg kn)', 'directionFlag': '2'}, {'JourneyDetailRef': {'ref': '1|19482|1|1|29012025'}, 'JourneyStatus': 'P', 'ProductAtStop': {'icon': {'res': 'prod_gen'}, 'operatorInfo': {'name': 'Västtrafik', 'nameS': '279', 'nameN': '279', 'nameL': 'Västtrafik', 'id': '279'}, 'name': 'Länstrafik - Spårväg 7', 'internalName': 'Länstrafik - Spårväg 7', 'displayNumber': '7', 'num': '7', 'line': '7', 'lineId': '1279500700001', 'catOut': 'SLT', 'catIn': 'SLT', 'catCode': '6', 'cls': '64', 'catOutS': 'SLT', 'catOutL': 'Länstrafik - Spårväg', 'operatorCode': '279', 'operator': 'Västtrafik', 'admin': '279___', 'matchId': '7;5007;4973'}, 'Product': [{'icon': {'res': 'prod_gen'}, 'operatorInfo': {'name': 'Västtrafik', 'nameS': '279', 'nameN': '279', 'nameL': 'Västtrafik', 'id': '279'}, 'name': 'Länstrafik - Spårväg 7', 'internalName': 'Länstrafik - Spårväg 7', 'displayNumber': '7', 'num': '7', 'line': '7', 'lineId': '1279500700001', 'catOut': 'SLT', 'catIn': 'SLT', 'catCode': '6', 'cls': '64', 'catOutS': 'SLT', 'catOutL': 'Länstrafik - Spårväg', 'operatorCode': '279', 'operator': 'Västtrafik', 'admin': '279___', 'routeIdxFrom': 3, 'routeIdxTo': 34, 'matchId': '7;5007;4973'}], 'Notes': {'Note': [{'value': 'Lag 2015:953 tillämpas', 'key': 'EG', 'type': 'A', 'routeIdxFrom': 3, 'routeIdxTo': 34, 'txtN': 'Lag 2015:953 tillämpas'}]}, 'name': 'Länstrafik - Spårväg 7', 'type': 'ST', 'stop': 'Frölunda torg (Göteborg kn)', 'stopid': 'A=1@O=Frölunda torg (Göteborg kn)@X=11909745@Y=57652623@U=1@L=740015565@', 'stopExtId': '740015565', 'lon': 11.909745, 'lat': 57.652623, 'time': '11:15:00', 'date': '2025-01-29', 'reachable': True, 'direction': 'Bergsjön Komettorget (Göteborg kn)', 'directionFlag': '1'}, {'JourneyDetailRef': {'ref': '1|155820|2|1|29012025'}, 'JourneyStatus': 'P', 'ProductAtStop': {'icon': {'res': 'prod_gen'}, 'operatorInfo': {'name': 'Västtrafik', 'nameS': '279', 'nameN': '279', 'nameL': 'Västtrafik', 'id': '279'}, 'name': 'Länstrafik - Spårväg 1', 'internalName': 'Länstrafik - Spårväg 1', 'displayNumber': '1', 'num': '1', 'line': '1', 'lineId': '1279500100001', 'catOut': 'SLT', 'catIn': 'SLT', 'catCode': '6', 'cls': '64', 'catOutS': 'SLT', 'catOutL': 'Länstrafik - Spårväg', 'operatorCode': '279', 'operator': 'Västtrafik', 'admin': '279___', 'matchId': '1;5001;4902'}, 'Product': [{'icon': {'res': 'prod_gen'}, 'operatorInfo': {'name': 'Västtrafik', 'nameS': '279', 'nameN': '279', 'nameL': 'Västtrafik', 'id': '279'}, 'name': 'Länstrafik - Spårväg 1', 'internalName': 'Länstrafik - Spårväg 1', 'displayNumber': '1', 'num': '1', 'line': '1', 'lineId': '1279500100001', 'catOut': 'SLT', 'catIn': 'SLT', 'catCode': '6', 'cls': '64', 'catOutS': 'SLT', 'catOutL': 'Länstrafik - Spårväg', 'operatorCode': '279', 'operator': 'Västtrafik', 'admin': '279___', 'routeIdxFrom': 25, 'routeIdxTo': 28, 'matchId': '1;5001;4902'}], 'Notes': {'Note': [{'value': 'Lag 2015:953 tillämpas', 'key': 'EG', 'type': 'A', 'routeIdxFrom': 25, 'routeIdxTo': 28, 'txtN': 'Lag 2015:953 tillämpas'}]}, 'name': 'Länstrafik - Spårväg 1', 'type': 'ST', 'stop': 'Frölunda torg (Göteborg kn)', 'stopid': 'A=1@O=Frölunda torg (Göteborg kn)@X=11909745@Y=57652623@U=1@L=740015565@', 'stopExtId': '740015565', 'lon': 11.909745, 'lat': 57.652623, 'time': '11:16:00', 'date': '2025-01-29', 'reachable': True, 'direction': 'Tynnered Opaltorget (Göteborg kn)', 'directionFlag': '2'}]\n"
     ]
    }
   ],
   "source": [
    "\n",
    "origin_id = 740098548 #Malmö\n",
    "destination_id = 740000002 #Göteborg\n",
    "location_id = 740015565\n",
    "planner = TripPlanner(origin_id, destination_id)\n",
    "\n",
    "\n",
    "\n",
    "origin_name = planner.get_location_name(origin_id)\n",
    "destination_name = planner.get_location_name(destination_id)\n",
    "\n",
    "\n",
    "\n",
    "print(f\"Total trips available between {origin_name} and {destination_name} are: {planner.number_trips}\")\n",
    "print(f\"{planner.timetable_departure}\")"
   ]
  },
  {
   "cell_type": "markdown",
   "metadata": {},
   "source": [
    "# Timetable_Departure EDA"
   ]
  },
  {
   "cell_type": "code",
   "execution_count": 4,
   "metadata": {},
   "outputs": [
    {
     "data": {
      "text/plain": [
       "dict_keys(['JourneyDetailRef', 'JourneyStatus', 'ProductAtStop', 'Product', 'Notes', 'name', 'type', 'stop', 'stopid', 'stopExtId', 'lon', 'lat', 'time', 'date', 'reachable', 'direction', 'directionFlag'])"
      ]
     },
     "execution_count": 4,
     "metadata": {},
     "output_type": "execute_result"
    }
   ],
   "source": [
    "planner.timetable_departure[0].keys()"
   ]
  },
  {
   "cell_type": "code",
   "execution_count": 5,
   "metadata": {},
   "outputs": [
    {
     "data": {
      "text/plain": [
       "[{'icon': {'res': 'prod_gen'},\n",
       "  'operatorInfo': {'name': 'Västtrafik',\n",
       "   'nameS': '279',\n",
       "   'nameN': '279',\n",
       "   'nameL': 'Västtrafik',\n",
       "   'id': '279'},\n",
       "  'name': 'Länstrafik - Spårväg 7',\n",
       "  'internalName': 'Länstrafik - Spårväg 7',\n",
       "  'displayNumber': '7',\n",
       "  'num': '7',\n",
       "  'line': '7',\n",
       "  'lineId': '1279500700001',\n",
       "  'catOut': 'SLT',\n",
       "  'catIn': 'SLT',\n",
       "  'catCode': '6',\n",
       "  'cls': '64',\n",
       "  'catOutS': 'SLT',\n",
       "  'catOutL': 'Länstrafik - Spårväg',\n",
       "  'operatorCode': '279',\n",
       "  'operator': 'Västtrafik',\n",
       "  'admin': '279___',\n",
       "  'routeIdxFrom': 31,\n",
       "  'routeIdxTo': 34,\n",
       "  'matchId': '7;5007;4742'}]"
      ]
     },
     "execution_count": 5,
     "metadata": {},
     "output_type": "execute_result"
    }
   ],
   "source": [
    "planner.timetable_departure[0][\"Product\"]"
   ]
  },
  {
   "cell_type": "code",
   "execution_count": 6,
   "metadata": {},
   "outputs": [
    {
     "data": {
      "text/plain": [
       "dict_keys(['icon', 'operatorInfo', 'name', 'internalName', 'displayNumber', 'num', 'line', 'lineId', 'catOut', 'catIn', 'catCode', 'cls', 'catOutS', 'catOutL', 'operatorCode', 'operator', 'admin', 'routeIdxFrom', 'routeIdxTo', 'matchId'])"
      ]
     },
     "execution_count": 6,
     "metadata": {},
     "output_type": "execute_result"
    }
   ],
   "source": [
    "planner.timetable_departure[0][\"Product\"][0].keys()"
   ]
  },
  {
   "cell_type": "code",
   "execution_count": 7,
   "metadata": {},
   "outputs": [
    {
     "data": {
      "text/plain": [
       "'Västtrafik'"
      ]
     },
     "execution_count": 7,
     "metadata": {},
     "output_type": "execute_result"
    }
   ],
   "source": [
    "planner.timetable_departure[0][\"Product\"][0][\"operator\"]"
   ]
  },
  {
   "cell_type": "code",
   "execution_count": 8,
   "metadata": {},
   "outputs": [
    {
     "data": {
      "text/plain": [
       "dict_keys(['Origin', 'Destination', 'ServiceDays', 'LegList', 'calculation', 'TripStatus', 'idx', 'tripId', 'ctxRecon', 'duration', 'rtDuration', 'checksum'])"
      ]
     },
     "execution_count": 8,
     "metadata": {},
     "output_type": "execute_result"
    }
   ],
   "source": [
    "planner.trips[0].keys() #visualiserar alla KEYS för trips"
   ]
  },
  {
   "cell_type": "code",
   "execution_count": 9,
   "metadata": {},
   "outputs": [
    {
     "data": {
      "text/plain": [
       "{'JourneyDetailRef': {'ref': '1|19684|7|1|29012025'},\n",
       " 'JourneyStatus': 'P',\n",
       " 'ProductAtStop': {'icon': {'res': 'prod_gen'},\n",
       "  'operatorInfo': {'name': 'Västtrafik',\n",
       "   'nameS': '279',\n",
       "   'nameN': '279',\n",
       "   'nameL': 'Västtrafik',\n",
       "   'id': '279'},\n",
       "  'name': 'Länstrafik - Spårväg 7',\n",
       "  'internalName': 'Länstrafik - Spårväg 7',\n",
       "  'displayNumber': '7',\n",
       "  'num': '7',\n",
       "  'line': '7',\n",
       "  'lineId': '1279500700001',\n",
       "  'catOut': 'SLT',\n",
       "  'catIn': 'SLT',\n",
       "  'catCode': '6',\n",
       "  'cls': '64',\n",
       "  'catOutS': 'SLT',\n",
       "  'catOutL': 'Länstrafik - Spårväg',\n",
       "  'operatorCode': '279',\n",
       "  'operator': 'Västtrafik',\n",
       "  'admin': '279___',\n",
       "  'matchId': '7;5007;4742'},\n",
       " 'Product': [{'icon': {'res': 'prod_gen'},\n",
       "   'operatorInfo': {'name': 'Västtrafik',\n",
       "    'nameS': '279',\n",
       "    'nameN': '279',\n",
       "    'nameL': 'Västtrafik',\n",
       "    'id': '279'},\n",
       "   'name': 'Länstrafik - Spårväg 7',\n",
       "   'internalName': 'Länstrafik - Spårväg 7',\n",
       "   'displayNumber': '7',\n",
       "   'num': '7',\n",
       "   'line': '7',\n",
       "   'lineId': '1279500700001',\n",
       "   'catOut': 'SLT',\n",
       "   'catIn': 'SLT',\n",
       "   'catCode': '6',\n",
       "   'cls': '64',\n",
       "   'catOutS': 'SLT',\n",
       "   'catOutL': 'Länstrafik - Spårväg',\n",
       "   'operatorCode': '279',\n",
       "   'operator': 'Västtrafik',\n",
       "   'admin': '279___',\n",
       "   'routeIdxFrom': 31,\n",
       "   'routeIdxTo': 34,\n",
       "   'matchId': '7;5007;4742'}],\n",
       " 'Notes': {'Note': [{'value': 'Lag 2015:953 tillämpas',\n",
       "    'key': 'EG',\n",
       "    'type': 'A',\n",
       "    'routeIdxFrom': 31,\n",
       "    'routeIdxTo': 34,\n",
       "    'txtN': 'Lag 2015:953 tillämpas'}]},\n",
       " 'name': 'Länstrafik - Spårväg 7',\n",
       " 'type': 'ST',\n",
       " 'stop': 'Frölunda torg (Göteborg kn)',\n",
       " 'stopid': 'A=1@O=Frölunda torg (Göteborg kn)@X=11909745@Y=57652623@U=1@L=740015565@',\n",
       " 'stopExtId': '740015565',\n",
       " 'lon': 11.909745,\n",
       " 'lat': 57.652623,\n",
       " 'time': '10:16:00',\n",
       " 'date': '2025-01-29',\n",
       " 'reachable': True,\n",
       " 'direction': 'Tynnered Opaltorget (Göteborg kn)',\n",
       " 'directionFlag': '2'}"
      ]
     },
     "execution_count": 9,
     "metadata": {},
     "output_type": "execute_result"
    }
   ],
   "source": [
    "planner.timetable_departure[0]"
   ]
  },
  {
   "cell_type": "markdown",
   "metadata": {},
   "source": [
    "# Trips EDA"
   ]
  },
  {
   "cell_type": "code",
   "execution_count": 10,
   "metadata": {},
   "outputs": [
    {
     "data": {
      "text/plain": [
       "dict_keys(['Origin', 'Destination', 'ServiceDays', 'LegList', 'calculation', 'TripStatus', 'idx', 'tripId', 'ctxRecon', 'duration', 'rtDuration', 'checksum'])"
      ]
     },
     "execution_count": 10,
     "metadata": {},
     "output_type": "execute_result"
    }
   ],
   "source": [
    "planner.trips[0].keys() #visualiserar alla KEYS för trips"
   ]
  },
  {
   "cell_type": "code",
   "execution_count": 11,
   "metadata": {},
   "outputs": [
    {
     "data": {
      "text/plain": [
       "5"
      ]
     },
     "execution_count": 11,
     "metadata": {},
     "output_type": "execute_result"
    }
   ],
   "source": [
    "len(planner.trips)"
   ]
  },
  {
   "cell_type": "code",
   "execution_count": 12,
   "metadata": {},
   "outputs": [
    {
     "data": {
      "text/plain": [
       "dict_keys(['Origin', 'Destination', 'Notes', 'JourneyDetailRef', 'JourneyStatus', 'Product', 'Stops', 'JourneyDetail', 'id', 'idx', 'name', 'number', 'category', 'type', 'reachable', 'waitingState', 'direction', 'directionFlag', 'duration', 'minimumChangeDuration'])"
      ]
     },
     "execution_count": 12,
     "metadata": {},
     "output_type": "execute_result"
    }
   ],
   "source": [
    "planner.trips[0][\"LegList\"][\"Leg\"][0].keys()"
   ]
  },
  {
   "cell_type": "code",
   "execution_count": 13,
   "metadata": {},
   "outputs": [
    {
     "data": {
      "text/plain": [
       "'Vy Bus4You'"
      ]
     },
     "execution_count": 13,
     "metadata": {},
     "output_type": "execute_result"
    }
   ],
   "source": [
    "planner.trips[0][\"LegList\"][\"Leg\"][0][\"Product\"][0][\"operator\"] #Operator in trips"
   ]
  },
  {
   "cell_type": "code",
   "execution_count": 14,
   "metadata": {},
   "outputs": [
    {
     "data": {
      "text/plain": [
       "2"
      ]
     },
     "execution_count": 14,
     "metadata": {},
     "output_type": "execute_result"
    }
   ],
   "source": [
    "len(planner.trips[0][\"LegList\"][\"Leg\"])"
   ]
  },
  {
   "cell_type": "code",
   "execution_count": null,
   "metadata": {},
   "outputs": [],
   "source": []
  },
  {
   "cell_type": "code",
   "execution_count": 15,
   "metadata": {},
   "outputs": [
    {
     "data": {
      "text/plain": [
       "[{'Origin': {'name': 'Malmö C Norra Vallgatan',\n",
       "   'type': 'ST',\n",
       "   'id': 'A=1@O=Malmö C Norra Vallgatan@X=13000083@Y=55607918@U=1@L=740072050@',\n",
       "   'extId': '740072050',\n",
       "   'lon': 13.000083,\n",
       "   'lat': 55.607918,\n",
       "   'routeIdx': 0,\n",
       "   'prognosisType': 'PROGNOSED',\n",
       "   'time': '11:00:00',\n",
       "   'date': '2025-01-29',\n",
       "   'minimumChangeDuration': 'PT20M'},\n",
       "  'Destination': {'name': 'Göteborg Nils Ericsonterminal',\n",
       "   'type': 'ST',\n",
       "   'id': 'A=1@O=Göteborg Nils Ericsonterminal@X=11971852@Y=57710271@U=1@L=740020483@',\n",
       "   'extId': '740020483',\n",
       "   'lon': 11.971852,\n",
       "   'lat': 57.710271,\n",
       "   'routeIdx': 4,\n",
       "   'prognosisType': 'PROGNOSED',\n",
       "   'time': '15:00:00',\n",
       "   'date': '2025-01-29',\n",
       "   'minimumChangeDuration': 'PT5M'},\n",
       "  'Notes': {'Note': [{'value': 'Obligatorisk platsbokning',\n",
       "     'key': 'AF',\n",
       "     'type': 'A',\n",
       "     'routeIdxFrom': 0,\n",
       "     'routeIdxTo': 4,\n",
       "     'txtN': 'Obligatorisk platsbokning'},\n",
       "    {'value': 'Internetuppkoppling',\n",
       "     'key': 'AV',\n",
       "     'type': 'A',\n",
       "     'routeIdxFrom': 0,\n",
       "     'routeIdxTo': 4,\n",
       "     'txtN': 'Internetuppkoppling'},\n",
       "    {'value': 'EU förordning 181/2011',\n",
       "     'key': 'EB',\n",
       "     'type': 'A',\n",
       "     'routeIdxFrom': 0,\n",
       "     'routeIdxTo': 4,\n",
       "     'txtN': 'EU förordning 181/2011'}]},\n",
       "  'JourneyDetailRef': {'ref': '1|9315|1|1|29012025'},\n",
       "  'JourneyStatus': 'P',\n",
       "  'Product': [{'icon': {'res': 'prod_gen'},\n",
       "    'operatorInfo': {'name': 'Vy Bus4You',\n",
       "     'nameS': '327',\n",
       "     'nameN': '327',\n",
       "     'nameL': 'Vy Bus4You',\n",
       "     'id': '327'},\n",
       "    'name': 'Expressbuss 600',\n",
       "    'internalName': 'Expressbuss 600',\n",
       "    'displayNumber': '600',\n",
       "    'num': '600',\n",
       "    'line': '600',\n",
       "    'lineId': '1327060000001',\n",
       "    'catOut': 'BXB',\n",
       "    'catIn': 'BXB',\n",
       "    'catCode': '3',\n",
       "    'cls': '8',\n",
       "    'catOutS': 'BXB',\n",
       "    'catOutL': 'Expressbuss',\n",
       "    'operatorCode': '327',\n",
       "    'operator': 'Vy Bus4You',\n",
       "    'admin': '327___',\n",
       "    'routeIdxFrom': 0,\n",
       "    'routeIdxTo': 4,\n",
       "    'matchId': '600;600;605'}],\n",
       "  'Stops': {'Stop': [{'name': 'Malmö C Norra Vallgatan',\n",
       "     'id': 'A=1@O=Malmö C Norra Vallgatan@X=13000083@Y=55607918@U=1@L=740072050@',\n",
       "     'extId': '740072050',\n",
       "     'routeIdx': 0,\n",
       "     'lon': 13.000083,\n",
       "     'lat': 55.607918,\n",
       "     'depPrognosisType': 'PROGNOSED',\n",
       "     'depTime': '11:00:00',\n",
       "     'depDate': '2025-01-29',\n",
       "     'depDir': 'Oslo Bussterminal (Norge)',\n",
       "     'minimumChangeDuration': 'PT20M'},\n",
       "    {'name': 'Lund Centralstation',\n",
       "     'id': 'A=1@O=Lund Centralstation@X=13186897@Y=55708094@U=1@L=740000120@',\n",
       "     'extId': '740000120',\n",
       "     'routeIdx': 1,\n",
       "     'lon': 13.186897,\n",
       "     'lat': 55.708094,\n",
       "     'depTime': '11:25:00',\n",
       "     'depDate': '2025-01-29',\n",
       "     'arrTime': '11:25:00',\n",
       "     'arrDate': '2025-01-29',\n",
       "     'minimumChangeDuration': 'PT10M'},\n",
       "    {'name': 'Helsingborg Centralstation',\n",
       "     'id': 'A=1@O=Helsingborg Centralstation@X=12694261@Y=56044408@U=1@L=740000044@',\n",
       "     'extId': '740000044',\n",
       "     'routeIdx': 2,\n",
       "     'lon': 12.694261,\n",
       "     'lat': 56.044408,\n",
       "     'depTime': '12:15:00',\n",
       "     'depDate': '2025-01-29',\n",
       "     'arrTime': '12:15:00',\n",
       "     'arrDate': '2025-01-29',\n",
       "     'minimumChangeDuration': 'PT9M'},\n",
       "    {'name': 'Halmstad C Resecentrum',\n",
       "     'id': 'A=1@O=Halmstad C Resecentrum@X=12865811@Y=56670273@U=1@L=740043449@',\n",
       "     'extId': '740043449',\n",
       "     'routeIdx': 3,\n",
       "     'lon': 12.865811,\n",
       "     'lat': 56.670273,\n",
       "     'depTime': '13:20:00',\n",
       "     'depDate': '2025-01-29',\n",
       "     'arrTime': '13:20:00',\n",
       "     'arrDate': '2025-01-29',\n",
       "     'minimumChangeDuration': 'PT5M'},\n",
       "    {'name': 'Göteborg Nils Ericsonterminal',\n",
       "     'id': 'A=1@O=Göteborg Nils Ericsonterminal@X=11971852@Y=57710271@U=1@L=740020483@',\n",
       "     'extId': '740020483',\n",
       "     'routeIdx': 4,\n",
       "     'lon': 11.971852,\n",
       "     'lat': 57.710271,\n",
       "     'arrTime': '15:00:00',\n",
       "     'arrDate': '2025-01-29',\n",
       "     'minimumChangeDuration': 'PT5M'}]},\n",
       "  'JourneyDetail': {'ref': '1|9315|1|1|29012025',\n",
       "   'dayOfOperation': '2025-01-29'},\n",
       "  'id': '0',\n",
       "  'idx': 0,\n",
       "  'name': 'Expressbuss 600',\n",
       "  'number': '600',\n",
       "  'category': 'BXB',\n",
       "  'type': 'JNY',\n",
       "  'reachable': True,\n",
       "  'waitingState': 'UNDEF',\n",
       "  'direction': 'Oslo Bussterminal (Norge)',\n",
       "  'directionFlag': '2',\n",
       "  'duration': 'PT4H',\n",
       "  'minimumChangeDuration': 'PT3M'},\n",
       " {'Origin': {'name': 'Göteborg Nils Ericsonterminal',\n",
       "   'type': 'ST',\n",
       "   'id': 'A=1@O=Göteborg Nils Ericsonterminal@X=11971852@Y=57710271@U=1@L=740020483@',\n",
       "   'extId': '740020483',\n",
       "   'lon': 11.971852,\n",
       "   'lat': 57.710271,\n",
       "   'time': '15:00:00',\n",
       "   'date': '2025-01-29',\n",
       "   'minimumChangeDuration': 'PT5M'},\n",
       "  'Destination': {'name': 'Göteborg Centralstation',\n",
       "   'type': 'ST',\n",
       "   'id': 'A=1@O=Göteborg Centralstation@X=11973479@Y=57708895@U=1@L=740000002@',\n",
       "   'extId': '740000002',\n",
       "   'lon': 11.973479,\n",
       "   'lat': 57.708895,\n",
       "   'time': '15:03:00',\n",
       "   'date': '2025-01-29',\n",
       "   'minimumChangeDuration': 'PT15M'},\n",
       "  'GisRef': {'ref': 'G|1|G@F|A=1@O=Göteborg Nils Ericsonterminal@L=740020483@a=128@|A=1@O=Göteborg Centralstation@L=740000002@a=128@|29012025|150000|150300|fb|ft@0@2000@120@1@100@1@0@0@@@@@false@0@-1@0@-1@-1@$f@$f@$f@$f@$f@$§bt@0@2000@120@1@100@1@0@0@@@@@false@0@-1@0@-1@-1@$f@$f@$f@$f@$f@$§tt@0@5000@120@1@100@1@0@0@@@@@false@0@-1@0@-1@-1@$f@$f@$f@$f@$f@$§||||'},\n",
       "  'GisRoute': {'dist': 187, 'durS': 'PT3M', 'dirGeo': 0},\n",
       "  'Product': [{'icon': {'res': 'prod_walk'},\n",
       "    'name': 'Promenad',\n",
       "    'internalName': 'Promenad'}],\n",
       "  'id': '1',\n",
       "  'idx': 1,\n",
       "  'name': 'Promenad',\n",
       "  'type': 'WALK',\n",
       "  'duration': 'PT3M',\n",
       "  'dist': 187}]"
      ]
     },
     "execution_count": 15,
     "metadata": {},
     "output_type": "execute_result"
    }
   ],
   "source": [
    "planner.trips[0][\"LegList\"][\"Leg\"]"
   ]
  },
  {
   "cell_type": "code",
   "execution_count": 16,
   "metadata": {},
   "outputs": [
    {
     "data": {
      "text/plain": [
       "6"
      ]
     },
     "execution_count": 16,
     "metadata": {},
     "output_type": "execute_result"
    }
   ],
   "source": [
    "len(planner.trips[0][\"rtDuration\"]) # duration on train #"
   ]
  },
  {
   "cell_type": "code",
   "execution_count": 17,
   "metadata": {},
   "outputs": [
    {
     "data": {
      "text/plain": [
       "'11:00:00'"
      ]
     },
     "execution_count": 17,
     "metadata": {},
     "output_type": "execute_result"
    }
   ],
   "source": [
    "planner.trips[0][\"Origin\"][\"time\"] #departure time"
   ]
  },
  {
   "cell_type": "code",
   "execution_count": 18,
   "metadata": {},
   "outputs": [
    {
     "data": {
      "text/plain": [
       "'15:03:00'"
      ]
     },
     "execution_count": 18,
     "metadata": {},
     "output_type": "execute_result"
    }
   ],
   "source": [
    "planner.trips[0][\"Destination\"][\"time\"] #arrival time"
   ]
  },
  {
   "cell_type": "code",
   "execution_count": 19,
   "metadata": {},
   "outputs": [
    {
     "data": {
      "text/plain": [
       "'PT4H3M'"
      ]
     },
     "execution_count": 19,
     "metadata": {},
     "output_type": "execute_result"
    }
   ],
   "source": [
    "planner.trips[0][\"duration\"] #total time for trip in ISO8601 format"
   ]
  },
  {
   "cell_type": "code",
   "execution_count": 37,
   "metadata": {},
   "outputs": [
    {
     "data": {
      "text/plain": [
       "[{'icon': {'res': 'prod_gen'},\n",
       "  'operatorInfo': {'name': 'Vy Bus4You',\n",
       "   'nameS': '327',\n",
       "   'nameN': '327',\n",
       "   'nameL': 'Vy Bus4You',\n",
       "   'id': '327'},\n",
       "  'name': 'Expressbuss 600',\n",
       "  'internalName': 'Expressbuss 600',\n",
       "  'displayNumber': '600',\n",
       "  'num': '600',\n",
       "  'line': '600',\n",
       "  'lineId': '1327060000001',\n",
       "  'catOut': 'BXB',\n",
       "  'catIn': 'BXB',\n",
       "  'catCode': '3',\n",
       "  'cls': '8',\n",
       "  'catOutS': 'BXB',\n",
       "  'catOutL': 'Expressbuss',\n",
       "  'operatorCode': '327',\n",
       "  'operator': 'Vy Bus4You',\n",
       "  'admin': '327___',\n",
       "  'routeIdxFrom': 0,\n",
       "  'routeIdxTo': 4,\n",
       "  'matchId': '600;600;605'}]"
      ]
     },
     "execution_count": 37,
     "metadata": {},
     "output_type": "execute_result"
    }
   ],
   "source": [
    "planner.trips[0][\"LegList\"][\"Leg\"][0][\"Product\"]"
   ]
  },
  {
   "cell_type": "code",
   "execution_count": 42,
   "metadata": {},
   "outputs": [
    {
     "data": {
      "text/plain": [
       "'PT20M'"
      ]
     },
     "execution_count": 42,
     "metadata": {},
     "output_type": "execute_result"
    }
   ],
   "source": [
    "planner.trips[0][\"Origin\"][\"minimumChangeDuration\"]"
   ]
  },
  {
   "cell_type": "code",
   "execution_count": 58,
   "metadata": {},
   "outputs": [
    {
     "data": {
      "text/plain": [
       "dict_keys(['Origin', 'Destination', 'Notes', 'JourneyDetailRef', 'JourneyStatus', 'Product', 'Stops', 'JourneyDetail', 'id', 'idx', 'name', 'number', 'category', 'type', 'reachable', 'waitingState', 'direction', 'directionFlag', 'duration', 'minimumChangeDuration'])"
      ]
     },
     "execution_count": 58,
     "metadata": {},
     "output_type": "execute_result"
    }
   ],
   "source": [
    "planner.trips[0][\"LegList\"][\"Leg\"][0].keys()"
   ]
  },
  {
   "cell_type": "code",
   "execution_count": 20,
   "metadata": {},
   "outputs": [
    {
     "data": {
      "text/html": [
       "<div>\n",
       "<style scoped>\n",
       "    .dataframe tbody tr th:only-of-type {\n",
       "        vertical-align: middle;\n",
       "    }\n",
       "\n",
       "    .dataframe tbody tr th {\n",
       "        vertical-align: top;\n",
       "    }\n",
       "\n",
       "    .dataframe thead th {\n",
       "        text-align: right;\n",
       "    }\n",
       "</style>\n",
       "<table border=\"1\" class=\"dataframe\">\n",
       "  <thead>\n",
       "    <tr style=\"text-align: right;\">\n",
       "      <th></th>\n",
       "      <th>name</th>\n",
       "      <th>id</th>\n",
       "      <th>extId</th>\n",
       "      <th>routeIdx</th>\n",
       "      <th>lon</th>\n",
       "      <th>lat</th>\n",
       "      <th>depPrognosisType</th>\n",
       "      <th>depTime</th>\n",
       "      <th>depDate</th>\n",
       "      <th>depDir</th>\n",
       "      <th>minimumChangeDuration</th>\n",
       "      <th>arrTime</th>\n",
       "      <th>arrDate</th>\n",
       "    </tr>\n",
       "  </thead>\n",
       "  <tbody>\n",
       "    <tr>\n",
       "      <th>0</th>\n",
       "      <td>Malmö C Norra Vallgatan</td>\n",
       "      <td>A=1@O=Malmö C Norra Vallgatan@X=13000083@Y=556...</td>\n",
       "      <td>740072050</td>\n",
       "      <td>0</td>\n",
       "      <td>13.000083</td>\n",
       "      <td>55.607918</td>\n",
       "      <td>PROGNOSED</td>\n",
       "      <td>11:00:00</td>\n",
       "      <td>2025-01-29</td>\n",
       "      <td>Oslo Bussterminal (Norge)</td>\n",
       "      <td>PT20M</td>\n",
       "      <td>NaN</td>\n",
       "      <td>NaN</td>\n",
       "    </tr>\n",
       "    <tr>\n",
       "      <th>1</th>\n",
       "      <td>Lund Centralstation</td>\n",
       "      <td>A=1@O=Lund Centralstation@X=13186897@Y=5570809...</td>\n",
       "      <td>740000120</td>\n",
       "      <td>1</td>\n",
       "      <td>13.186897</td>\n",
       "      <td>55.708094</td>\n",
       "      <td>NaN</td>\n",
       "      <td>11:25:00</td>\n",
       "      <td>2025-01-29</td>\n",
       "      <td>NaN</td>\n",
       "      <td>PT10M</td>\n",
       "      <td>11:25:00</td>\n",
       "      <td>2025-01-29</td>\n",
       "    </tr>\n",
       "    <tr>\n",
       "      <th>2</th>\n",
       "      <td>Helsingborg Centralstation</td>\n",
       "      <td>A=1@O=Helsingborg Centralstation@X=12694261@Y=...</td>\n",
       "      <td>740000044</td>\n",
       "      <td>2</td>\n",
       "      <td>12.694261</td>\n",
       "      <td>56.044408</td>\n",
       "      <td>NaN</td>\n",
       "      <td>12:15:00</td>\n",
       "      <td>2025-01-29</td>\n",
       "      <td>NaN</td>\n",
       "      <td>PT9M</td>\n",
       "      <td>12:15:00</td>\n",
       "      <td>2025-01-29</td>\n",
       "    </tr>\n",
       "    <tr>\n",
       "      <th>3</th>\n",
       "      <td>Halmstad C Resecentrum</td>\n",
       "      <td>A=1@O=Halmstad C Resecentrum@X=12865811@Y=5667...</td>\n",
       "      <td>740043449</td>\n",
       "      <td>3</td>\n",
       "      <td>12.865811</td>\n",
       "      <td>56.670273</td>\n",
       "      <td>NaN</td>\n",
       "      <td>13:20:00</td>\n",
       "      <td>2025-01-29</td>\n",
       "      <td>NaN</td>\n",
       "      <td>PT5M</td>\n",
       "      <td>13:20:00</td>\n",
       "      <td>2025-01-29</td>\n",
       "    </tr>\n",
       "    <tr>\n",
       "      <th>4</th>\n",
       "      <td>Göteborg Nils Ericsonterminal</td>\n",
       "      <td>A=1@O=Göteborg Nils Ericsonterminal@X=11971852...</td>\n",
       "      <td>740020483</td>\n",
       "      <td>4</td>\n",
       "      <td>11.971852</td>\n",
       "      <td>57.710271</td>\n",
       "      <td>NaN</td>\n",
       "      <td>NaN</td>\n",
       "      <td>NaN</td>\n",
       "      <td>NaN</td>\n",
       "      <td>PT5M</td>\n",
       "      <td>15:00:00</td>\n",
       "      <td>2025-01-29</td>\n",
       "    </tr>\n",
       "  </tbody>\n",
       "</table>\n",
       "</div>"
      ],
      "text/plain": [
       "                            name  \\\n",
       "0        Malmö C Norra Vallgatan   \n",
       "1            Lund Centralstation   \n",
       "2     Helsingborg Centralstation   \n",
       "3         Halmstad C Resecentrum   \n",
       "4  Göteborg Nils Ericsonterminal   \n",
       "\n",
       "                                                  id      extId  routeIdx  \\\n",
       "0  A=1@O=Malmö C Norra Vallgatan@X=13000083@Y=556...  740072050         0   \n",
       "1  A=1@O=Lund Centralstation@X=13186897@Y=5570809...  740000120         1   \n",
       "2  A=1@O=Helsingborg Centralstation@X=12694261@Y=...  740000044         2   \n",
       "3  A=1@O=Halmstad C Resecentrum@X=12865811@Y=5667...  740043449         3   \n",
       "4  A=1@O=Göteborg Nils Ericsonterminal@X=11971852...  740020483         4   \n",
       "\n",
       "         lon        lat depPrognosisType   depTime     depDate  \\\n",
       "0  13.000083  55.607918        PROGNOSED  11:00:00  2025-01-29   \n",
       "1  13.186897  55.708094              NaN  11:25:00  2025-01-29   \n",
       "2  12.694261  56.044408              NaN  12:15:00  2025-01-29   \n",
       "3  12.865811  56.670273              NaN  13:20:00  2025-01-29   \n",
       "4  11.971852  57.710271              NaN       NaN         NaN   \n",
       "\n",
       "                      depDir minimumChangeDuration   arrTime     arrDate  \n",
       "0  Oslo Bussterminal (Norge)                 PT20M       NaN         NaN  \n",
       "1                        NaN                 PT10M  11:25:00  2025-01-29  \n",
       "2                        NaN                  PT9M  12:15:00  2025-01-29  \n",
       "3                        NaN                  PT5M  13:20:00  2025-01-29  \n",
       "4                        NaN                  PT5M  15:00:00  2025-01-29  "
      ]
     },
     "execution_count": 20,
     "metadata": {},
     "output_type": "execute_result"
    }
   ],
   "source": [
    "# lista på stoppen mellan malmö och gbg\n",
    "import pandas as pd\n",
    "Stops_next_trip = planner.trips[0][\"LegList\"][\"Leg\"][0][\"Stops\"][\"Stop\"]\n",
    "pd.DataFrame(Stops_next_trip)"
   ]
  },
  {
   "cell_type": "code",
   "execution_count": 21,
   "metadata": {},
   "outputs": [
    {
     "name": "stdout",
     "output_type": "stream",
     "text": [
      "The first trip has 13 stops.\n"
     ]
    }
   ],
   "source": [
    "trip = planner.trips[1] \n",
    "\n",
    "stops_count = planner.def_stops_on_trip(trip)\n",
    "\n",
    "print(f\"The first trip has {stops_count} stops.\")\n"
   ]
  },
  {
   "cell_type": "code",
   "execution_count": 46,
   "metadata": {},
   "outputs": [
    {
     "name": "stdout",
     "output_type": "stream",
     "text": [
      "Total trips available between MALMÖ and Göteborg Centralstation are: 5\n",
      "True\n",
      "Trip 1 between MALMÖ and Göteborg Centralstation has 5 stops. Duration : PT4H3M departure: 11:00:00 Time of arrival:15:03:00 Operator: Vy Bus4You Changes: 1 change duration: PT20M\n",
      "Trip 2 between MALMÖ and Göteborg Centralstation has 13 stops. Duration : PT3H8M departure: 11:12:00 Time of arrival:14:20:00 Operator: Öresundståg Changes: 0 change duration: PT15M\n",
      "Trip 3 between MALMÖ and Göteborg Centralstation has 13 stops. Duration : PT3H8M departure: 12:12:00 Time of arrival:15:20:00 Operator: Öresundståg Changes: 0 change duration: PT15M\n",
      "Trip 4 between MALMÖ and Göteborg Centralstation has 5 stops. Duration : PT2H34M departure: 13:01:00 Time of arrival:15:35:00 Operator: SJ Changes: 0 change duration: PT15M\n",
      "Trip 5 between MALMÖ and Göteborg Centralstation has 13 stops. Duration : PT3H8M departure: 13:12:00 Time of arrival:16:20:00 Operator: Öresundståg Changes: 0 change duration: PT15M\n"
     ]
    }
   ],
   "source": [
    "\n",
    "origin_id = 740098548  # Malmö\n",
    "destination_id = 740000002  # Göteborg\n",
    "\n",
    "planner = TripPlanner(origin_id, destination_id)\n",
    "\n",
    "origin_name = planner.get_location_name(origin_id)\n",
    "destination_name = planner.get_location_name(destination_id)\n",
    "\n",
    "#trips available with stops and duration\n",
    "\n",
    "print(f\"Total trips available between {origin_name} and {destination_name} are: {planner.number_trips}\")\n",
    "print(hasattr(planner, \"changes_on_trip\"))  # Should return True if the method is present\n",
    "\n",
    "for index, (trip, departure) in enumerate (zip(planner.trips, planner.timetable_departure)):\n",
    "    duration = trip.get(\"duration\", \"unknown\")\n",
    "    departure =trip.get(\"Origin\", {}).get(\"time\", \"unknown\")\n",
    "    ArrTime = trip.get(\"Destination\", {}).get(\"time\",\"unknown\")\n",
    "    Operator = trip[\"LegList\"][\"Leg\"][0][\"Product\"][0][\"operator\"]\n",
    "    ChangeDuration = trip[\"Origin\"][\"minimumChangeDuration\"]\n",
    "\n",
    "    stops_count = planner.def_stops_on_trip(trip)\n",
    "    trip_changes = planner.changes_on_trip(index)\n",
    "    print(f\"Trip {index + 1} between {origin_name} and {destination_name} has {stops_count} stops. Duration : {duration} departure: {departure} Time of arrival:{ArrTime} Operator: {Operator} Changes: {trip_changes} change duration: {ChangeDuration}\" ) \n",
    "   "
   ]
  },
  {
   "cell_type": "code",
   "execution_count": 23,
   "metadata": {},
   "outputs": [
    {
     "name": "stdout",
     "output_type": "stream",
     "text": [
      "Trip 1 between MALMÖ and Göteborg Centralstation has 5 stops.\n",
      "Stops DataFrame for Trip 1:\n",
      "                             name  \\\n",
      "0        Malmö C Norra Vallgatan   \n",
      "1            Lund Centralstation   \n",
      "2     Helsingborg Centralstation   \n",
      "3         Halmstad C Resecentrum   \n",
      "4  Göteborg Nils Ericsonterminal   \n",
      "\n",
      "                                                  id      extId  routeIdx  \\\n",
      "0  A=1@O=Malmö C Norra Vallgatan@X=13000083@Y=556...  740072050         0   \n",
      "1  A=1@O=Lund Centralstation@X=13186897@Y=5570809...  740000120         1   \n",
      "2  A=1@O=Helsingborg Centralstation@X=12694261@Y=...  740000044         2   \n",
      "3  A=1@O=Halmstad C Resecentrum@X=12865811@Y=5667...  740043449         3   \n",
      "4  A=1@O=Göteborg Nils Ericsonterminal@X=11971852...  740020483         4   \n",
      "\n",
      "         lon        lat depPrognosisType   depTime     depDate  \\\n",
      "0  13.000083  55.607918        PROGNOSED  11:00:00  2025-01-29   \n",
      "1  13.186897  55.708094              NaN  11:25:00  2025-01-29   \n",
      "2  12.694261  56.044408              NaN  12:15:00  2025-01-29   \n",
      "3  12.865811  56.670273              NaN  13:20:00  2025-01-29   \n",
      "4  11.971852  57.710271              NaN       NaN         NaN   \n",
      "\n",
      "                      depDir minimumChangeDuration   arrTime     arrDate  \n",
      "0  Oslo Bussterminal (Norge)                 PT20M       NaN         NaN  \n",
      "1                        NaN                 PT10M  11:25:00  2025-01-29  \n",
      "2                        NaN                  PT9M  12:15:00  2025-01-29  \n",
      "3                        NaN                  PT5M  13:20:00  2025-01-29  \n",
      "4                        NaN                  PT5M  15:00:00  2025-01-29  \n",
      "Trip 2 between MALMÖ and Göteborg Centralstation has 13 stops.\n",
      "Stops DataFrame for Trip 2:\n",
      "                           name  \\\n",
      "0         Malmö Centralstation   \n",
      "1          Lund Centralstation   \n",
      "2           Landskrona station   \n",
      "3   Helsingborg Centralstation   \n",
      "4            Ängelholm station   \n",
      "5               Båstad station   \n",
      "6               Laholm station   \n",
      "7      Halmstad Centralstation   \n",
      "8           Falkenberg station   \n",
      "9              Varberg station   \n",
      "10          Kungsbacka station   \n",
      "11             Mölndal station   \n",
      "12     Göteborg Centralstation   \n",
      "\n",
      "                                                   id      extId  routeIdx  \\\n",
      "0   A=1@O=Malmö Centralstation@X=13000910@Y=556094...  740000003         8   \n",
      "1   A=1@O=Lund Centralstation@X=13186897@Y=5570809...  740000120         9   \n",
      "2   A=1@O=Landskrona station@X=12857406@Y=55878898...  740001554        10   \n",
      "3   A=1@O=Helsingborg Centralstation@X=12694261@Y=...  740000044        11   \n",
      "4   A=1@O=Ängelholm station@X=12854197@Y=56245200@...  740000064        12   \n",
      "5   A=1@O=Båstad station@X=12906991@Y=56431834@U=1...  740001603        13   \n",
      "6   A=1@O=Laholm station@X=12999606@Y=56501905@U=1...  740000058        14   \n",
      "7   A=1@O=Halmstad Centralstation@X=12864840@Y=566...  740000080        15   \n",
      "8   A=1@O=Falkenberg station@X=12507555@Y=56919768...  740001579        16   \n",
      "9   A=1@O=Varberg station@X=12248081@Y=57109378@U=...  740000110        17   \n",
      "10  A=1@O=Kungsbacka station@X=12079614@Y=57490556...  740000161        18   \n",
      "11  A=1@O=Mölndal station@X=12018722@Y=57655958@U=...  740000315        19   \n",
      "12  A=1@O=Göteborg Centralstation@X=11973479@Y=577...  740000002        20   \n",
      "\n",
      "          lon        lat   depTime     depDate                   depDir  \\\n",
      "0   13.000910  55.609456  11:12:00  2025-01-29  Göteborg Centralstation   \n",
      "1   13.186897  55.708094  11:24:00  2025-01-29                      NaN   \n",
      "2   12.857406  55.878898  11:39:00  2025-01-29                      NaN   \n",
      "3   12.694261  56.044408  12:00:00  2025-01-29                      NaN   \n",
      "4   12.854197  56.245200  12:16:00  2025-01-29                      NaN   \n",
      "5   12.906991  56.431834  12:28:00  2025-01-29                      NaN   \n",
      "6   12.999606  56.501905  12:35:00  2025-01-29                      NaN   \n",
      "7   12.864840  56.669275  12:56:00  2025-01-29                      NaN   \n",
      "8   12.507555  56.919768  13:13:00  2025-01-29                      NaN   \n",
      "9   12.248081  57.109378  13:35:00  2025-01-29                      NaN   \n",
      "10  12.079614  57.490556  13:59:00  2025-01-29                      NaN   \n",
      "11  12.018722  57.655958  14:10:00  2025-01-29                      NaN   \n",
      "12  11.973479  57.708895       NaN         NaN                      NaN   \n",
      "\n",
      "   minimumChangeDuration   arrTime     arrDate arrPrognosisType  \n",
      "0                  PT15M       NaN         NaN              NaN  \n",
      "1                  PT10M  11:22:00  2025-01-29              NaN  \n",
      "2                   PT9M  11:39:00  2025-01-29              NaN  \n",
      "3                   PT9M  11:53:00  2025-01-29              NaN  \n",
      "4                  PT10M  12:16:00  2025-01-29              NaN  \n",
      "5                   PT4M  12:28:00  2025-01-29              NaN  \n",
      "6                   PT9M  12:35:00  2025-01-29              NaN  \n",
      "7                  PT10M  12:46:00  2025-01-29              NaN  \n",
      "8                   PT4M  13:13:00  2025-01-29              NaN  \n",
      "9                   PT5M  13:30:00  2025-01-29              NaN  \n",
      "10                  PT5M  13:59:00  2025-01-29              NaN  \n",
      "11                  PT9M  14:10:00  2025-01-29              NaN  \n",
      "12                 PT15M  14:20:00  2025-01-29        PROGNOSED  \n",
      "Trip 3 between MALMÖ and Göteborg Centralstation has 13 stops.\n",
      "Stops DataFrame for Trip 3:\n",
      "                           name  \\\n",
      "0         Malmö Centralstation   \n",
      "1          Lund Centralstation   \n",
      "2           Landskrona station   \n",
      "3   Helsingborg Centralstation   \n",
      "4            Ängelholm station   \n",
      "5               Båstad station   \n",
      "6               Laholm station   \n",
      "7      Halmstad Centralstation   \n",
      "8           Falkenberg station   \n",
      "9              Varberg station   \n",
      "10          Kungsbacka station   \n",
      "11             Mölndal station   \n",
      "12     Göteborg Centralstation   \n",
      "\n",
      "                                                   id      extId  routeIdx  \\\n",
      "0   A=1@O=Malmö Centralstation@X=13000910@Y=556094...  740000003         8   \n",
      "1   A=1@O=Lund Centralstation@X=13186897@Y=5570809...  740000120         9   \n",
      "2   A=1@O=Landskrona station@X=12857406@Y=55878898...  740001554        10   \n",
      "3   A=1@O=Helsingborg Centralstation@X=12694261@Y=...  740000044        11   \n",
      "4   A=1@O=Ängelholm station@X=12854197@Y=56245200@...  740000064        12   \n",
      "5   A=1@O=Båstad station@X=12906991@Y=56431834@U=1...  740001603        13   \n",
      "6   A=1@O=Laholm station@X=12999606@Y=56501905@U=1...  740000058        14   \n",
      "7   A=1@O=Halmstad Centralstation@X=12864840@Y=566...  740000080        15   \n",
      "8   A=1@O=Falkenberg station@X=12507555@Y=56919768...  740001579        16   \n",
      "9   A=1@O=Varberg station@X=12248081@Y=57109378@U=...  740000110        17   \n",
      "10  A=1@O=Kungsbacka station@X=12079614@Y=57490556...  740000161        18   \n",
      "11  A=1@O=Mölndal station@X=12018722@Y=57655958@U=...  740000315        19   \n",
      "12  A=1@O=Göteborg Centralstation@X=11973479@Y=577...  740000002        20   \n",
      "\n",
      "          lon        lat   depTime     depDate                   depDir  \\\n",
      "0   13.000910  55.609456  12:12:00  2025-01-29  Göteborg Centralstation   \n",
      "1   13.186897  55.708094  12:24:00  2025-01-29                      NaN   \n",
      "2   12.857406  55.878898  12:39:00  2025-01-29                      NaN   \n",
      "3   12.694261  56.044408  13:00:00  2025-01-29                      NaN   \n",
      "4   12.854197  56.245200  13:16:00  2025-01-29                      NaN   \n",
      "5   12.906991  56.431834  13:28:00  2025-01-29                      NaN   \n",
      "6   12.999606  56.501905  13:35:00  2025-01-29                      NaN   \n",
      "7   12.864840  56.669275  13:56:00  2025-01-29                      NaN   \n",
      "8   12.507555  56.919768  14:13:00  2025-01-29                      NaN   \n",
      "9   12.248081  57.109378  14:35:00  2025-01-29                      NaN   \n",
      "10  12.079614  57.490556  14:59:00  2025-01-29                      NaN   \n",
      "11  12.018722  57.655958  15:10:00  2025-01-29                      NaN   \n",
      "12  11.973479  57.708895       NaN         NaN                      NaN   \n",
      "\n",
      "   minimumChangeDuration   arrTime     arrDate arrPrognosisType  \n",
      "0                  PT15M       NaN         NaN              NaN  \n",
      "1                  PT10M  12:22:00  2025-01-29              NaN  \n",
      "2                   PT9M  12:39:00  2025-01-29              NaN  \n",
      "3                   PT9M  12:53:00  2025-01-29              NaN  \n",
      "4                  PT10M  13:16:00  2025-01-29              NaN  \n",
      "5                   PT4M  13:28:00  2025-01-29              NaN  \n",
      "6                   PT9M  13:35:00  2025-01-29              NaN  \n",
      "7                  PT10M  13:46:00  2025-01-29              NaN  \n",
      "8                   PT4M  14:13:00  2025-01-29              NaN  \n",
      "9                   PT5M  14:30:00  2025-01-29              NaN  \n",
      "10                  PT5M  14:59:00  2025-01-29              NaN  \n",
      "11                  PT9M  15:10:00  2025-01-29              NaN  \n",
      "12                 PT15M  15:20:00  2025-01-29        PROGNOSED  \n",
      "Trip 4 between MALMÖ and Göteborg Centralstation has 5 stops.\n",
      "Stops DataFrame for Trip 4:\n",
      "                          name  \\\n",
      "0        Malmö Centralstation   \n",
      "1         Lund Centralstation   \n",
      "2  Helsingborg Centralstation   \n",
      "3     Halmstad Centralstation   \n",
      "4     Göteborg Centralstation   \n",
      "\n",
      "                                                  id      extId  routeIdx  \\\n",
      "0  A=1@O=Malmö Centralstation@X=13000910@Y=556094...  740000003         0   \n",
      "1  A=1@O=Lund Centralstation@X=13186897@Y=5570809...  740000120         1   \n",
      "2  A=1@O=Helsingborg Centralstation@X=12694261@Y=...  740000044         2   \n",
      "3  A=1@O=Halmstad Centralstation@X=12864840@Y=566...  740000080         3   \n",
      "4  A=1@O=Göteborg Centralstation@X=11973479@Y=577...  740000002         4   \n",
      "\n",
      "         lon        lat depPrognosisType   depTime     depDate  \\\n",
      "0  13.000910  55.609456        PROGNOSED  13:01:00  2025-01-29   \n",
      "1  13.186897  55.708094              NaN  13:17:00  2025-01-29   \n",
      "2  12.694261  56.044408              NaN  13:43:00  2025-01-29   \n",
      "3  12.864840  56.669275              NaN  14:21:00  2025-01-29   \n",
      "4  11.973479  57.708895              NaN       NaN         NaN   \n",
      "\n",
      "                    depDir minimumChangeDuration  \\\n",
      "0  Göteborg Centralstation                 PT15M   \n",
      "1                      NaN                 PT10M   \n",
      "2                      NaN                  PT9M   \n",
      "3                      NaN                 PT10M   \n",
      "4                      NaN                 PT15M   \n",
      "\n",
      "                                               Notes alighting   arrTime  \\\n",
      "0                                                NaN       NaN       NaN   \n",
      "1  {'Note': [{'value': 'Stannar endast för påstig...     False       NaN   \n",
      "2                                                NaN       NaN  13:42:00   \n",
      "3                                                NaN       NaN  14:20:00   \n",
      "4                                                NaN       NaN  15:35:00   \n",
      "\n",
      "      arrDate arrPrognosisType  \n",
      "0         NaN              NaN  \n",
      "1         NaN              NaN  \n",
      "2  2025-01-29              NaN  \n",
      "3  2025-01-29              NaN  \n",
      "4  2025-01-29        PROGNOSED  \n",
      "Trip 5 between MALMÖ and Göteborg Centralstation has 13 stops.\n",
      "Stops DataFrame for Trip 5:\n",
      "                           name  \\\n",
      "0         Malmö Centralstation   \n",
      "1          Lund Centralstation   \n",
      "2           Landskrona station   \n",
      "3   Helsingborg Centralstation   \n",
      "4            Ängelholm station   \n",
      "5               Båstad station   \n",
      "6               Laholm station   \n",
      "7      Halmstad Centralstation   \n",
      "8           Falkenberg station   \n",
      "9              Varberg station   \n",
      "10          Kungsbacka station   \n",
      "11             Mölndal station   \n",
      "12     Göteborg Centralstation   \n",
      "\n",
      "                                                   id      extId  routeIdx  \\\n",
      "0   A=1@O=Malmö Centralstation@X=13000910@Y=556094...  740000003         8   \n",
      "1   A=1@O=Lund Centralstation@X=13186897@Y=5570809...  740000120         9   \n",
      "2   A=1@O=Landskrona station@X=12857406@Y=55878898...  740001554        10   \n",
      "3   A=1@O=Helsingborg Centralstation@X=12694261@Y=...  740000044        11   \n",
      "4   A=1@O=Ängelholm station@X=12854197@Y=56245200@...  740000064        12   \n",
      "5   A=1@O=Båstad station@X=12906991@Y=56431834@U=1...  740001603        13   \n",
      "6   A=1@O=Laholm station@X=12999606@Y=56501905@U=1...  740000058        14   \n",
      "7   A=1@O=Halmstad Centralstation@X=12864840@Y=566...  740000080        15   \n",
      "8   A=1@O=Falkenberg station@X=12507555@Y=56919768...  740001579        16   \n",
      "9   A=1@O=Varberg station@X=12248081@Y=57109378@U=...  740000110        17   \n",
      "10  A=1@O=Kungsbacka station@X=12079614@Y=57490556...  740000161        18   \n",
      "11  A=1@O=Mölndal station@X=12018722@Y=57655958@U=...  740000315        19   \n",
      "12  A=1@O=Göteborg Centralstation@X=11973479@Y=577...  740000002        20   \n",
      "\n",
      "          lon        lat   depTime     depDate                   depDir  \\\n",
      "0   13.000910  55.609456  13:12:00  2025-01-29  Göteborg Centralstation   \n",
      "1   13.186897  55.708094  13:24:00  2025-01-29                      NaN   \n",
      "2   12.857406  55.878898  13:39:00  2025-01-29                      NaN   \n",
      "3   12.694261  56.044408  14:00:00  2025-01-29                      NaN   \n",
      "4   12.854197  56.245200  14:16:00  2025-01-29                      NaN   \n",
      "5   12.906991  56.431834  14:28:00  2025-01-29                      NaN   \n",
      "6   12.999606  56.501905  14:35:00  2025-01-29                      NaN   \n",
      "7   12.864840  56.669275  14:56:00  2025-01-29                      NaN   \n",
      "8   12.507555  56.919768  15:13:00  2025-01-29                      NaN   \n",
      "9   12.248081  57.109378  15:35:00  2025-01-29                      NaN   \n",
      "10  12.079614  57.490556  15:59:00  2025-01-29                      NaN   \n",
      "11  12.018722  57.655958  16:10:00  2025-01-29                      NaN   \n",
      "12  11.973479  57.708895       NaN         NaN                      NaN   \n",
      "\n",
      "   minimumChangeDuration   arrTime     arrDate arrPrognosisType  \n",
      "0                  PT15M       NaN         NaN              NaN  \n",
      "1                  PT10M  13:22:00  2025-01-29              NaN  \n",
      "2                   PT9M  13:39:00  2025-01-29              NaN  \n",
      "3                   PT9M  13:53:00  2025-01-29              NaN  \n",
      "4                  PT10M  14:16:00  2025-01-29              NaN  \n",
      "5                   PT4M  14:28:00  2025-01-29              NaN  \n",
      "6                   PT9M  14:35:00  2025-01-29              NaN  \n",
      "7                  PT10M  14:46:00  2025-01-29              NaN  \n",
      "8                   PT4M  15:13:00  2025-01-29              NaN  \n",
      "9                   PT5M  15:30:00  2025-01-29              NaN  \n",
      "10                  PT5M  15:59:00  2025-01-29              NaN  \n",
      "11                  PT9M  16:10:00  2025-01-29              NaN  \n",
      "12                 PT15M  16:20:00  2025-01-29        PROGNOSED  \n"
     ]
    }
   ],
   "source": [
    "for index, trip in enumerate(planner.trips):\n",
    "    try:\n",
    "        # Extract stops for this specific trip into Stops_next_trip\n",
    "        Stops_next_trip = trip[\"LegList\"][\"Leg\"][0][\"Stops\"][\"Stop\"]\n",
    "        df_stops = pd.DataFrame(Stops_next_trip)  # DataFrame already created here\n",
    "\n",
    "        # Get the number of stops using def_stops_on_trip\n",
    "        stops_count = planner.def_stops_on_trip(trip)\n",
    "\n",
    "        # Print trip details\n",
    "        print(f\"Trip {index + 1} between {origin_name} and {destination_name} has {stops_count} stops.\")\n",
    "        print(f\"Stops DataFrame for Trip {index + 1}:\\n\", df_stops)  # Use DataFrame for exploration\n",
    "\n",
    "    except (KeyError, IndexError) as e:\n",
    "        print(f\"Error processing trip {index + 1}: {e}\")\n"
   ]
  }
 ],
 "metadata": {
  "kernelspec": {
   "display_name": ".venv",
   "language": "python",
   "name": "python3"
  },
  "language_info": {
   "codemirror_mode": {
    "name": "ipython",
    "version": 3
   },
   "file_extension": ".py",
   "mimetype": "text/x-python",
   "name": "python",
   "nbconvert_exporter": "python",
   "pygments_lexer": "ipython3",
   "version": "3.11.7"
  }
 },
 "nbformat": 4,
 "nbformat_minor": 2
}
